{
 "cells": [
  {
   "cell_type": "markdown",
   "metadata": {},
   "source": [
    "# Establishing Consensus Host Taxonomy for vOTU Set  "
   ]
  },
  {
   "cell_type": "code",
   "execution_count": 1,
   "metadata": {
    "tags": []
   },
   "outputs": [],
   "source": [
    "import re,glob,os\n",
    "import pandas as pd\n",
    "import subprocess as sp\n",
    "import matplotlib\n",
    "import matplotlib.pyplot as plt\n",
    "import numpy as np\n",
    "import pandas as pd\n",
    "from Bio import SeqIO, SeqUtils\n",
    "import seaborn as sns\n",
    "from functools import reduce\n",
    "from Bio import Entrez\n",
    "Entrez.email = 'alexa_nicolas@berkeley.edu'"
   ]
  },
  {
   "cell_type": "code",
   "execution_count": 373,
   "metadata": {
    "tags": []
   },
   "outputs": [],
   "source": [
    "reads = pd.read_csv('/groups/banfield/projects/environmental/4thwedge/2021/4Wh2oV/4thwedge_sample_reads.csv')\n",
    "reads['time'] =reads['name*'].str.split(\"_\").str[1].str.replace(\"h\",\"\").astype(int)\n",
    "reads['mg_type'] = 'virome'"
   ]
  },
  {
   "cell_type": "code",
   "execution_count": 212,
   "metadata": {
    "tags": []
   },
   "outputs": [],
   "source": [
    "mg_scaffs_df = pd.DataFrame.from_dict(mg_scaffs,orient='index',columns=['length']).reset_index().rename(columns={'index':'scaffold'})"
   ]
  },
  {
   "cell_type": "code",
   "execution_count": 214,
   "metadata": {},
   "outputs": [],
   "source": [
    "mg_scaffs_df['time'] = mg_scaffs_df['scaffold'].str.split('_').str[1].str.replace(\"h\",\"\").astype(int)"
   ]
  },
  {
   "cell_type": "code",
   "execution_count": 227,
   "metadata": {},
   "outputs": [],
   "source": [
    "mg_scaffs_df = mg_scaffs_df.groupby(['time'],as_index=False).agg({'length':'sum'})\n",
    "mg_scaffs_df['mg_type'] = 'metagenome'"
   ]
  },
  {
   "cell_type": "code",
   "execution_count": 232,
   "metadata": {
    "tags": []
   },
   "outputs": [],
   "source": [
    "scaff_len_df = pd.DataFrame.from_dict(scaff_len,orient='index',columns=['length']).reset_index().rename(columns={'index':'scaffold'})\n",
    "scaff_len_df['time'] = scaff_len_df['scaffold'].str.split('_').str[1].str.replace(\"h\",\"\").astype(int)\n",
    "scaff_len_df = scaff_len_df.groupby(['time'],as_index=False).agg({'length':'sum'})\n",
    "scaff_len_df['mg_type'] = 'virome'"
   ]
  },
  {
   "cell_type": "code",
   "execution_count": 272,
   "metadata": {},
   "outputs": [
    {
     "data": {
      "text/plain": [
       "{0: 1067288104,\n",
       " 3: 1073570477,\n",
       " 24: 732093549,\n",
       " 48: 554750918,\n",
       " 72: 357232637,\n",
       " 168: 311555156}"
      ]
     },
     "execution_count": 272,
     "metadata": {},
     "output_type": "execute_result"
    }
   ],
   "source": [
    "scaff_len_df[['time','length']].set_index('time').to_dict(orient='dict')['length']"
   ]
  },
  {
   "cell_type": "code",
   "execution_count": 285,
   "metadata": {},
   "outputs": [],
   "source": [
    "scaff_len_df_concat = pd.concat([scaff_len_df,mg_scaffs_df])"
   ]
  },
  {
   "cell_type": "code",
   "execution_count": 287,
   "metadata": {},
   "outputs": [],
   "source": [
    "time_type_count_len = time_type_count.merge(scaff_len_df_concat,on=['time','mg_type'],how='left')\n",
    "# time_type_count = time_type_count.merge(scaff_len_df,on=['time','mg_type'],how='left')"
   ]
  },
  {
   "cell_type": "code",
   "execution_count": 424,
   "metadata": {},
   "outputs": [],
   "source": [
    "qlysogenic = qlysogenic.merge(scaff_len_df_concat,on=['time','mg_type'],how='left')\n",
    "qlysogenic = qlysogenic.merge(reads,on=['time','mg_type'],how='left')\n",
    "qlysogenic['putative_virus_per_bp_assembled'] = qlysogenic['scaffold']/qlysogenic['length']\n",
    "qlysogenic['putative_virus_per_bp_reads'] = qlysogenic['scaffold']/qlysogenic['total_read_bp']"
   ]
  },
  {
   "cell_type": "code",
   "execution_count": 289,
   "metadata": {},
   "outputs": [],
   "source": [
    "time_type_count_len['putative_virus_per_bp'] = time_type_count_len['scaffold']/time_type_count_len['scaffold']"
   ]
  },
  {
   "cell_type": "code",
   "execution_count": 374,
   "metadata": {},
   "outputs": [],
   "source": [
    "time_type_count_len = time_type_count_len.merge(reads,on=['time','mg_type'],how='left')"
   ]
  },
  {
   "cell_type": "code",
   "execution_count": 372,
   "metadata": {},
   "outputs": [],
   "source": [
    "# time_type_count_len = time_type_count_len.drop(columns=['total_read_bp','total_assembled_bp'])"
   ]
  },
  {
   "cell_type": "code",
   "execution_count": 399,
   "metadata": {},
   "outputs": [
    {
     "name": "stderr",
     "output_type": "stream",
     "text": [
      "/home/alexa/.pyenv/versions/3.8.2/lib/python3.8/site-packages/seaborn/axisgrid.py:645: UserWarning: Using the barplot function without specifying `order` is likely to produce an incorrect plot.\n",
      "  warnings.warn(warning)\n"
     ]
    },
    {
     "data": {
      "image/png": "[encoded data removed]",
      "text/plain": [
       "<Figure size 432x216 with 2 Axes>"
      ]
     },
     "metadata": {
      "needs_background": "light"
     },
     "output_type": "display_data"
    }
   ],
   "source": [
    "g=sns.FacetGrid(time_type_count_len,col='mg_type',margin_titles=False,sharey=False,sharex=False,hue='mg_type',palette='Greens')\n",
    "g.map(sns.barplot,'time','putative_virus_per_bp')\n",
    "# sns.scatterplot(data=time_type_count,x='time',y='scaffold',hue='mg_type')\n",
    "plt.yscale('log')\n",
    "plt.tight_layout()\n",
    "g.set_axis_labels(\"time\", \"putative viruses per bp assembled\")\n",
    "g.set_titles(\"\",\"\")\n",
    "plt.show()"
   ]
  },
  {
   "cell_type": "code",
   "execution_count": 431,
   "metadata": {
    "collapsed": true,
    "jupyter": {
     "outputs_hidden": true
    },
    "tags": []
   },
   "outputs": [
    {
     "name": "stderr",
     "output_type": "stream",
     "text": [
      "/home/alexa/.pyenv/versions/3.8.2/lib/python3.8/site-packages/seaborn/axisgrid.py:645: UserWarning: Using the barplot function without specifying `order` is likely to produce an incorrect plot.\n",
      "  warnings.warn(warning)\n"
     ]
    },
    {
     "data": {
      "image/png": "[encoded data removed]",
      "text/plain": [
       "<Figure size 432x216 with 2 Axes>"
      ]
     },
     "metadata": {
      "needs_background": "light"
     },
     "output_type": "display_data"
    }
   ],
   "source": [
    "g=sns.FacetGrid(qlysogenic,col='mg_type',margin_titles=False,sharey=False,sharex=False,hue='mg_type',palette='Greens')\n",
    "g.map(sns.barplot,'time','putative_virus_per_bp_assembled')\n",
    "plt.yscale('log')\n",
    "plt.tight_layout()\n",
    "g.set_axis_labels(\"time\", \"putative viruses per bp assembled\")\n",
    "g.set_titles(\"\",\"\")\n",
    "plt.show()"
   ]
  },
  {
   "cell_type": "code",
   "execution_count": 443,
   "metadata": {},
   "outputs": [
    {
     "data": {
      "text/plain": [
       "<matplotlib.axes._subplots.AxesSubplot at 0x7fdf4a999700>"
      ]
     },
     "execution_count": 443,
     "metadata": {},
     "output_type": "execute_result"
    },
    {
     "data": {
      "image/png": "[encoded data removed]",
      "text/plain": [
       "<Figure size 432x288 with 1 Axes>"
      ]
     },
     "metadata": {
      "needs_background": "light"
     },
     "output_type": "display_data"
    }
   ],
   "source": [
    "sns.barplot(data=time_type_count_len[time_type_count_len['mg_type']=='virome'],x='time',y=time_type_count_len['scaffold']/time_type_count_len['total_read_bp']\n",
    "            ,color='mediumseagreen')"
   ]
  },
  {
   "cell_type": "code",
   "execution_count": 440,
   "metadata": {},
   "outputs": [
    {
     "data": {
      "text/plain": [
       "<matplotlib.axes._subplots.AxesSubplot at 0x7fdf4ac57460>"
      ]
     },
     "execution_count": 440,
     "metadata": {},
     "output_type": "execute_result"
    },
    {
     "data": {
      "image/png": "[encoded data removed]",
      "text/plain": [
       "<Figure size 432x288 with 1 Axes>"
      ]
     },
     "metadata": {
      "needs_background": "light"
     },
     "output_type": "display_data"
    }
   ],
   "source": [
    "sns.barplot(data=qlysogenic[qlysogenic['mg_type']=='virome'],x='time',y='putative_virus_per_bp_reads',color='mediumseagreen')"
   ]
  },
  {
   "cell_type": "code",
   "execution_count": 393,
   "metadata": {},
   "outputs": [
    {
     "name": "stderr",
     "output_type": "stream",
     "text": [
      "/home/alexa/.pyenv/versions/3.8.2/lib/python3.8/site-packages/seaborn/axisgrid.py:645: UserWarning: Using the barplot function without specifying `order` is likely to produce an incorrect plot.\n",
      "  warnings.warn(warning)\n"
     ]
    },
    {
     "data": {
      "image/png": "[encoded data removed]",
      "text/plain": [
       "<Figure size 432x216 with 2 Axes>"
      ]
     },
     "metadata": {
      "needs_background": "light"
     },
     "output_type": "display_data"
    }
   ],
   "source": [
    "g=sns.FacetGrid(time_type_count_len,col='mg_type',margin_titles=True,sharex=False,hue='mg_type',palette='Greens'#,sharey=False\n",
    "               )\n",
    "g.map(sns.barplot,'time','length')\n",
    "# sns.scatterplot(data=time_type_count,x='time',y='scaffold',hue='mg_type')\n",
    "plt.yscale('log')\n",
    "plt.ylim(3*10**8,5*10**9)\n",
    "plt.show()"
   ]
  },
  {
   "cell_type": "code",
   "execution_count": 303,
   "metadata": {},
   "outputs": [],
   "source": [
    "time_type_count_len[time_type_count_len['mg_type']=='virome'].to_csv(viral_dir+\"pphage_pertime_522021.csv\",index=False)"
   ]
  },
  {
   "cell_type": "code",
   "execution_count": 645,
   "metadata": {},
   "outputs": [],
   "source": [
    "# with open('listfile.txt', 'w') as filehandle:\n",
    "#     filehandle.writelines(\"%s\\n\" % place for place in places_list)\n",
    "with open(viral_dir+\"/list_v_set_4232021.txt\",'w') as filehandle:\n",
    "    filehandle.writelines(\"%s\\n\" % scaff for scaff in pphage)"
   ]
  },
  {
   "cell_type": "code",
   "execution_count": null,
   "metadata": {},
   "outputs": [],
   "source": [
    "# extract pphage from virome assemblies \n",
    "viral_dir = '/groups/banfield/projects/environmental/4thwedge/2021/4Wh2oV/viral_id/'\n",
    "assembly_dir = '/groups/banfield/projects/environmental/4thwedge/2021/4Wh2oV/assembly.d/'\n",
    "pphage_fa = viral_dir+\"viral_set/4thw_12C16O_putative_virus.fa\"\n",
    "virus_records =[]\n",
    "metag_assembly_dir = '/groups/banfield/projects/environmental/4thwedge/2020/assembly.d/'\n",
    "\n",
    "# define empty list\n",
    "pphage = []\n",
    "# open file and read the content in a list\n",
    "with open(viral_dir+\"/list_v_set_4232021.txt\",'r') as filehandle:\n",
    "    filecontents = filehandle.readlines()\n",
    "    for line in filecontents:\n",
    "        # remove linebreak which is the last character of the string\n",
    "        # add item to the list\n",
    "        pphage.append(line.strip())\n",
    "\n",
    "\n",
    "for assembly in glob.glob(assembly_dir + \"*megahit/*ct.fa\"):\n",
    "    print(assembly)\n",
    "    for record in SeqIO.parse(open(assembly), \"fasta\"):\n",
    "        print(record.id)\n",
    "        if record.id in pphage:\n",
    "            virus_records.append(record)\n",
    "            print(\"Added\")\n",
    "        \n",
    "for assembly in glob.glob(metag_assembly_dir + \"*megahit/12C16O_*h_*_unf_scaffold_min1000.fa\"):\n",
    "    print(assembly)\n",
    "    for record in SeqIO.parse(open(assembly), \"fasta\"):\n",
    "        print(record.id)\n",
    "        if record.id in pphage:\n",
    "            virus_records.append(record)\n",
    "            print(\"Added\")\n",
    "\n",
    "with open(pphage_fa,'w') as output_handle:       \n",
    "    SeqIO.write(virus_records, output_handle, \"fasta\")  \n",
    "    \n",
    "# Ran this in terminal"
   ]
  },
  {
   "cell_type": "code",
   "execution_count": 664,
   "metadata": {
    "tags": []
   },
   "outputs": [
    {
     "name": "stdout",
     "output_type": "stream",
     "text": [
      "sbatch --wrap '/shared/software/bin/cd-hit -i /groups/banfield/projects/environmental/4thwedge/2021/4Wh2oV/viral_id/viral_set/4thw_12C16O_putative_virus.fa -o /groups/banfield/projects/environmental/4thwedge/2021/4Wh2oV/viral_id/viral_set/4thw_12C16O_putative_virus.fa.95clustr.fa -c 0.95 -T 48 -aS 0.85 -M 0'\n"
     ]
    }
   ],
   "source": [
    "# run cd-hit \n",
    "# cd-hit flags to use -d 0 -T 48 -c 0.95 -aS 0.85 (shorter seq needs to be 85% of longer)\n",
    "cd_hit = \"sbatch --wrap '/shared/software/bin/cd-hit -i \" + pphage_fa + \" -o \" + pphage_fa + \".95clustr.fa -c 0.95 -T 48 -aS 0.85 -M 0'\"\n",
    "print(cd_hit)"
   ]
  },
  {
   "cell_type": "code",
   "execution_count": 327,
   "metadata": {
    "collapsed": true,
    "jupyter": {
     "outputs_hidden": true
    },
    "tags": []
   },
   "outputs": [
    {
     "name": "stdout",
     "output_type": "stream",
     "text": [
      "sbatch -J cdhit-0a --wrap '/shared/software/bin/cd-hit -i /groups/banfield/projects/environmental/4thwedge/2021/4Wh2oV/viral_id/viral_set/4thw_12C16O_putative_virus.fa -o /groups/banfield/projects/environmental/4thwedge/2021/4Wh2oV/viral_id/viral_set/4thw_12C16O_putative_virus.fa.95clustr.fa -c 0.95 -T 48 -s 0.95 -M 0 -d 0'\n"
     ]
    }
   ],
   "source": [
    "# taking a long time, try running without alignment cutoff \n",
    "# how much quicker if just dereplicating sequences of similar length?\n",
    "cd_hit = \"sbatch -J cdhit-0a --wrap '/shared/software/bin/cd-hit -i \" + pphage_fa + \" -o \" + pphage_fa + \".95clustr.fa -c 0.95 -T 48 -s 0.95 -M 0 -d 0'\"\n",
    "print(cd_hit)"
   ]
  },
  {
   "cell_type": "code",
   "execution_count": 13,
   "metadata": {
    "collapsed": true,
    "jupyter": {
     "outputs_hidden": true
    },
    "tags": []
   },
   "outputs": [],
   "source": [
    "# viruses_df.iloc[np.random.choice(len(pphage),10**5,replace=False)]\n",
    "with open(viral_dir+\"viral_set/iter_drep/list_v_randomA_4302021.txt\",'w') as filehandle:\n",
    "    filehandle.writelines(\"%s\\n\" % scaff for scaff in set(viruses_df.iloc[np.random.choice(len(pphage),10**5,replace=False)]['scaffold']))\n",
    "# because some duplicates in spreadsheet, have fewer than 10k scaffs selected "
   ]
  },
  {
   "cell_type": "code",
   "execution_count": 50,
   "metadata": {
    "collapsed": true,
    "jupyter": {
     "outputs_hidden": true
    },
    "tags": []
   },
   "outputs": [],
   "source": [
    "listA = []\n",
    "with open(viral_dir+\"viral_set/iter_drep/list_v_randomA_4302021.txt\",'r') as filehandle:\n",
    "    contents= filehandle.readlines()\n",
    "    for line in contents:\n",
    "        listA.append(line.strip())"
   ]
  },
  {
   "cell_type": "code",
   "execution_count": 44,
   "metadata": {
    "collapsed": true,
    "jupyter": {
     "outputs_hidden": true
    },
    "tags": []
   },
   "outputs": [
    {
     "name": "stdout",
     "output_type": "stream",
     "text": [
      "/shared/software/bin/pullseq -i /groups/banfield/projects/environmental/4thwedge/2021/4Wh2oV/viral_id/viral_set/4thw_12C16O_putative_virus.fa -n /groups/banfield/projects/environmental/4thwedge/2021/4Wh2oV/viral_id/viral_set/iter_drep/list_v_randomA_4302021.txt > /groups/banfield/projects/environmental/4thwedge/2021/4Wh2oV/viral_id/viral_set/iter_drep/v_randomA_4302021.fa\n",
      "/shared/software/bin/cd-hit -i /groups/banfield/projects/environmental/4thwedge/2021/4Wh2oV/viral_id/viral_set/iter_drep/v_randomA_4302021.fa -o /groups/banfield/projects/environmental/4thwedge/2021/4Wh2oV/viral_id/viral_set/iter_drep/v_randomA_4302021.fa.95clustr.fa -c 0.95 -T 8 -aS 0.85 -M 0\n"
     ]
    }
   ],
   "source": [
    "# pullseq\n",
    "A_fa = viral_dir + \"viral_set/iter_drep/v_randomA_4302021.fa\"\n",
    "pullseq = \"/shared/software/bin/pullseq -i \" + pphage_fa + \" -n \" + viral_dir+\"viral_set/iter_drep/list_v_randomA_4302021.txt > \" + A_fa\n",
    "print(pullseq)\n",
    "cd_hitA = \"/shared/software/bin/cd-hit -i \" + A_fa + \" -o \" + A_fa + \".95clustr.fa -c 0.95 -T 8 -aS 0.85 -M 0\"\n",
    "print(cd_hitA)"
   ]
  },
  {
   "cell_type": "code",
   "execution_count": 68,
   "metadata": {
    "collapsed": true,
    "jupyter": {
     "outputs_hidden": true
    },
    "tags": []
   },
   "outputs": [
    {
     "name": "stdout",
     "output_type": "stream",
     "text": [
      "/shared/software/bin/pullseq -i /groups/banfield/projects/environmental/4thwedge/2021/4Wh2oV/viral_id/viral_set/4thw_12C16O_putative_virus.fa -n /groups/banfield/projects/environmental/4thwedge/2021/4Wh2oV/viral_id/viral_set/iter_drep/list_v_randomB_5012021.txt > /groups/banfield/projects/environmental/4thwedge/2021/4Wh2oV/viral_id/viral_set/iter_drep/v_randomB_5012021.fa\n",
      "sbatch -J cd-hit.B --wrap '/shared/software/bin/cd-hit -i /groups/banfield/projects/environmental/4thwedge/2021/4Wh2oV/viral_id/viral_set/iter_drep/v_randomB_5012021.fa -o /groups/banfield/projects/environmental/4thwedge/2021/4Wh2oV/viral_id/viral_set/iter_drep/v_randomB_5012021.95clustr.fa -c 0.95 -T 48 -aS 0.85 -M 0'\n"
     ]
    }
   ],
   "source": [
    "# make another list to drep – listB\n",
    "# how long does 100K sequences take on cluster w 48 threads?\n",
    "listB = viruses_df[~viruses_df['scaffold'].isin(listA)].iloc[np.random.choice(len(set(pphage)-set(listA)),10**5,replace=False)]['scaffold']\n",
    "B_fa = viral_dir+\"viral_set/iter_drep/list_v_randomB_5012021.txt\"\n",
    "with open(B_fa,'w') as filehandle:\n",
    "    filehandle.writelines(\"%s\\n\" % scaff for scaff in set(listB))\n",
    "pullseq = \"/shared/software/bin/pullseq -i \" + pphage_fa + \" -n \" + B_fa + \" > \" + viral_dir+\"viral_set/iter_drep/v_randomB_5012021.fa\" \n",
    "print(pullseq)\n",
    "cd_hitB = \"sbatch -J cd-hit.B --wrap '/shared/software/bin/cd-hit -i \" + viral_dir+\"viral_set/iter_drep/v_randomB_5012021.fa\" + \" -o \" + viral_dir+\"viral_set/iter_drep/v_randomB_5012021.95clustr.fa -c 0.95 -T 48 -aS 0.85 -M 0'\"\n",
    "print(cd_hitB)"
   ]
  },
  {
   "cell_type": "code",
   "execution_count": null,
   "metadata": {
    "collapsed": true,
    "jupyter": {
     "outputs_hidden": true
    },
    "tags": []
   },
   "outputs": [],
   "source": [
    "listC = viruses_df[(~viruses_df['scaffold'].isin(listA)) & (~viruses_df['scaffold'].isin(listB))\n",
    "                          ].iloc[np.random.choice(len(set(pphage)-set(listA)-set(listB)),25000,replace=False)]['scaffold']"
   ]
  },
  {
   "cell_type": "code",
   "execution_count": 115,
   "metadata": {
    "collapsed": true,
    "jupyter": {
     "outputs_hidden": true
    },
    "tags": []
   },
   "outputs": [],
   "source": [
    "listB = []\n",
    "with open(viral_dir+\"viral_set/iter_drep/list_v_randomB_5012021.txt\",'r') as filehandle:\n",
    "    contents= filehandle.readlines()\n",
    "    for line in contents:\n",
    "        listB.append(line.strip())\n",
    "listC = []\n",
    "with open(viral_dir+\"viral_set/iter_drep/list_v_randomC_5012021.txt\",'r') as filehandle:\n",
    "    contents= filehandle.readlines()\n",
    "    for line in contents:\n",
    "        listC.append(line.strip())"
   ]
  },
  {
   "cell_type": "code",
   "execution_count": 186,
   "metadata": {
    "collapsed": true,
    "jupyter": {
     "outputs_hidden": true
    },
    "tags": []
   },
   "outputs": [
    {
     "name": "stdout",
     "output_type": "stream",
     "text": [
      "/shared/software/bin/pullseq -i /groups/banfield/projects/environmental/4thwedge/2021/4Wh2oV/viral_id/viral_set/4thw_12C16O_putative_virus.fa -n /groups/banfield/projects/environmental/4thwedge/2021/4Wh2oV/viral_id/viral_set/iter_drep/list_v_randomC_5012021.txt > /groups/banfield/projects/environmental/4thwedge/2021/4Wh2oV/viral_id/viral_set/iter_drep/v_randomC_5012021.fa\n",
      "sbatch -J cd-hit.C --wrap '/shared/software/bin/cd-hit -i /groups/banfield/projects/environmental/4thwedge/2021/4Wh2oV/viral_id/viral_set/iter_drep/v_randomC_5012021.fa -o /groups/banfield/projects/environmental/4thwedge/2021/4Wh2oV/viral_id/viral_set/iter_drep/v_randomC_5012021.95clustr.fa -c 0.95 -T 48 -aS 0.85 -M 0 -d 0'\n"
     ]
    }
   ],
   "source": [
    "C = viral_dir+\"viral_set/iter_drep/list_v_randomC_5012021.txt\"\n",
    "C_fa = viral_dir+\"viral_set/iter_drep/v_randomC_5012021.fa\" \n",
    "with open(C,'w') as filehandle:\n",
    "    filehandle.writelines(\"%s\\n\" % scaff for scaff in set(listC))\n",
    "pullseq = \"/shared/software/bin/pullseq -i \" + pphage_fa + \" -n \" + C + \" > \" + C_fa\n",
    "print(pullseq)\n",
    "cd_hitC = \"sbatch -J cd-hit.C --wrap '/shared/software/bin/cd-hit -i \" + C_fa + \\\n",
    "            \" -o \" + C_fa.replace(\".fa\",\".95clustr.fa\") + \" -c 0.95 -T 48 -aS 0.85 -M 0 -d 0'\"\n",
    "print(cd_hitC)"
   ]
  },
  {
   "cell_type": "code",
   "execution_count": 309,
   "metadata": {
    "collapsed": true,
    "jupyter": {
     "outputs_hidden": true
    },
    "tags": []
   },
   "outputs": [],
   "source": [
    "listD = viruses_df[(~viruses_df['scaffold'].isin(listA)) & \n",
    "                   (~viruses_df['scaffold'].isin(listB)) &\n",
    "                   (~viruses_df['scaffold'].isin(listC))\n",
    "                          ].iloc[np.random.choice(len(set(pphage)-set(listA)-set(listB)-set(listC)),30000,replace=False)]['scaffold']"
   ]
  },
  {
   "cell_type": "code",
   "execution_count": 311,
   "metadata": {
    "collapsed": true,
    "jupyter": {
     "outputs_hidden": true
    },
    "tags": []
   },
   "outputs": [
    {
     "name": "stdout",
     "output_type": "stream",
     "text": [
      "/shared/software/bin/pullseq -i /groups/banfield/projects/environmental/4thwedge/2021/4Wh2oV/viral_id/viral_set/4thw_12C16O_putative_virus.fa -n /groups/banfield/projects/environmental/4thwedge/2021/4Wh2oV/viral_id/viral_set/iter_drep/list_v_randomD_5012021.txt > /groups/banfield/projects/environmental/4thwedge/2021/4Wh2oV/viral_id/viral_set/iter_drep/v_randomD_5012021.fa\n",
      "sbatch -J cd-hit.D --wrap '/shared/software/bin/cd-hit -i /groups/banfield/projects/environmental/4thwedge/2021/4Wh2oV/viral_id/viral_set/iter_drep/v_randomD_5012021.fa -o /groups/banfield/projects/environmental/4thwedge/2021/4Wh2oV/viral_id/viral_set/iter_drep/v_randomD_5012021.95clustr.fa -c 0.95 -T 48 -aS 0.85 -M 0 -d 0'\n"
     ]
    }
   ],
   "source": [
    "D = viral_dir+\"viral_set/iter_drep/list_v_randomD_5012021.txt\"\n",
    "D_fa = viral_dir+\"viral_set/iter_drep/v_randomD_5012021.fa\" \n",
    "with open(D,'w') as filehandle:\n",
    "    filehandle.writelines(\"%s\\n\" % scaff for scaff in set(listD))\n",
    "pullseq = \"/shared/software/bin/pullseq -i \" + pphage_fa + \" -n \" + D + \" > \" + D_fa\n",
    "print(pullseq)\n",
    "cd_hitD = \"sbatch -J cd-hit.D --wrap '/shared/software/bin/cd-hit -i \" + D_fa + \\\n",
    "            \" -o \" + D_fa.replace(\".fa\",\".95clustr.fa\") + \" -c 0.95 -T 48 -aS 0.85 -M 0 -d 0'\"\n",
    "print(cd_hitD)"
   ]
  },
  {
   "cell_type": "code",
   "execution_count": 325,
   "metadata": {
    "collapsed": true,
    "jupyter": {
     "outputs_hidden": true
    }
   },
   "outputs": [],
   "source": [
    "listE = viruses_df[(~viruses_df['scaffold'].isin(listA)) & \n",
    "                   (~viruses_df['scaffold'].isin(listB)) &\n",
    "                   (~viruses_df['scaffold'].isin(listC)) &\n",
    "                   (~viruses_df['scaffold'].isin(listD))\n",
    "                          ].iloc[np.random.choice(len(set(pphage)-set(listA + listB + listC + listD.tolist())),30000,replace=False)]['scaffold']"
   ]
  },
  {
   "cell_type": "code",
   "execution_count": 326,
   "metadata": {
    "collapsed": true,
    "jupyter": {
     "outputs_hidden": true
    },
    "tags": []
   },
   "outputs": [
    {
     "name": "stdout",
     "output_type": "stream",
     "text": [
      "/shared/software/bin/pullseq -i /groups/banfield/projects/environmental/4thwedge/2021/4Wh2oV/viral_id/viral_set/4thw_12C16O_putative_virus.fa -n /groups/banfield/projects/environmental/4thwedge/2021/4Wh2oV/viral_id/viral_set/iter_drep/list_v_randomE_5032021.txt > /groups/banfield/projects/environmental/4thwedge/2021/4Wh2oV/viral_id/viral_set/iter_drep/v_randomE_5032021.fa\n",
      "sbatch -J cd-hit.E --wrap '/shared/software/bin/cd-hit -i /groups/banfield/projects/environmental/4thwedge/2021/4Wh2oV/viral_id/viral_set/iter_drep/v_randomE_5032021.fa -o /groups/banfield/projects/environmental/4thwedge/2021/4Wh2oV/viral_id/viral_set/iter_drep/v_randomE_5032021.95clustr.fa -c 0.95 -T 48 -aS 0.85 -M 0 -d 0'\n"
     ]
    }
   ],
   "source": [
    "E = viral_dir+\"viral_set/iter_drep/list_v_randomE_5032021.txt\"\n",
    "E_fa = viral_dir+\"viral_set/iter_drep/v_randomE_5032021.fa\" \n",
    "with open(E,'w') as filehandle:\n",
    "    filehandle.writelines(\"%s\\n\" % scaff for scaff in set(listE))\n",
    "pullseq = \"/shared/software/bin/pullseq -i \" + pphage_fa + \" -n \" + E + \" > \" + E_fa\n",
    "print(pullseq)\n",
    "cd_hit = \"sbatch -J cd-hit.E --wrap '/shared/software/bin/cd-hit -i \" + E_fa + \\\n",
    "            \" -o \" + E_fa.replace(\".fa\",\".95clustr.fa\") + \" -c 0.95 -T 48 -aS 0.85 -M 0 -d 0'\"\n",
    "print(cd_hit)"
   ]
  },
  {
   "cell_type": "markdown",
   "metadata": {
    "tags": []
   },
   "source": [
    "* cd-hit.B running start 2:46 PM 5/1/2021 \n",
    "* cd-hit.C running start 4:19 PM"
   ]
  },
  {
   "cell_type": "code",
   "execution_count": 481,
   "metadata": {
    "collapsed": true,
    "jupyter": {
     "outputs_hidden": true
    }
   },
   "outputs": [],
   "source": [
    "# pphage_fa, need to pullseq for only scaffolds that meet length thresholds \n",
    "\n",
    "phage_set_list_file = viral_dir + 'viral_set/drep_len_filter/putative_phage_filtered_len.txt'\n",
    "with open(phage_set_list_file,'w') as filehandle:\n",
    "    filehandle.writelines(\"%s\\n\" % scaff for scaff in set_scaffs_pphage)\n"
   ]
  },
  {
   "cell_type": "code",
   "execution_count": 521,
   "metadata": {
    "collapsed": true,
    "jupyter": {
     "outputs_hidden": true
    }
   },
   "outputs": [
    {
     "data": {
      "text/plain": [
       "'/groups/banfield/projects/environmental/4thwedge/2021/4Wh2oV/viral_id/viral_set/drep_len_filter/putative_phage_filtered_len.fa'"
      ]
     },
     "execution_count": 521,
     "metadata": {},
     "output_type": "execute_result"
    }
   ],
   "source": [
    "phage_set_list_file.replace('txt','fa')"
   ]
  },
  {
   "cell_type": "code",
   "execution_count": 485,
   "metadata": {
    "collapsed": true,
    "jupyter": {
     "outputs_hidden": true
    }
   },
   "outputs": [
    {
     "name": "stdout",
     "output_type": "stream",
     "text": [
      "/shared/software/bin/pullseq -i /groups/banfield/projects/environmental/4thwedge/2021/4Wh2oV/viral_id/viral_set/4thw_12C16O_putative_virus.fa -n /groups/banfield/projects/environmental/4thwedge/2021/4Wh2oV/viral_id/viral_set/drep_len_filter/putative_phage_filtered_len.txt > /groups/banfield/projects/environmental/4thwedge/2021/4Wh2oV/viral_id/viral_set/drep_len_filter/putative_phage_filtered_len.fa\n",
      "sbatch -J cd-hit.sh --wrap '/shared/software/bin/cd-hit -i /groups/banfield/projects/environmental/4thwedge/2021/4Wh2oV/viral_id/viral_set/drep_len_filter/putative_phage_filtered_len.fa -o /groups/banfield/projects/environmental/4thwedge/2021/4Wh2oV/viral_id/viral_set/drep_len_filter/putative_phage_filtered_len.95clustr.fa -c 0.95 -T 48 -aS 0.85 -M 0 -d 0'\n"
     ]
    }
   ],
   "source": [
    "pullseq = \"/shared/software/bin/pullseq -i \" + pphage_fa + \" -n \" + phage_set_list_file + \" > \" + phage_set_list_file.replace('txt','fa')\n",
    "print(pullseq)\n",
    "cd_hit = \"sbatch -J cd-hit.sh --wrap '/shared/software/bin/cd-hit -i \" + phage_set_list_file.replace('txt','fa') + \\\n",
    "            \" -o \" + phage_set_list_file.replace('txt',\"95clustr.fa\") + \" -c 0.95 -T 48 -aS 0.85 -M 0 -d 0'\"\n",
    "print(cd_hit)"
   ]
  },
  {
   "cell_type": "markdown",
   "metadata": {},
   "source": [
    "dereplication still taking a very very long time (> 6 days) \n",
    "strategy:\n",
    "1. separate all sequences greater than 20,000 bp and dereplicate \n",
    "2. dereplicate sequences shorter than 20kbp"
   ]
  },
  {
   "cell_type": "code",
   "execution_count": 511,
   "metadata": {
    "collapsed": true,
    "jupyter": {
     "outputs_hidden": true
    }
   },
   "outputs": [
    {
     "name": "stdout",
     "output_type": "stream",
     "text": [
      "sbatch -J cdh-20kmax --wrap '/shared/software/bin/cd-hit -i /groups/banfield/projects/environmental/4thwedge/2021/4Wh2oV/viral_id/viral_set/drep_len_filter/drep_size/putative_phage_filtered_20Kmax_len.fa -o /groups/banfield/projects/environmental/4thwedge/2021/4Wh2oV/viral_id/viral_set/drep_len_filter/drep_size/putative_phage_filtered_20Kmax_len.95clustr.fa -c 0.95 -T 48 -aS 0.85 -M 0 -d 0'\n",
      "sbatch -J ch20kmin --wrap '/shared/software/bin/cd-hit -i /groups/banfield/projects/environmental/4thwedge/2021/4Wh2oV/viral_id/viral_set/drep_len_filter/drep_size/putative_phage_filtered_20Kmin_len.fa -o /groups/banfield/projects/environmental/4thwedge/2021/4Wh2oV/viral_id/viral_set/drep_len_filter/drep_size/putative_phage_filtered_20Kmin_len.95clustr.fa -c 0.95 -T 48 -aS 0.85 -M 0 -d 0'\n"
     ]
    }
   ],
   "source": [
    "phage_set_length_fa = phage_set_list_file.replace('txt','fa')\n",
    "drep_size_out = os.path.dirname(phage_set_length_fa)\n",
    "pullseq1 = \"/shared/software/bin/pullseq -i \" + phage_set_length_fa + \" -m 20000 > \" + drep_size_out + \"/putative_phage_filtered_20Kmin_len.fa\"\n",
    "pullseq2 = \"/shared/software/bin/pullseq -i \" + phage_set_length_fa + \" -a 20000 > \" + drep_size_out + \"/putative_phage_filtered_20Kmax_len.fa\"\n",
    "\n",
    "# print(pullseq1 +\"\\n\" + pullseq2)\n",
    "\n",
    "maxset = drep_size_out + \"/drep_size/putative_phage_filtered_20Kmax_len.fa\"\n",
    "minset = drep_size_out + \"/drep_size/putative_phage_filtered_20Kmin_len.fa\"\n",
    "cd_hit1 = \"sbatch -J cdh-20kmax --wrap '/shared/software/bin/cd-hit -i \" + maxset + \\\n",
    "            \" -o \" + maxset.replace('fa',\"95clustr.fa\") + \" -c 0.95 -T 48 -aS 0.85 -M 0 -d 0'\"\n",
    "cd_hit2 = \"sbatch -J ch20kmin --wrap '/shared/software/bin/cd-hit -i \" + minset + \\\n",
    "            \" -o \" + minset.replace('fa',\"95clustr.fa\") + \" -c 0.95 -T 48 -aS 0.85 -M 0 -d 0'\"\n",
    "print(cd_hit1 + \"\\n\" + cd_hit2)"
   ]
  },
  {
   "cell_type": "markdown",
   "metadata": {},
   "source": [
    "1. take nodes from cd-hit and pullseq, \n",
    "2. concatenate node fasta with new random set of sequences  \n",
    "3. run cd-hit"
   ]
  },
  {
   "cell_type": "code",
   "execution_count": 515,
   "metadata": {},
   "outputs": [
    {
     "name": "stdout",
     "output_type": "stream",
     "text": [
      "/shared/software/bin/mmseqs easy-cluster --cov-mode 5 -c 0.85 --min-seq-id 0.95 --cluster-mode 2,3 --threads 16 /groups/banfield/projects/environmental/4thwedge/2021/4Wh2oV/viral_id/viral_set/mmseq_drep/putative_phage_filtered_100Kmin_len.fa /groups/banfield/projects/environmental/4thwedge/2021/4Wh2oV/viral_id/viral_set/mmseq_drep/putative_phage_filtered_100Kmin_len.easy-cluster-mmseqs.fa tmp\n"
     ]
    }
   ],
   "source": [
    "mmseq_out = '/groups/banfield/projects/environmental/4thwedge/2021/4Wh2oV/viral_id/viral_set/mmseq_drep/'\n",
    "pullseq = \"/shared/software/bin/pullseq -i \" + minset + \" -m 100000 > \" + mmseq_out + \"putative_phage_filtered_100Kmin_len.fa\"\n",
    "mmseq = \"/shared/software/bin/mmseqs easy-cluster --cov-mode 5 -c 0.85 --min-seq-id 0.95 --cluster-mode 2,3 --threads 16 \" + \\\n",
    "        mmseq_out + \"putative_phage_filtered_100Kmin_len.fa \" + mmseq_out + \"putative_phage_filtered_100Kmin_len.easy-cluster-mmseqs.fa tmp\"\n",
    "print(mmseq)"
   ]
  },
  {
   "cell_type": "code",
   "execution_count": 522,
   "metadata": {},
   "outputs": [
    {
     "name": "stdout",
     "output_type": "stream",
     "text": [
      "/shared/software/bin/pullseq -i /groups/banfield/projects/environmental/4thwedge/2021/4Wh2oV/viral_id/viral_set/4thw_12C16O_putative_virus.fa -n /groups/banfield/projects/environmental/4thwedge/2021/4Wh2oV/viral_id/viral_set/drep_len_filter/putative_phage_filtered_len.txt > /groups/banfield/projects/environmental/4thwedge/2021/4Wh2oV/viral_id/viral_set/mmseq_drep/putative_phage_filtered_len.fa\n"
     ]
    }
   ],
   "source": [
    "pullseq = \"/shared/software/bin/pullseq -i \" + pphage_fa + \" -n \" + phage_set_list_file + \" > \" + mmseq_out + \"putative_phage_filtered_len.fa\"\n",
    "print(pullseq)"
   ]
  },
  {
   "cell_type": "code",
   "execution_count": 529,
   "metadata": {},
   "outputs": [
    {
     "name": "stdout",
     "output_type": "stream",
     "text": [
      "sbatch -J mmseq.sf --wrap '/shared/software/bin/mmseqs easy-cluster --cov-mode 5 -c 0.85 --min-seq-id 0.95 --cluster-mode 2,3 --threads 48 /groups/banfield/projects/environmental/4thwedge/2021/4Wh2oV/viral_id/viral_set/mmseq_drep/putative_phage_filtered_len.fa /groups/banfield/projects/environmental/4thwedge/2021/4Wh2oV/viral_id/viral_set/mmseq_drep/putative_phage_filtered_len.easy-cluster-mmseqs.fa tmp'\n"
     ]
    }
   ],
   "source": [
    "# run mmseqs on cluster with the size filtered set of contigs \n",
    "mmseq = \"sbatch -J mmseq.sf --wrap '/shared/software/bin/mmseqs easy-cluster --cov-mode 5 -c 0.85 --min-seq-id 0.95 --cluster-mode 2,3 --threads 48 \" + \\\n",
    "        mmseq_out + \"putative_phage_filtered_len.fa \" + mmseq_out + \"putative_phage_filtered_len.easy-cluster-mmseqs.fa tmp'\"\n",
    "print(mmseq)"
   ]
  },
  {
   "cell_type": "markdown",
   "metadata": {},
   "source": [
    "Now use clustered representatives to cluster non length cutoff sequences "
   ]
  },
  {
   "cell_type": "code",
   "execution_count": 530,
   "metadata": {},
   "outputs": [
    {
     "name": "stdout",
     "output_type": "stream",
     "text": [
      "/shared/software/bin/pullseq -e -i /groups/banfield/projects/environmental/4thwedge/2021/4Wh2oV/viral_id/viral_set/4thw_12C16O_putative_virus.fa -n /groups/banfield/projects/environmental/4thwedge/2021/4Wh2oV/viral_id/viral_set/drep_len_filter/putative_phage_filtered_len.txt > /groups/banfield/projects/environmental/4thwedge/2021/4Wh2oV/viral_id/viral_set/mmseq_drep/putative_phage_unfiltered.fa\n"
     ]
    }
   ],
   "source": [
    "pullseq = \"/shared/software/bin/pullseq -e -i \" + pphage_fa + \" -n \" + phage_set_list_file + \" > \" + mmseq_out + \"putative_phage_unfiltered.fa\"\n",
    "print(pullseq)"
   ]
  },
  {
   "cell_type": "code",
   "execution_count": 533,
   "metadata": {},
   "outputs": [
    {
     "name": "stdout",
     "output_type": "stream",
     "text": [
      "cat /groups/banfield/projects/environmental/4thwedge/2021/4Wh2oV/viral_id/viral_set/mmseq_drep/putative_phage_unfiltered.fa /groups/banfield/projects/environmental/4thwedge/2021/4Wh2oV/viral_id/viral_set/mmseq_drep/putative_phage_filtered_len.easy-cluster-mmseqs.fa_rep_seq.fasta > /groups/banfield/projects/environmental/4thwedge/2021/4Wh2oV/viral_id/viral_set/mmseq_drep/putative_phage_unfiltered_cat_easy-cluster-mmseqs.fa\n",
      "sbatch -J mmseq_set --wrap '/shared/software/bin/mmseqs easy-cluster --cov-mode 5 -c 0.85 --min-seq-id 0.95 --cluster-mode 2,3 --threads 48 /groups/banfield/projects/environmental/4thwedge/2021/4Wh2oV/viral_id/viral_set/mmseq_drep/putative_phage_unfiltered_cat_easy-cluster-mmseqs.fa /groups/banfield/projects/environmental/4thwedge/2021/4Wh2oV/viral_id/viral_set/mmseq_drep/putative_phage_set.easy-cluster-mmseqs.fa tmp5192021'\n"
     ]
    }
   ],
   "source": [
    "# concatenate unfiltered phage with the representative nodes and run mmseqs\n",
    "cat = \"cat \" + mmseq_out + \"putative_phage_unfiltered.fa \" + mmseq_out + \"putative_phage_filtered_len.easy-cluster-mmseqs.fa_rep_seq.fasta > \" \\\n",
    "        + mmseq_out + \"putative_phage_unfiltered_cat_easy-cluster-mmseqs.fa\"\n",
    "print(cat)\n",
    "\n",
    "mmseq = \"sbatch -J mmseq_set --wrap '/shared/software/bin/mmseqs easy-cluster --cov-mode 5 -c 0.85 --min-seq-id 0.95 --cluster-mode 2,3 --threads 48 \" + \\\n",
    "        mmseq_out + \"putative_phage_unfiltered_cat_easy-cluster-mmseqs.fa \" + mmseq_out + \"putative_phage_set.easy-cluster-mmseqs.fa tmp5192021'\"\n",
    "\n",
    "print(mmseq)\n"
   ]
  },
  {
   "cell_type": "markdown",
   "metadata": {},
   "source": [
    "* Make blastdb out of all virome scaffolds?\n",
    "* blast all dereplicated contigs against "
   ]
  },
  {
   "cell_type": "code",
   "execution_count": 575,
   "metadata": {},
   "outputs": [
    {
     "name": "stdout",
     "output_type": "stream",
     "text": [
      "cat /groups/banfield/projects/environmental/4thwedge/2021/4Wh2oV/assembly.d/4Wh2oV_*h_megahit/4Wh2oV_*h_scaffold_ct.fa > /groups/banfield/projects/environmental/4thwedge/2021/4Wh2oV/assembly.d/assembly_cat/4Wh2oV_scaffolds_ct.fa\n"
     ]
    }
   ],
   "source": [
    "cat = 'cat /groups/banfield/projects/environmental/4thwedge/2021/4Wh2oV/assembly.d/4Wh2oV_*h_megahit/4Wh2oV_*h_scaffold_ct.fa > ' + \\\n",
    "        '/groups/banfield/projects/environmental/4thwedge/2021/4Wh2oV/assembly.d/assembly_cat/4Wh2oV_scaffolds_ct.fa' \n",
    "print(cat)"
   ]
  },
  {
   "cell_type": "code",
   "execution_count": 576,
   "metadata": {
    "tags": []
   },
   "outputs": [
    {
     "name": "stdout",
     "output_type": "stream",
     "text": [
      "makeblastdb -in /groups/banfield/projects/environmental/4thwedge/2021/4Wh2oV/assembly.d/assembly_cat/4Wh2oV_scaffolds_ct.fa -parse_seqids -blastdb_version 5 -title \"4Wh2oV – wet-up scaffolds\" -dbtype nucl\n"
     ]
    }
   ],
   "source": [
    "blast_out = '/groups/banfield/projects/environmental/4thwedge/2021/4Wh2oV/viral_id/viral_set/blast'\n",
    "cat_scaffs = '/groups/banfield/projects/environmental/4thwedge/2021/4Wh2oV/assembly.d/assembly_cat/4Wh2oV_scaffolds_ct.fa'\n",
    "# makeblastdb -in test.fsa -parse_seqids -blastdb_version 5 -title \"Cookbook demo\" -dbtype prot\n",
    "mkdb = 'makeblastdb -in ' + cat_scaffs + ' -parse_seqids -blastdb_version 5 -title '+ '\"4Wh2oV – wet-up scaffolds\" -dbtype nucl'\n",
    "print(mkdb)"
   ]
  },
  {
   "cell_type": "code",
   "execution_count": 365,
   "metadata": {},
   "outputs": [
    {
     "name": "stdout",
     "output_type": "stream",
     "text": [
      "makeblastdb -in /groups/banfield/projects/environmental/4thwedge/2021/4Wh2oV/viral_id/drep_viral_set/viral_scaffold_set_12C16O_4Wh2oV.fa -parse_seqids -blastdb_version 5 -title \"4th wedge wet-up vOTUs\" -dbtype nucl -out /groups/banfield/projects/environmental/4thwedge/2021/4Wh2oV/4W_vOTU_db/viral_scaffold_set_12C16O_4Wh2oV.fa\n"
     ]
    }
   ],
   "source": [
    "virset = '/groups/banfield/projects/environmental/4thwedge/2021/4Wh2oV/viral_id/drep_viral_set/viral_scaffold_set_12C16O_4Wh2oV.fa'\n",
    "outfile = \"/groups/banfield/projects/environmental/4thwedge/2021/4Wh2oV/4W_vOTU_db/viral_scaffold_set_12C16O_4Wh2oV.fa\"\n",
    "mkdb = 'makeblastdb -in ' + virset + ' -parse_seqids -blastdb_version 5 -title '+ '\"4th wedge wet-up vOTUs\" -dbtype nucl -out ' + outfile\n",
    "print(mkdb)"
   ]
  },
  {
   "cell_type": "markdown",
   "metadata": {},
   "source": [
    "Have 2 mmseq dereplication files:\n",
    "\n",
    "(1) Length filtered dereplicated set of v_sum ≥ 2 putative viral sequences \n",
    "> /groups/banfield/projects/environmental/4thwedge/2021/4Wh2oV/viral_id/viral_set/mmseq_drep/putative_phage_filtered_len.easy-cluster-mmseqs.fa_cluster.tsv\n",
    "\n",
    "(2) not length filtered dereplicated set \n",
    "> /groups/banfield/projects/environmental/4thwedge/2021/4Wh2oV/viral_id/viral_set/mmseq_drep/putative_phage_set.easy-cluster-mmseqs.fa_cluster.tsv\n",
    "\n",
    "How to use?"
   ]
  },
  {
   "cell_type": "code",
   "execution_count": 656,
   "metadata": {},
   "outputs": [],
   "source": [
    "# col 1 = representative sequence / col 2 = scaffold name\n",
    "# length filtered drep\n",
    "lf_drep = pd.read_csv(\n",
    "    \"/groups/banfield/projects/environmental/4thwedge/2021/4Wh2oV/viral_id/viral_set/mmseq_drep/putative_phage_filtered_len.easy-cluster-mmseqs.fa_cluster.tsv\",\n",
    "sep='\\t',\n",
    "header=None, names=['rep_seq','scaffold'])\n",
    "#no filter drep\n",
    "nf_drep = pd.read_csv(\n",
    "\"/groups/banfield/projects/environmental/4thwedge/2021/4Wh2oV/viral_id/viral_set/mmseq_drep/putative_phage_set.easy-cluster-mmseqs.fa_cluster.tsv\",\n",
    "sep='\\t',\n",
    "header=None, names=['rep_seq','scaffold'])"
   ]
  },
  {
   "cell_type": "code",
   "execution_count": 682,
   "metadata": {},
   "outputs": [],
   "source": [
    "drep_set = pd.concat([lf_drep,nf_drep]).drop_duplicates()"
   ]
  },
  {
   "cell_type": "code",
   "execution_count": 686,
   "metadata": {},
   "outputs": [],
   "source": [
    "scaff_set_drep = scaff_set.merge(drep_set,on='scaffold',how='left')"
   ]
  },
  {
   "cell_type": "code",
   "execution_count": 691,
   "metadata": {},
   "outputs": [],
   "source": [
    "# read in taxonomy tables per contig / scaffold to bin to support final curation \n",
    "s2bs = []\n",
    "for s2b in glob.glob(\"/groups/banfield/projects/environmental/4thwedge/2021/4Wh2oV/binning.d/dastool/post_ggkbase_curate/*to_bin.tsv\"):\n",
    "    s2bs.append(pd.read_csv(s2b,sep='\\t'))\n",
    "scaff2bin = pd.concat(s2bs)\n",
    "\n",
    "contig_tax = []\n",
    "for ct in glob.glob(\"/groups/banfield/projects/environmental/4thwedge/2021/4Wh2oV/binning.d/contig_taxa/*contig-taxonomy.tsv\"):\n",
    "    contig_tax.append(pd.read_csv(ct,sep='\\t'))\n",
    "contig_tax_df = pd.concat(contig_tax)"
   ]
  },
  {
   "cell_type": "code",
   "execution_count": 692,
   "metadata": {},
   "outputs": [],
   "source": [
    "scaff2bin.rename(columns={'scaffold_name':'scaffold'},inplace=True)\n",
    "contig_tax_df.rename(columns={'Contig name':'scaffold'},inplace=True)"
   ]
  },
  {
   "cell_type": "code",
   "execution_count": 693,
   "metadata": {},
   "outputs": [
    {
     "data": {
      "text/html": [
       "<div>\n",
       "<style scoped>\n",
       "    .dataframe tbody tr th:only-of-type {\n",
       "        vertical-align: middle;\n",
       "    }\n",
       "\n",
       "    .dataframe tbody tr th {\n",
       "        vertical-align: top;\n",
       "    }\n",
       "\n",
       "    .dataframe thead th {\n",
       "        text-align: right;\n",
       "    }\n",
       "</style>\n",
       "<table border=\"1\" class=\"dataframe\">\n",
       "  <thead>\n",
       "    <tr style=\"text-align: right;\">\n",
       "      <th></th>\n",
       "      <th>scaffold</th>\n",
       "      <th>Coverage</th>\n",
       "      <th>GC %</th>\n",
       "      <th>Taxonomy winner</th>\n",
       "      <th>Winner %</th>\n",
       "      <th>Phylum winner</th>\n",
       "      <th>Phylum winner %</th>\n",
       "      <th>Domain winner</th>\n",
       "      <th>Domain winner %</th>\n",
       "    </tr>\n",
       "  </thead>\n",
       "  <tbody>\n",
       "    <tr>\n",
       "      <th>0</th>\n",
       "      <td>4Wh2oV_3h_scaffold_1835221</td>\n",
       "      <td>23.55</td>\n",
       "      <td>66.90</td>\n",
       "      <td>Streptomyces sp. W75</td>\n",
       "      <td>0.5</td>\n",
       "      <td>Actinobacteria</td>\n",
       "      <td>0.50</td>\n",
       "      <td>Bacteria</td>\n",
       "      <td>0.50</td>\n",
       "    </tr>\n",
       "    <tr>\n",
       "      <th>1</th>\n",
       "      <td>4Wh2oV_3h_scaffold_1030210</td>\n",
       "      <td>22.63</td>\n",
       "      <td>68.63</td>\n",
       "      <td>NaN</td>\n",
       "      <td>NaN</td>\n",
       "      <td>unknown</td>\n",
       "      <td>1.00</td>\n",
       "      <td>unknown</td>\n",
       "      <td>1.00</td>\n",
       "    </tr>\n",
       "    <tr>\n",
       "      <th>2</th>\n",
       "      <td>4Wh2oV_3h_scaffold_737138</td>\n",
       "      <td>79.40</td>\n",
       "      <td>46.40</td>\n",
       "      <td>Hyalangium minutum</td>\n",
       "      <td>1.0</td>\n",
       "      <td>Proteobacteria</td>\n",
       "      <td>1.00</td>\n",
       "      <td>Bacteria</td>\n",
       "      <td>1.00</td>\n",
       "    </tr>\n",
       "    <tr>\n",
       "      <th>3</th>\n",
       "      <td>4Wh2oV_3h_scaffold_1102993</td>\n",
       "      <td>26.76</td>\n",
       "      <td>60.00</td>\n",
       "      <td>Rhizobiales</td>\n",
       "      <td>0.5</td>\n",
       "      <td>Proteobacteria</td>\n",
       "      <td>0.50</td>\n",
       "      <td>Bacteria</td>\n",
       "      <td>0.50</td>\n",
       "    </tr>\n",
       "    <tr>\n",
       "      <th>4</th>\n",
       "      <td>4Wh2oV_3h_scaffold_810391</td>\n",
       "      <td>16.96</td>\n",
       "      <td>65.67</td>\n",
       "      <td>NaN</td>\n",
       "      <td>NaN</td>\n",
       "      <td>unknown</td>\n",
       "      <td>1.00</td>\n",
       "      <td>unknown</td>\n",
       "      <td>1.00</td>\n",
       "    </tr>\n",
       "    <tr>\n",
       "      <th>...</th>\n",
       "      <td>...</td>\n",
       "      <td>...</td>\n",
       "      <td>...</td>\n",
       "      <td>...</td>\n",
       "      <td>...</td>\n",
       "      <td>...</td>\n",
       "      <td>...</td>\n",
       "      <td>...</td>\n",
       "      <td>...</td>\n",
       "    </tr>\n",
       "    <tr>\n",
       "      <th>425913</th>\n",
       "      <td>4Wh2oV_0h_scaffold_209719</td>\n",
       "      <td>31.09</td>\n",
       "      <td>66.57</td>\n",
       "      <td>NaN</td>\n",
       "      <td>NaN</td>\n",
       "      <td>unknown</td>\n",
       "      <td>0.64</td>\n",
       "      <td>unknown</td>\n",
       "      <td>0.64</td>\n",
       "    </tr>\n",
       "    <tr>\n",
       "      <th>425914</th>\n",
       "      <td>4Wh2oV_0h_scaffold_69539</td>\n",
       "      <td>53.66</td>\n",
       "      <td>65.76</td>\n",
       "      <td>NaN</td>\n",
       "      <td>NaN</td>\n",
       "      <td>unknown</td>\n",
       "      <td>0.90</td>\n",
       "      <td>unknown</td>\n",
       "      <td>0.90</td>\n",
       "    </tr>\n",
       "    <tr>\n",
       "      <th>425915</th>\n",
       "      <td>4Wh2oV_0h_scaffold_210307</td>\n",
       "      <td>24.65</td>\n",
       "      <td>64.92</td>\n",
       "      <td>NaN</td>\n",
       "      <td>NaN</td>\n",
       "      <td>unknown</td>\n",
       "      <td>0.75</td>\n",
       "      <td>unknown</td>\n",
       "      <td>0.75</td>\n",
       "    </tr>\n",
       "    <tr>\n",
       "      <th>425916</th>\n",
       "      <td>4Wh2oV_0h_scaffold_210533</td>\n",
       "      <td>54.17</td>\n",
       "      <td>63.83</td>\n",
       "      <td>NaN</td>\n",
       "      <td>NaN</td>\n",
       "      <td>unknown</td>\n",
       "      <td>0.89</td>\n",
       "      <td>unknown</td>\n",
       "      <td>0.89</td>\n",
       "    </tr>\n",
       "    <tr>\n",
       "      <th>425917</th>\n",
       "      <td>4Wh2oV_0h_scaffold_1151943</td>\n",
       "      <td>52.12</td>\n",
       "      <td>68.74</td>\n",
       "      <td>Proteobacteria</td>\n",
       "      <td>0.5</td>\n",
       "      <td>Proteobacteria</td>\n",
       "      <td>0.50</td>\n",
       "      <td>Bacteria</td>\n",
       "      <td>0.50</td>\n",
       "    </tr>\n",
       "  </tbody>\n",
       "</table>\n",
       "<p>1676559 rows × 9 columns</p>\n",
       "</div>"
      ],
      "text/plain": [
       "                          scaffold  Coverage   GC %       Taxonomy winner  \\\n",
       "0       4Wh2oV_3h_scaffold_1835221     23.55  66.90  Streptomyces sp. W75   \n",
       "1       4Wh2oV_3h_scaffold_1030210     22.63  68.63                   NaN   \n",
       "2        4Wh2oV_3h_scaffold_737138     79.40  46.40    Hyalangium minutum   \n",
       "3       4Wh2oV_3h_scaffold_1102993     26.76  60.00           Rhizobiales   \n",
       "4        4Wh2oV_3h_scaffold_810391     16.96  65.67                   NaN   \n",
       "...                            ...       ...    ...                   ...   \n",
       "425913   4Wh2oV_0h_scaffold_209719     31.09  66.57                   NaN   \n",
       "425914    4Wh2oV_0h_scaffold_69539     53.66  65.76                   NaN   \n",
       "425915   4Wh2oV_0h_scaffold_210307     24.65  64.92                   NaN   \n",
       "425916   4Wh2oV_0h_scaffold_210533     54.17  63.83                   NaN   \n",
       "425917  4Wh2oV_0h_scaffold_1151943     52.12  68.74        Proteobacteria   \n",
       "\n",
       "        Winner %   Phylum winner  Phylum winner % Domain winner  \\\n",
       "0            0.5  Actinobacteria             0.50      Bacteria   \n",
       "1            NaN         unknown             1.00       unknown   \n",
       "2            1.0  Proteobacteria             1.00      Bacteria   \n",
       "3            0.5  Proteobacteria             0.50      Bacteria   \n",
       "4            NaN         unknown             1.00       unknown   \n",
       "...          ...             ...              ...           ...   \n",
       "425913       NaN         unknown             0.64       unknown   \n",
       "425914       NaN         unknown             0.90       unknown   \n",
       "425915       NaN         unknown             0.75       unknown   \n",
       "425916       NaN         unknown             0.89       unknown   \n",
       "425917       0.5  Proteobacteria             0.50      Bacteria   \n",
       "\n",
       "        Domain winner %  \n",
       "0                  0.50  \n",
       "1                  1.00  \n",
       "2                  1.00  \n",
       "3                  0.50  \n",
       "4                  1.00  \n",
       "...                 ...  \n",
       "425913             0.64  \n",
       "425914             0.90  \n",
       "425915             0.75  \n",
       "425916             0.89  \n",
       "425917             0.50  \n",
       "\n",
       "[1676559 rows x 9 columns]"
      ]
     },
     "execution_count": 693,
     "metadata": {},
     "output_type": "execute_result"
    }
   ],
   "source": [
    "contig_tax_df[['scaffold','Coverage','GC %','Taxonomy winner','Winner %','Phylum winner','Phylum winner %','Domain winner','Domain winner %']]"
   ]
  },
  {
   "cell_type": "code",
   "execution_count": 695,
   "metadata": {},
   "outputs": [],
   "source": [
    "scaff_set_drep = scaff_set_drep.merge(scaff2bin,on='scaffold',how='left')\n",
    "scaff_set_drep = scaff_set_drep.merge(contig_tax_df[[\n",
    "    'scaffold','Coverage','GC %','Taxonomy winner','Winner %','Phylum winner','Phylum winner %','Domain winner','Domain winner %']],\n",
    "                                      on='scaffold',how='left')"
   ]
  },
  {
   "cell_type": "code",
   "execution_count": 698,
   "metadata": {},
   "outputs": [],
   "source": [
    "scaff_set_drep.to_csv(viral_dir+'4Wh20v_12C16O_scaff_set_viral_id_drep_5252021.csv',index=False)"
   ]
  },
  {
   "cell_type": "code",
   "execution_count": 697,
   "metadata": {},
   "outputs": [],
   "source": [
    "scaff_set_drep[(~scaff_set_drep['rep_seq'].isna())\n",
    "               & (scaff_set_drep['scaffold'].duplicated(keep=False))\n",
    "               & (scaff_set_drep['scaffold']==scaff_set_drep['rep_seq'])\n",
    "              & ((scaff_set_drep['circular_VRCA']==True)| (scaff_set_drep['length']>9999))\n",
    "              ].to_csv(viral_dir+\"multiple_viral_id_scaffolds_5262021.csv\")"
   ]
  },
  {
   "cell_type": "code",
   "execution_count": 760,
   "metadata": {},
   "outputs": [],
   "source": [
    "virus_scaff_set_drep = scaff_set_drep[(scaff_set_drep['v_sum']>1)\n",
    "                & (~scaff_set_drep['scaffold'].duplicated(keep=False))\n",
    "              & ((scaff_set_drep['length']>9999) | (scaff_set_drep['circular_VRCA']==True))\n",
    "               & (scaff_set_drep['scaffold']==scaff_set_drep['rep_seq'])\n",
    "               & (~scaff_set_drep['Phylum winner'].str.contains('Ascomycota',na=False)) \n",
    "               & (~scaff_set_drep['Phylum winner'].str.contains('Microgenomates',na=False))\n",
    "                & (~scaff_set_drep['Phylum winner'].str.contains('Parcubacteria',na=False)) \n",
    "               & (~scaff_set_drep['Phylum winner'].str.contains('Saccharibacteria',na=False))\n",
    "              ].sort_values('scaffold')#.drop_duplicates(subset=['scaffold'],keep=False)"
   ]
  },
  {
   "cell_type": "code",
   "execution_count": 761,
   "metadata": {
    "tags": []
   },
   "outputs": [],
   "source": [
    "duplicated_set = scaff_set_drep[(scaff_set_drep['v_sum']>1)\n",
    "              & (((scaff_set_drep['length']>9999) & (scaff_set_drep['miuvig_quality']=='High-quality')) | (scaff_set_drep['circular_VRCA']==True))\n",
    "               & (scaff_set_drep['scaffold']==scaff_set_drep['rep_seq'])\n",
    "               & (~scaff_set_drep['Phylum winner'].str.contains('Ascomycota',na=False)) \n",
    "               & (~scaff_set_drep['Phylum winner'].str.contains('Microgenomates',na=False))\n",
    "                & (~scaff_set_drep['Phylum winner'].str.contains('Parcubacteria',na=False)) \n",
    "               & (~scaff_set_drep['Phylum winner'].str.contains('Saccharibacteria',na=False))\n",
    "               & (scaff_set_drep['scaffold'].duplicated(keep=False))\n",
    "              ].sort_values('scaffold').drop_duplicates(subset=['scaffold'])"
   ]
  },
  {
   "cell_type": "code",
   "execution_count": 762,
   "metadata": {},
   "outputs": [],
   "source": [
    "virus_scaff_set_drep = pd.concat([virus_scaff_set_drep,duplicated_set])"
   ]
  },
  {
   "cell_type": "code",
   "execution_count": 764,
   "metadata": {},
   "outputs": [],
   "source": [
    "virus_scaff_set_drep.to_csv(viral_dir+\"dereplicated_virus_set_idstats_5262021.csv\",index=False)"
   ]
  },
  {
   "cell_type": "code",
   "execution_count": 269,
   "metadata": {},
   "outputs": [
    {
     "name": "stderr",
     "output_type": "stream",
     "text": [
      "/home/alexa/.pyenv/versions/3.8.2/lib/python3.8/site-packages/IPython/core/interactiveshell.py:3062: DtypeWarning: Columns (3) have mixed types.Specify dtype option on import or set low_memory=False.\n",
      "  has_raised = await self.run_ast_nodes(code_ast.body, cell_name,\n"
     ]
    }
   ],
   "source": [
    "virus_scaff_set_drep = pd.read_csv(viral_dir+\"dereplicated_virus_set_idstats_5262021.csv\")"
   ]
  },
  {
   "cell_type": "code",
   "execution_count": 769,
   "metadata": {},
   "outputs": [],
   "source": [
    "# need to pullseq for dereplicated phage \n",
    "phage_set_file = viral_dir + 'drep_viral_set/viral_scaffold_set.txt'\n",
    "with open(phage_set_file,'w') as filehandle:\n",
    "    filehandle.writelines(\"%s\\n\" % scaff for scaff in set(virus_scaff_set_drep['scaffold']))"
   ]
  },
  {
   "cell_type": "code",
   "execution_count": 772,
   "metadata": {},
   "outputs": [],
   "source": [
    "pphage_fa = '/groups/banfield/projects/environmental/4thwedge/2021/4Wh2oV/viral_id/viral_set_out/4thw_12C16O_putative_virus.fa'"
   ]
  },
  {
   "cell_type": "code",
   "execution_count": 773,
   "metadata": {},
   "outputs": [
    {
     "name": "stdout",
     "output_type": "stream",
     "text": [
      "/shared/software/bin/pullseq -i /groups/banfield/projects/environmental/4thwedge/2021/4Wh2oV/viral_id/viral_set_out/4thw_12C16O_putative_virus.fa -n /groups/banfield/projects/environmental/4thwedge/2021/4Wh2oV/viral_id/drep_viral_set/viral_scaffold_set.txt > /groups/banfield/projects/environmental/4thwedge/2021/4Wh2oV/viral_id/drep_viral_set/viral_scaffold_set_12C16O_4Wh2oV.fa\n"
     ]
    }
   ],
   "source": [
    "pullseq = \"/shared/software/bin/pullseq -i \" + pphage_fa + \" -n \" + phage_set_file + \" > \" + viral_dir + \"drep_viral_set/viral_scaffold_set_12C16O_4Wh2oV.fa\"\n",
    "print(pullseq)"
   ]
  },
  {
   "cell_type": "code",
   "execution_count": 608,
   "metadata": {},
   "outputs": [
    {
     "data": {
      "image/png": "[encoded data removed]",
      "text/plain": [
       "<Figure size 1080x216 with 5 Axes>"
      ]
     },
     "metadata": {
      "needs_background": "light"
     },
     "output_type": "display_data"
    }
   ],
   "source": [
    "# sns.histplot(df_merged[(~df_merged['viral>host'].isin([np.nan, np.inf]))& (df_merged['v_sum']>=2)] , x='viral>host',bins=20)\n",
    "g = sns.FacetGrid(mg_merged[~mg_merged['viral>host'].isin([np.nan, np.inf])], col=\"v_sum\", margin_titles=True)\n",
    "g.map(sns.histplot, 'viral>host',bins=20)\n",
    "\n",
    "# sns.histplot(df_merged[~df_merged['viral>host'].isin([np.nan, np.inf])] , x='viral>host',\n",
    "#              hue='v_sum',element='step',palette='Set2')\n",
    "plt.yscale('log')\n",
    "# plt.xscale('log')\n",
    "plt.show()"
   ]
  },
  {
   "cell_type": "code",
   "execution_count": 609,
   "metadata": {},
   "outputs": [
    {
     "data": {
      "image/png": "[encoded data removed]",
      "text/plain": [
       "<Figure size 432x288 with 1 Axes>"
      ]
     },
     "metadata": {
      "needs_background": "light"
     },
     "output_type": "display_data"
    }
   ],
   "source": [
    "sns.histplot(mg_merged[(mg_merged['completeness']>20) & (mg_merged['v_sum']>=2) ], x='completeness')\n",
    "plt.yscale('log')\n",
    "plt.show()"
   ]
  },
  {
   "cell_type": "code",
   "execution_count": 610,
   "metadata": {
    "collapsed": true,
    "jupyter": {
     "outputs_hidden": true
    },
    "tags": []
   },
   "outputs": [
    {
     "data": {
      "image/png": "[encoded data removed]",
      "text/plain": [
       "<Figure size 432x288 with 1 Axes>"
      ]
     },
     "metadata": {
      "needs_background": "light"
     },
     "output_type": "display_data"
    },
    {
     "data": {
      "image/png": "[encoded data removed]",
      "text/plain": [
       "<Figure size 432x288 with 1 Axes>"
      ]
     },
     "metadata": {
      "needs_background": "light"
     },
     "output_type": "display_data"
    },
    {
     "data": {
      "image/png": "[encoded data removed]",
      "text/plain": [
       "<Figure size 432x288 with 1 Axes>"
      ]
     },
     "metadata": {
      "needs_background": "light"
     },
     "output_type": "display_data"
    },
    {
     "data": {
      "image/png": "[encoded data removed]",
      "text/plain": [
       "<Figure size 432x288 with 1 Axes>"
      ]
     },
     "metadata": {
      "needs_background": "light"
     },
     "output_type": "display_data"
    }
   ],
   "source": [
    "sns.histplot(mg_merged_filtered[mg_merged_filtered['length']>9999][['checkv_quality']].astype(str), x='checkv_quality')\n",
    "plt.yscale('log')\n",
    "plt.xticks(rotation=45)\n",
    "plt.show()\n",
    "sns.histplot(mg_merged_filtered[mg_merged_filtered['length']<10000][['checkv_quality']].astype(str), x='checkv_quality')\n",
    "plt.yscale('log')\n",
    "plt.xticks(rotation=45)\n",
    "plt.show()\n",
    "\n",
    "sns.histplot(mg_merged_filtered[mg_merged_filtered['length']>9999][['miuvig_quality']].astype(str), x='miuvig_quality')\n",
    "plt.yscale('log')\n",
    "plt.show()\n",
    "sns.histplot(mg_merged_filtered[mg_merged_filtered['length']<10000][['miuvig_quality']].astype(str), x='miuvig_quality')\n",
    "plt.yscale('log')\n",
    "plt.show()"
   ]
  },
  {
   "cell_type": "code",
   "execution_count": 613,
   "metadata": {
    "collapsed": true,
    "jupyter": {
     "outputs_hidden": true
    },
    "tags": []
   },
   "outputs": [
    {
     "data": {
      "image/png": "[encoded data removed]",
      "text/plain": [
       "<Figure size 432x288 with 1 Axes>"
      ]
     },
     "metadata": {
      "needs_background": "light"
     },
     "output_type": "display_data"
    }
   ],
   "source": [
    "sns.histplot(mg_merged_filtered[mg_merged_filtered['length']>=10000][['warnings']].astype(str), x='warnings')\n",
    "plt.yscale('log')\n",
    "plt.xticks(rotation=90)\n",
    "plt.show()"
   ]
  },
  {
   "cell_type": "code",
   "execution_count": 614,
   "metadata": {
    "collapsed": true,
    "jupyter": {
     "outputs_hidden": true
    },
    "tags": []
   },
   "outputs": [
    {
     "data": {
      "image/png": "[encoded data removed]",
      "text/plain": [
       "<Figure size 432x288 with 1 Axes>"
      ]
     },
     "metadata": {
      "needs_background": "light"
     },
     "output_type": "display_data"
    }
   ],
   "source": [
    "sns.histplot(mg_merged_filtered[mg_merged_filtered['length']>=10000][['prediction']].astype(str), x='prediction')\n",
    "plt.yscale('log')\n",
    "plt.xticks(rotation=90)\n",
    "plt.show()"
   ]
  },
  {
   "cell_type": "code",
   "execution_count": 270,
   "metadata": {},
   "outputs": [
    {
     "data": {
      "text/html": [
       "<div>\n",
       "<style scoped>\n",
       "    .dataframe tbody tr th:only-of-type {\n",
       "        vertical-align: middle;\n",
       "    }\n",
       "\n",
       "    .dataframe tbody tr th {\n",
       "        vertical-align: top;\n",
       "    }\n",
       "\n",
       "    .dataframe thead th {\n",
       "        text-align: right;\n",
       "    }\n",
       "</style>\n",
       "<table border=\"1\" class=\"dataframe\">\n",
       "  <thead>\n",
       "    <tr style=\"text-align: right;\">\n",
       "      <th></th>\n",
       "      <th>scaffold</th>\n",
       "      <th>seeker_prediction</th>\n",
       "      <th>seeker_score</th>\n",
       "      <th>pPhage</th>\n",
       "      <th>contig_length</th>\n",
       "      <th>provirus</th>\n",
       "      <th>proviral_length</th>\n",
       "      <th>gene_count</th>\n",
       "      <th>viral_genes</th>\n",
       "      <th>host_genes</th>\n",
       "      <th>...</th>\n",
       "      <th>bin</th>\n",
       "      <th>organism taxonomy</th>\n",
       "      <th>Coverage</th>\n",
       "      <th>GC %</th>\n",
       "      <th>Taxonomy winner</th>\n",
       "      <th>Winner %</th>\n",
       "      <th>Phylum winner</th>\n",
       "      <th>Phylum winner %</th>\n",
       "      <th>Domain winner</th>\n",
       "      <th>Domain winner %</th>\n",
       "    </tr>\n",
       "  </thead>\n",
       "  <tbody>\n",
       "    <tr>\n",
       "      <th>0</th>\n",
       "      <td>12C16O_0h_100_unf_scaffold_170990</td>\n",
       "      <td>Bacteria</td>\n",
       "      <td>0.29</td>\n",
       "      <td>NaN</td>\n",
       "      <td>11612.0</td>\n",
       "      <td>No</td>\n",
       "      <td>NaN</td>\n",
       "      <td>14.0</td>\n",
       "      <td>6.0</td>\n",
       "      <td>0.0</td>\n",
       "      <td>...</td>\n",
       "      <td>NaN</td>\n",
       "      <td>NaN</td>\n",
       "      <td>NaN</td>\n",
       "      <td>NaN</td>\n",
       "      <td>NaN</td>\n",
       "      <td>NaN</td>\n",
       "      <td>NaN</td>\n",
       "      <td>NaN</td>\n",
       "      <td>NaN</td>\n",
       "      <td>NaN</td>\n",
       "    </tr>\n",
       "    <tr>\n",
       "      <th>1</th>\n",
       "      <td>12C16O_0h_100_unf_scaffold_381560</td>\n",
       "      <td>Phage</td>\n",
       "      <td>0.76</td>\n",
       "      <td>NaN</td>\n",
       "      <td>23101.0</td>\n",
       "      <td>No</td>\n",
       "      <td>NaN</td>\n",
       "      <td>19.0</td>\n",
       "      <td>0.0</td>\n",
       "      <td>14.0</td>\n",
       "      <td>...</td>\n",
       "      <td>NaN</td>\n",
       "      <td>NaN</td>\n",
       "      <td>NaN</td>\n",
       "      <td>NaN</td>\n",
       "      <td>NaN</td>\n",
       "      <td>NaN</td>\n",
       "      <td>NaN</td>\n",
       "      <td>NaN</td>\n",
       "      <td>NaN</td>\n",
       "      <td>NaN</td>\n",
       "    </tr>\n",
       "    <tr>\n",
       "      <th>2</th>\n",
       "      <td>12C16O_0h_100_unf_scaffold_392955</td>\n",
       "      <td>Bacteria</td>\n",
       "      <td>0.33</td>\n",
       "      <td>NaN</td>\n",
       "      <td>35016.0</td>\n",
       "      <td>No</td>\n",
       "      <td>NaN</td>\n",
       "      <td>45.0</td>\n",
       "      <td>3.0</td>\n",
       "      <td>1.0</td>\n",
       "      <td>...</td>\n",
       "      <td>NaN</td>\n",
       "      <td>NaN</td>\n",
       "      <td>NaN</td>\n",
       "      <td>NaN</td>\n",
       "      <td>NaN</td>\n",
       "      <td>NaN</td>\n",
       "      <td>NaN</td>\n",
       "      <td>NaN</td>\n",
       "      <td>NaN</td>\n",
       "      <td>NaN</td>\n",
       "    </tr>\n",
       "    <tr>\n",
       "      <th>3</th>\n",
       "      <td>12C16O_0h_100_unf_scaffold_416420</td>\n",
       "      <td>Phage</td>\n",
       "      <td>0.55</td>\n",
       "      <td>NaN</td>\n",
       "      <td>20039.0</td>\n",
       "      <td>No</td>\n",
       "      <td>NaN</td>\n",
       "      <td>28.0</td>\n",
       "      <td>0.0</td>\n",
       "      <td>8.0</td>\n",
       "      <td>...</td>\n",
       "      <td>NaN</td>\n",
       "      <td>NaN</td>\n",
       "      <td>NaN</td>\n",
       "      <td>NaN</td>\n",
       "      <td>NaN</td>\n",
       "      <td>NaN</td>\n",
       "      <td>NaN</td>\n",
       "      <td>NaN</td>\n",
       "      <td>NaN</td>\n",
       "      <td>NaN</td>\n",
       "    </tr>\n",
       "    <tr>\n",
       "      <th>4</th>\n",
       "      <td>12C16O_0h_100_unf_scaffold_424934</td>\n",
       "      <td>Phage</td>\n",
       "      <td>0.54</td>\n",
       "      <td>NaN</td>\n",
       "      <td>10571.0</td>\n",
       "      <td>No</td>\n",
       "      <td>NaN</td>\n",
       "      <td>7.0</td>\n",
       "      <td>0.0</td>\n",
       "      <td>3.0</td>\n",
       "      <td>...</td>\n",
       "      <td>NaN</td>\n",
       "      <td>NaN</td>\n",
       "      <td>NaN</td>\n",
       "      <td>NaN</td>\n",
       "      <td>NaN</td>\n",
       "      <td>NaN</td>\n",
       "      <td>NaN</td>\n",
       "      <td>NaN</td>\n",
       "      <td>NaN</td>\n",
       "      <td>NaN</td>\n",
       "    </tr>\n",
       "  </tbody>\n",
       "</table>\n",
       "<p>5 rows × 89 columns</p>\n",
       "</div>"
      ],
      "text/plain": [
       "                            scaffold seeker_prediction  seeker_score pPhage  \\\n",
       "0  12C16O_0h_100_unf_scaffold_170990          Bacteria          0.29    NaN   \n",
       "1  12C16O_0h_100_unf_scaffold_381560             Phage          0.76    NaN   \n",
       "2  12C16O_0h_100_unf_scaffold_392955          Bacteria          0.33    NaN   \n",
       "3  12C16O_0h_100_unf_scaffold_416420             Phage          0.55    NaN   \n",
       "4  12C16O_0h_100_unf_scaffold_424934             Phage          0.54    NaN   \n",
       "\n",
       "   contig_length provirus  proviral_length  gene_count  viral_genes  \\\n",
       "0        11612.0       No              NaN        14.0          6.0   \n",
       "1        23101.0       No              NaN        19.0          0.0   \n",
       "2        35016.0       No              NaN        45.0          3.0   \n",
       "3        20039.0       No              NaN        28.0          0.0   \n",
       "4        10571.0       No              NaN         7.0          0.0   \n",
       "\n",
       "   host_genes  ...  bin organism taxonomy  Coverage GC %  Taxonomy winner  \\\n",
       "0         0.0  ...  NaN               NaN       NaN  NaN              NaN   \n",
       "1        14.0  ...  NaN               NaN       NaN  NaN              NaN   \n",
       "2         1.0  ...  NaN               NaN       NaN  NaN              NaN   \n",
       "3         8.0  ...  NaN               NaN       NaN  NaN              NaN   \n",
       "4         3.0  ...  NaN               NaN       NaN  NaN              NaN   \n",
       "\n",
       "   Winner % Phylum winner  Phylum winner %  Domain winner  Domain winner %  \n",
       "0       NaN           NaN              NaN            NaN              NaN  \n",
       "1       NaN           NaN              NaN            NaN              NaN  \n",
       "2       NaN           NaN              NaN            NaN              NaN  \n",
       "3       NaN           NaN              NaN            NaN              NaN  \n",
       "4       NaN           NaN              NaN            NaN              NaN  \n",
       "\n",
       "[5 rows x 89 columns]"
      ]
     },
     "execution_count": 270,
     "metadata": {},
     "output_type": "execute_result"
    }
   ],
   "source": [
    "virus_scaff_set_drep.head()"
   ]
  },
  {
   "cell_type": "code",
   "execution_count": 60,
   "metadata": {},
   "outputs": [
    {
     "data": {
      "text/html": [
       "<div>\n",
       "<style scoped>\n",
       "    .dataframe tbody tr th:only-of-type {\n",
       "        vertical-align: middle;\n",
       "    }\n",
       "\n",
       "    .dataframe tbody tr th {\n",
       "        vertical-align: top;\n",
       "    }\n",
       "\n",
       "    .dataframe thead th {\n",
       "        text-align: right;\n",
       "    }\n",
       "</style>\n",
       "<table border=\"1\" class=\"dataframe\">\n",
       "  <thead>\n",
       "    <tr style=\"text-align: right;\">\n",
       "      <th></th>\n",
       "      <th>scaffold</th>\n",
       "      <th>seeker_prediction</th>\n",
       "      <th>seeker_score</th>\n",
       "      <th>pPhage</th>\n",
       "      <th>contig_length</th>\n",
       "      <th>provirus</th>\n",
       "      <th>proviral_length</th>\n",
       "      <th>gene_count</th>\n",
       "      <th>viral_genes</th>\n",
       "      <th>host_genes</th>\n",
       "      <th>...</th>\n",
       "      <th>bin</th>\n",
       "      <th>organism taxonomy</th>\n",
       "      <th>Coverage</th>\n",
       "      <th>GC %</th>\n",
       "      <th>Taxonomy winner</th>\n",
       "      <th>Winner %</th>\n",
       "      <th>Phylum winner</th>\n",
       "      <th>Phylum winner %</th>\n",
       "      <th>Domain winner</th>\n",
       "      <th>Domain winner %</th>\n",
       "    </tr>\n",
       "  </thead>\n",
       "  <tbody>\n",
       "  </tbody>\n",
       "</table>\n",
       "<p>0 rows × 89 columns</p>\n",
       "</div>"
      ],
      "text/plain": [
       "Empty DataFrame\n",
       "Columns: [scaffold, seeker_prediction, seeker_score, pPhage, contig_length, provirus, proviral_length, gene_count, viral_genes, host_genes, checkv_quality, miuvig_quality, completeness, completeness_method, contamination, kmer_freq, warnings, viral>host, trim_orf_index_start, trim_orf_index_end, trim_bp_start, trim_bp_end, trim_pr, trim_pr_max, prox_orf_index_start, prox_orf_index_end, prox_bp_start, prox_bp_end, prox_pr, prox_pr_max, partial, full_orf_index_start, full_orf_index_end, full_bp_start, full_bp_end, pr_full, arc, bac, euk, vir, mix, unaligned, hallmark_cnt, group, shape, seqname_new, type, prediction, vibrant_fragment, draft_quality, circular, name, len, score, pvalue, ## Contig_id, Nb genes contigs, Fragment, Nb genes, Category, Nb phage hallmark genes, Phage gene enrichment sig, Non-Caudovirales phage gene enrichment sig, Pfam depletion sig, Uncharacterized enrichment sig, Strand switch depletion sig, Short genes enrichment sig, full_category, length, seeker_bool, vs2_bool, vibrant_bool, dvf_bool, vs1_bool, v_sum, time, circular_VRCA, mg_type, rep_seq, bin, organism taxonomy, Coverage, GC %, Taxonomy winner, Winner %, Phylum winner, Phylum winner %, Domain winner, Domain winner %]\n",
       "Index: []\n",
       "\n",
       "[0 rows x 89 columns]"
      ]
     },
     "execution_count": 60,
     "metadata": {},
     "output_type": "execute_result"
    }
   ],
   "source": [
    "virus_scaff_set_drep[virus_scaff_set_drep['scaffold']=='']"
   ]
  },
  {
   "cell_type": "code",
   "execution_count": 271,
   "metadata": {},
   "outputs": [
    {
     "data": {
      "text/plain": [
       "26368"
      ]
     },
     "execution_count": 271,
     "metadata": {},
     "output_type": "execute_result"
    }
   ],
   "source": [
    "virus_scaff_set_drep['scaffold'].nunique()"
   ]
  },
  {
   "cell_type": "code",
   "execution_count": 272,
   "metadata": {},
   "outputs": [
    {
     "data": {
      "text/plain": [
       "scaffold             229\n",
       "seeker_prediction      2\n",
       "seeker_score          77\n",
       "pPhage                 0\n",
       "contig_length        228\n",
       "                    ... \n",
       "Winner %               0\n",
       "Phylum winner          0\n",
       "Phylum winner %        0\n",
       "Domain winner          0\n",
       "Domain winner %        0\n",
       "Length: 89, dtype: int64"
      ]
     },
     "execution_count": 272,
     "metadata": {},
     "output_type": "execute_result"
    }
   ],
   "source": [
    "virus_scaff_set_drep[virus_scaff_set_drep['scaffold'].str.contains('12C')].nunique()"
   ]
  },
  {
   "cell_type": "code",
   "execution_count": 448,
   "metadata": {},
   "outputs": [],
   "source": [
    "circ_drep_set = virus_scaff_set_drep[virus_scaff_set_drep['circular_VRCA']==True]['scaffold'].unique()"
   ]
  },
  {
   "cell_type": "code",
   "execution_count": 449,
   "metadata": {},
   "outputs": [
    {
     "name": "stdout",
     "output_type": "stream",
     "text": [
      "Stored 'circ_drep_set' (ndarray)\n"
     ]
    }
   ],
   "source": [
    "%store circ_drep_set"
   ]
  },
  {
   "cell_type": "markdown",
   "metadata": {},
   "source": [
    "split viral fasta file into multiple files"
   ]
  },
  {
   "cell_type": "code",
   "execution_count": 777,
   "metadata": {},
   "outputs": [],
   "source": [
    "main_fasta = '/groups/banfield/projects/environmental/4thwedge/2021/4Wh2oV/viral_id/drep_viral_set/viral_scaffold_set_12C16O_4Wh2oV.fa'\n",
    "finished_files = '/groups/banfield/projects/environmental/4thwedge/2021/4Wh2oV/viral_id/drep_viral_set/DRAM-v_output/working_dir/finished_vMAgs.txt'"
   ]
  },
  {
   "cell_type": "code",
   "execution_count": 785,
   "metadata": {},
   "outputs": [
    {
     "name": "stdout",
     "output_type": "stream",
     "text": [
      "/shared/software/bin/pullseq -i /groups/banfield/projects/environmental/4thwedge/2021/4Wh2oV/viral_id/drep_viral_set/viral_scaffold_set_12C16O_4Wh2oV.fa -n /groups/banfield/projects/environmental/4thwedge/2021/4Wh2oV/viral_id/drep_viral_set/DRAM-v_output/working_dir/finished_vMAgs.txt -e > /groups/banfield/projects/environmental/4thwedge/2021/4Wh2oV/viral_id/drep_viral_set/viral_set_subsets/incomplete_viral_scaffold_set_12C16O_4Wh2oV.fa\n"
     ]
    }
   ],
   "source": [
    "pullseq = \"/shared/software/bin/pullseq -i \" + main_fasta + \" -n \" + finished_files + \" -e > \" + viral_dir + \"drep_viral_set/viral_set_subsets/incomplete_viral_scaffold_set_12C16O_4Wh2oV.fa\"\n",
    "print(pullseq)"
   ]
  },
  {
   "cell_type": "code",
   "execution_count": 792,
   "metadata": {},
   "outputs": [],
   "source": [
    "def batch_iterator(iterator, batch_size):\n",
    "    \"\"\"Returns lists of length batch_size.\n",
    "\n",
    "    This can be used on any iterator, for example to batch up\n",
    "    SeqRecord objects from Bio.SeqIO.parse(...), or to batch\n",
    "    Alignment objects from Bio.AlignIO.parse(...), or simply\n",
    "    lines from a file handle.\n",
    "\n",
    "    This is a generator function, and it returns lists of the\n",
    "    entries from the supplied iterator.  Each list will have\n",
    "    batch_size entries, although the final list may be shorter.\n",
    "    \"\"\"\n",
    "    entry = True  # Make sure we loop once\n",
    "    while entry:\n",
    "        batch = []\n",
    "        while len(batch) < batch_size:\n",
    "            try:\n",
    "                entry = next(iterator)\n",
    "            except StopIteration:\n",
    "                entry = None\n",
    "            if entry is None:\n",
    "                # End of file\n",
    "                break\n",
    "            batch.append(entry)\n",
    "        if batch:\n",
    "            yield batch"
   ]
  },
  {
   "cell_type": "code",
   "execution_count": 793,
   "metadata": {
    "collapsed": true,
    "jupyter": {
     "outputs_hidden": true
    },
    "tags": []
   },
   "outputs": [
    {
     "name": "stdout",
     "output_type": "stream",
     "text": [
      "Wrote 1500 records to /groups/banfield/projects/environmental/4thwedge/2021/4Wh2oV/viral_id/drep_viral_set/viral_set_subsets/viral_scaffold_set_12C16O_4Wh2oV_1.fasta\n",
      "Wrote 1500 records to /groups/banfield/projects/environmental/4thwedge/2021/4Wh2oV/viral_id/drep_viral_set/viral_set_subsets/viral_scaffold_set_12C16O_4Wh2oV_2.fasta\n",
      "Wrote 1500 records to /groups/banfield/projects/environmental/4thwedge/2021/4Wh2oV/viral_id/drep_viral_set/viral_set_subsets/viral_scaffold_set_12C16O_4Wh2oV_3.fasta\n",
      "Wrote 1500 records to /groups/banfield/projects/environmental/4thwedge/2021/4Wh2oV/viral_id/drep_viral_set/viral_set_subsets/viral_scaffold_set_12C16O_4Wh2oV_4.fasta\n",
      "Wrote 1500 records to /groups/banfield/projects/environmental/4thwedge/2021/4Wh2oV/viral_id/drep_viral_set/viral_set_subsets/viral_scaffold_set_12C16O_4Wh2oV_5.fasta\n",
      "Wrote 1500 records to /groups/banfield/projects/environmental/4thwedge/2021/4Wh2oV/viral_id/drep_viral_set/viral_set_subsets/viral_scaffold_set_12C16O_4Wh2oV_6.fasta\n",
      "Wrote 1500 records to /groups/banfield/projects/environmental/4thwedge/2021/4Wh2oV/viral_id/drep_viral_set/viral_set_subsets/viral_scaffold_set_12C16O_4Wh2oV_7.fasta\n",
      "Wrote 1500 records to /groups/banfield/projects/environmental/4thwedge/2021/4Wh2oV/viral_id/drep_viral_set/viral_set_subsets/viral_scaffold_set_12C16O_4Wh2oV_8.fasta\n",
      "Wrote 1500 records to /groups/banfield/projects/environmental/4thwedge/2021/4Wh2oV/viral_id/drep_viral_set/viral_set_subsets/viral_scaffold_set_12C16O_4Wh2oV_9.fasta\n",
      "Wrote 1500 records to /groups/banfield/projects/environmental/4thwedge/2021/4Wh2oV/viral_id/drep_viral_set/viral_set_subsets/viral_scaffold_set_12C16O_4Wh2oV_10.fasta\n",
      "Wrote 1500 records to /groups/banfield/projects/environmental/4thwedge/2021/4Wh2oV/viral_id/drep_viral_set/viral_set_subsets/viral_scaffold_set_12C16O_4Wh2oV_11.fasta\n",
      "Wrote 1500 records to /groups/banfield/projects/environmental/4thwedge/2021/4Wh2oV/viral_id/drep_viral_set/viral_set_subsets/viral_scaffold_set_12C16O_4Wh2oV_12.fasta\n",
      "Wrote 1500 records to /groups/banfield/projects/environmental/4thwedge/2021/4Wh2oV/viral_id/drep_viral_set/viral_set_subsets/viral_scaffold_set_12C16O_4Wh2oV_13.fasta\n",
      "Wrote 882 records to /groups/banfield/projects/environmental/4thwedge/2021/4Wh2oV/viral_id/drep_viral_set/viral_set_subsets/viral_scaffold_set_12C16O_4Wh2oV_14.fasta\n"
     ]
    }
   ],
   "source": [
    "record_iter = SeqIO.parse(open(viral_dir + \"drep_viral_set/viral_set_subsets/incomplete_viral_scaffold_set_12C16O_4Wh2oV.fa\"), \"fasta\")\n",
    "for i, batch in enumerate(batch_iterator(record_iter, 1500)):\n",
    "    filename = viral_dir + \"drep_viral_set/viral_set_subsets/viral_scaffold_set_12C16O_4Wh2oV_%i.fasta\" % (i + 1)\n",
    "    with open(filename, \"w\") as handle:\n",
    "        count = SeqIO.write(batch, handle, \"fasta\")\n",
    "    print(\"Wrote %i records to %s\" % (count, filename))\n"
   ]
  },
  {
   "cell_type": "markdown",
   "metadata": {},
   "source": [
    "Run Dram-V\n",
    "> /shared/software/dram/latest/bin/DRAM-v.py annotate -h\n",
    "\n",
    "requires input / output files "
   ]
  },
  {
   "cell_type": "code",
   "execution_count": 4,
   "metadata": {
    "collapsed": true,
    "jupyter": {
     "outputs_hidden": true
    },
    "tags": []
   },
   "outputs": [
    {
     "name": "stdout",
     "output_type": "stream",
     "text": [
      "sbatch -J dramv-7 --wrap '/shared/software/dram/latest/bin/DRAM-v.py annotate -i /groups/banfield/projects/environmental/4thwedge/2021/4Wh2oV/viral_id/drep_viral_set/viral_set_subsets/viral_scaffold_set_12C16O_4Wh2oV_7.fasta -o /groups/banfield/projects/environmental/4thwedge/2021/4Wh2oV/viral_id/drep_viral_set/DRAM-v_output/split_7 --threads 48'\n",
      "sbatch -J dramv-13 --wrap '/shared/software/dram/latest/bin/DRAM-v.py annotate -i /groups/banfield/projects/environmental/4thwedge/2021/4Wh2oV/viral_id/drep_viral_set/viral_set_subsets/viral_scaffold_set_12C16O_4Wh2oV_13.fasta -o /groups/banfield/projects/environmental/4thwedge/2021/4Wh2oV/viral_id/drep_viral_set/DRAM-v_output/split_13 --threads 48'\n",
      "sbatch -J dramv-6 --wrap '/shared/software/dram/latest/bin/DRAM-v.py annotate -i /groups/banfield/projects/environmental/4thwedge/2021/4Wh2oV/viral_id/drep_viral_set/viral_set_subsets/viral_scaffold_set_12C16O_4Wh2oV_6.fasta -o /groups/banfield/projects/environmental/4thwedge/2021/4Wh2oV/viral_id/drep_viral_set/DRAM-v_output/split_6 --threads 48'\n",
      "sbatch -J dramv-12 --wrap '/shared/software/dram/latest/bin/DRAM-v.py annotate -i /groups/banfield/projects/environmental/4thwedge/2021/4Wh2oV/viral_id/drep_viral_set/viral_set_subsets/viral_scaffold_set_12C16O_4Wh2oV_12.fasta -o /groups/banfield/projects/environmental/4thwedge/2021/4Wh2oV/viral_id/drep_viral_set/DRAM-v_output/split_12 --threads 48'\n",
      "sbatch -J dramv-9 --wrap '/shared/software/dram/latest/bin/DRAM-v.py annotate -i /groups/banfield/projects/environmental/4thwedge/2021/4Wh2oV/viral_id/drep_viral_set/viral_set_subsets/viral_scaffold_set_12C16O_4Wh2oV_9.fasta -o /groups/banfield/projects/environmental/4thwedge/2021/4Wh2oV/viral_id/drep_viral_set/DRAM-v_output/split_9 --threads 48'\n",
      "sbatch -J dramv-5 --wrap '/shared/software/dram/latest/bin/DRAM-v.py annotate -i /groups/banfield/projects/environmental/4thwedge/2021/4Wh2oV/viral_id/drep_viral_set/viral_set_subsets/viral_scaffold_set_12C16O_4Wh2oV_5.fasta -o /groups/banfield/projects/environmental/4thwedge/2021/4Wh2oV/viral_id/drep_viral_set/DRAM-v_output/split_5 --threads 48'\n",
      "sbatch -J dramv-11 --wrap '/shared/software/dram/latest/bin/DRAM-v.py annotate -i /groups/banfield/projects/environmental/4thwedge/2021/4Wh2oV/viral_id/drep_viral_set/viral_set_subsets/viral_scaffold_set_12C16O_4Wh2oV_11.fasta -o /groups/banfield/projects/environmental/4thwedge/2021/4Wh2oV/viral_id/drep_viral_set/DRAM-v_output/split_11 --threads 48'\n",
      "sbatch -J dramv-8 --wrap '/shared/software/dram/latest/bin/DRAM-v.py annotate -i /groups/banfield/projects/environmental/4thwedge/2021/4Wh2oV/viral_id/drep_viral_set/viral_set_subsets/viral_scaffold_set_12C16O_4Wh2oV_8.fasta -o /groups/banfield/projects/environmental/4thwedge/2021/4Wh2oV/viral_id/drep_viral_set/DRAM-v_output/split_8 --threads 48'\n",
      "sbatch -J dramv-4 --wrap '/shared/software/dram/latest/bin/DRAM-v.py annotate -i /groups/banfield/projects/environmental/4thwedge/2021/4Wh2oV/viral_id/drep_viral_set/viral_set_subsets/viral_scaffold_set_12C16O_4Wh2oV_4.fasta -o /groups/banfield/projects/environmental/4thwedge/2021/4Wh2oV/viral_id/drep_viral_set/DRAM-v_output/split_4 --threads 48'\n",
      "sbatch -J dramv-10 --wrap '/shared/software/dram/latest/bin/DRAM-v.py annotate -i /groups/banfield/projects/environmental/4thwedge/2021/4Wh2oV/viral_id/drep_viral_set/viral_set_subsets/viral_scaffold_set_12C16O_4Wh2oV_10.fasta -o /groups/banfield/projects/environmental/4thwedge/2021/4Wh2oV/viral_id/drep_viral_set/DRAM-v_output/split_10 --threads 48'\n",
      "sbatch -J dramv-3 --wrap '/shared/software/dram/latest/bin/DRAM-v.py annotate -i /groups/banfield/projects/environmental/4thwedge/2021/4Wh2oV/viral_id/drep_viral_set/viral_set_subsets/viral_scaffold_set_12C16O_4Wh2oV_3.fasta -o /groups/banfield/projects/environmental/4thwedge/2021/4Wh2oV/viral_id/drep_viral_set/DRAM-v_output/split_3 --threads 48'\n",
      "sbatch -J dramv-2 --wrap '/shared/software/dram/latest/bin/DRAM-v.py annotate -i /groups/banfield/projects/environmental/4thwedge/2021/4Wh2oV/viral_id/drep_viral_set/viral_set_subsets/viral_scaffold_set_12C16O_4Wh2oV_2.fasta -o /groups/banfield/projects/environmental/4thwedge/2021/4Wh2oV/viral_id/drep_viral_set/DRAM-v_output/split_2 --threads 48'\n",
      "sbatch -J dramv-1 --wrap '/shared/software/dram/latest/bin/DRAM-v.py annotate -i /groups/banfield/projects/environmental/4thwedge/2021/4Wh2oV/viral_id/drep_viral_set/viral_set_subsets/viral_scaffold_set_12C16O_4Wh2oV_1.fasta -o /groups/banfield/projects/environmental/4thwedge/2021/4Wh2oV/viral_id/drep_viral_set/DRAM-v_output/split_1 --threads 48'\n",
      "sbatch -J dramv-14 --wrap '/shared/software/dram/latest/bin/DRAM-v.py annotate -i /groups/banfield/projects/environmental/4thwedge/2021/4Wh2oV/viral_id/drep_viral_set/viral_set_subsets/viral_scaffold_set_12C16O_4Wh2oV_14.fasta -o /groups/banfield/projects/environmental/4thwedge/2021/4Wh2oV/viral_id/drep_viral_set/DRAM-v_output/split_14 --threads 48'\n"
     ]
    }
   ],
   "source": [
    "for fasta in glob.glob(viral_dir + \"drep_viral_set/viral_set_subsets/viral_scaffold_set_12C16O_4Wh2oV*fasta\"):\n",
    "    J = os.path.basename(fasta).rsplit(\"_\")[-1].split(\".\")[0]\n",
    "    dramv = \"sbatch -J dramv-\" + J + \" --wrap '/shared/software/dram/latest/bin/DRAM-v.py annotate -i \" + \\\n",
    "            fasta + \\\n",
    "            \" -o /groups/banfield/projects/environmental/4thwedge/2021/4Wh2oV/viral_id/drep_viral_set/DRAM-v_output/split_\" + J \\\n",
    "            + \" --threads 48'\"\n",
    "    print(dramv)"
   ]
  },
  {
   "cell_type": "markdown",
   "metadata": {},
   "source": [
    "running on biotite itself \n",
    "\n",
    "sbatch -J dramv-1 --wrap '\n",
    "/shared/software/dram/latest/bin/DRAM-v.py annotate -i /groups/banfield/projects/environmental/4thwedge/2021/4Wh2oV/viral_id/drep_viral_set/viral_set_subsets/viral_scaffold_set_12C16O_4Wh2oV_1.fasta -o /groups/banfield/projects/environmental/4thwedge/2021/4Wh2oV/viral_id/drep_viral_set/DRAM-v_output/split_1 --threads 10\n",
    "\n",
    "\n",
    "sbatch -J dramv-2 --wrap '\n",
    "/shared/software/dram/latest/bin/DRAM-v.py annotate -i /groups/banfield/projects/environmental/4thwedge/2021/4Wh2oV/viral_id/drep_viral_set/viral_set_subsets/viral_scaffold_set_12C16O_4Wh2oV_2.fasta -o /groups/banfield/projects/environmental/4thwedge/2021/4Wh2oV/viral_id/drep_viral_set/DRAM-v_output/split_2 --threads 10\n",
    "\n",
    "sbatch -J dramv-3 --wrap '\n",
    "/shared/software/dram/latest/bin/DRAM-v.py annotate -i /groups/banfield/projects/environmental/4thwedge/2021/4Wh2oV/viral_id/drep_viral_set/viral_set_subsets/viral_scaffold_set_12C16O_4Wh2oV_3.fasta -o /groups/banfield/projects/environmental/4thwedge/2021/4Wh2oV/viral_id/drep_viral_set/DRAM-v_output/split_3 --threads 10\n",
    "\n",
    "\n",
    "\n",
    "sbatch -J dramv-10 --wrap '\n",
    "/shared/software/dram/latest/bin/DRAM-v.py annotate -i /groups/banfield/projects/environmental/4thwedge/2021/4Wh2oV/viral_id/drep_viral_set/viral_set_subsets/viral_scaffold_set_12C16O_4Wh2oV_10.fasta -o /groups/banfield/projects/environmental/4thwedge/2021/4Wh2oV/viral_id/drep_viral_set/DRAM-v_output/split_10 --threads 10\n",
    "\n",
    "\n",
    "sbatch -J dramv-4 --wrap '\n",
    "/shared/software/dram/latest/bin/DRAM-v.py annotate -i /groups/banfield/projects/environmental/4thwedge/2021/4Wh2oV/viral_id/drep_viral_set/viral_set_subsets/viral_scaffold_set_12C16O_4Wh2oV_4.fasta -o /groups/banfield/projects/environmental/4thwedge/2021/4Wh2oV/viral_id/drep_viral_set/DRAM-v_output/split_4 --threads 10\n",
    "\n",
    "\n",
    "sbatch -J dramv-14 --wrap '\n",
    "/shared/software/dram/latest/bin/DRAM-v.py annotate -i /groups/banfield/projects/environmental/4thwedge/2021/4Wh2oV/viral_id/drep_viral_set/viral_set_subsets/viral_scaffold_set_12C16O_4Wh2oV_14.fasta -o /groups/banfield/projects/environmental/4thwedge/2021/4Wh2oV/viral_id/drep_viral_set/DRAM-v_output/split_14 --threads 10"
   ]
  },
  {
   "cell_type": "code",
   "execution_count": 218,
   "metadata": {},
   "outputs": [],
   "source": [
    "# move genbank into one directory\n",
    "genbank_dir = '/groups/banfield/projects/environmental/4thwedge/2021/4Wh2oV/annotations.d/DRAMv_out/genbank/'\n",
    "#sp.call(call,shell=True)\n",
    "indir = \"/groups/banfield/projects/environmental/4thwedge/2021/4Wh2oV/viral_id/drep_viral_set/DRAM-v_output/\"\n",
    "outdir = '/groups/banfield/projects/environmental/4thwedge/2021/4Wh2oV/annotations.d/DRAMv_out/'\n",
    "\n",
    "def mv(file,new_location):\n",
    "    '''move file'''\n",
    "    move = \"mv \" + file + \" \" + new_location\n",
    "    sp.call(move,shell=True)\n",
    "    \n",
    "def cp(file, new_name):\n",
    "    '''move file'''\n",
    "    copy = \"cp \" + file + \" \" + new_name\n",
    "    sp.call(copy,shell=True)"
   ]
  },
  {
   "cell_type": "code",
   "execution_count": 216,
   "metadata": {},
   "outputs": [],
   "source": [
    "for genbank in glob.glob(indir +\"working_dir/*/*gbk\"):\n",
    "    base = os.path.basename(genbank)\n",
    "    cp(genbank, genbank_dir+base)"
   ]
  },
  {
   "cell_type": "code",
   "execution_count": 220,
   "metadata": {},
   "outputs": [],
   "source": [
    "for genbank in glob.glob(indir+\"split*/genbank/*\"):\n",
    "    base = os.path.basename(genbank)\n",
    "    cp(genbank, genbank_dir+base)"
   ]
  },
  {
   "cell_type": "code",
   "execution_count": 219,
   "metadata": {
    "collapsed": true,
    "jupyter": {
     "outputs_hidden": true
    },
    "tags": []
   },
   "outputs": [
    {
     "data": {
      "text/html": [
       "<div>\n",
       "<style scoped>\n",
       "    .dataframe tbody tr th:only-of-type {\n",
       "        vertical-align: middle;\n",
       "    }\n",
       "\n",
       "    .dataframe tbody tr th {\n",
       "        vertical-align: top;\n",
       "    }\n",
       "\n",
       "    .dataframe thead th {\n",
       "        text-align: right;\n",
       "    }\n",
       "</style>\n",
       "<table border=\"1\" class=\"dataframe\">\n",
       "  <thead>\n",
       "    <tr style=\"text-align: right;\">\n",
       "      <th></th>\n",
       "      <th>Unnamed: 0</th>\n",
       "      <th>fasta</th>\n",
       "      <th>scaffold</th>\n",
       "      <th>gene_position</th>\n",
       "      <th>start_position</th>\n",
       "      <th>end_position</th>\n",
       "      <th>strandedness</th>\n",
       "      <th>rank</th>\n",
       "      <th>kegg_id</th>\n",
       "      <th>kegg_hit</th>\n",
       "      <th>...</th>\n",
       "      <th>peptidase_id</th>\n",
       "      <th>peptidase_family</th>\n",
       "      <th>peptidase_hit</th>\n",
       "      <th>peptidase_RBH</th>\n",
       "      <th>peptidase_identity</th>\n",
       "      <th>peptidase_bitScore</th>\n",
       "      <th>peptidase_eVal</th>\n",
       "      <th>vogdb_hits</th>\n",
       "      <th>is_transposon</th>\n",
       "      <th>amg_flags</th>\n",
       "    </tr>\n",
       "  </thead>\n",
       "  <tbody>\n",
       "    <tr>\n",
       "      <th>0</th>\n",
       "      <td>4Wh2oV_3h_scaffold_1000051_1</td>\n",
       "      <td>4Wh2oV_3h_scaffold_1000051</td>\n",
       "      <td>4Wh2oV_3h_scaffold_1000051</td>\n",
       "      <td>1</td>\n",
       "      <td>2</td>\n",
       "      <td>448</td>\n",
       "      <td>-1</td>\n",
       "      <td>E</td>\n",
       "      <td>NaN</td>\n",
       "      <td>NaN</td>\n",
       "      <td>...</td>\n",
       "      <td>NaN</td>\n",
       "      <td>NaN</td>\n",
       "      <td>NaN</td>\n",
       "      <td>NaN</td>\n",
       "      <td>NaN</td>\n",
       "      <td>NaN</td>\n",
       "      <td>NaN</td>\n",
       "      <td>NaN</td>\n",
       "      <td>False</td>\n",
       "      <td>F</td>\n",
       "    </tr>\n",
       "    <tr>\n",
       "      <th>1</th>\n",
       "      <td>4Wh2oV_3h_scaffold_1000051_2</td>\n",
       "      <td>4Wh2oV_3h_scaffold_1000051</td>\n",
       "      <td>4Wh2oV_3h_scaffold_1000051</td>\n",
       "      <td>2</td>\n",
       "      <td>435</td>\n",
       "      <td>932</td>\n",
       "      <td>-1</td>\n",
       "      <td>E</td>\n",
       "      <td>NaN</td>\n",
       "      <td>NaN</td>\n",
       "      <td>...</td>\n",
       "      <td>NaN</td>\n",
       "      <td>NaN</td>\n",
       "      <td>NaN</td>\n",
       "      <td>NaN</td>\n",
       "      <td>NaN</td>\n",
       "      <td>NaN</td>\n",
       "      <td>NaN</td>\n",
       "      <td>NaN</td>\n",
       "      <td>False</td>\n",
       "      <td>F</td>\n",
       "    </tr>\n",
       "    <tr>\n",
       "      <th>2</th>\n",
       "      <td>4Wh2oV_3h_scaffold_1000051_3</td>\n",
       "      <td>4Wh2oV_3h_scaffold_1000051</td>\n",
       "      <td>4Wh2oV_3h_scaffold_1000051</td>\n",
       "      <td>3</td>\n",
       "      <td>936</td>\n",
       "      <td>1883</td>\n",
       "      <td>-1</td>\n",
       "      <td>E</td>\n",
       "      <td>NaN</td>\n",
       "      <td>NaN</td>\n",
       "      <td>...</td>\n",
       "      <td>NaN</td>\n",
       "      <td>NaN</td>\n",
       "      <td>NaN</td>\n",
       "      <td>NaN</td>\n",
       "      <td>NaN</td>\n",
       "      <td>NaN</td>\n",
       "      <td>NaN</td>\n",
       "      <td>NaN</td>\n",
       "      <td>False</td>\n",
       "      <td>F</td>\n",
       "    </tr>\n",
       "    <tr>\n",
       "      <th>3</th>\n",
       "      <td>4Wh2oV_3h_scaffold_1000051_4</td>\n",
       "      <td>4Wh2oV_3h_scaffold_1000051</td>\n",
       "      <td>4Wh2oV_3h_scaffold_1000051</td>\n",
       "      <td>4</td>\n",
       "      <td>1908</td>\n",
       "      <td>2129</td>\n",
       "      <td>-1</td>\n",
       "      <td>E</td>\n",
       "      <td>NaN</td>\n",
       "      <td>NaN</td>\n",
       "      <td>...</td>\n",
       "      <td>NaN</td>\n",
       "      <td>NaN</td>\n",
       "      <td>NaN</td>\n",
       "      <td>NaN</td>\n",
       "      <td>NaN</td>\n",
       "      <td>NaN</td>\n",
       "      <td>NaN</td>\n",
       "      <td>NaN</td>\n",
       "      <td>False</td>\n",
       "      <td>F</td>\n",
       "    </tr>\n",
       "    <tr>\n",
       "      <th>4</th>\n",
       "      <td>4Wh2oV_3h_scaffold_1000051_5</td>\n",
       "      <td>4Wh2oV_3h_scaffold_1000051</td>\n",
       "      <td>4Wh2oV_3h_scaffold_1000051</td>\n",
       "      <td>5</td>\n",
       "      <td>2126</td>\n",
       "      <td>2260</td>\n",
       "      <td>-1</td>\n",
       "      <td>E</td>\n",
       "      <td>NaN</td>\n",
       "      <td>NaN</td>\n",
       "      <td>...</td>\n",
       "      <td>NaN</td>\n",
       "      <td>NaN</td>\n",
       "      <td>NaN</td>\n",
       "      <td>NaN</td>\n",
       "      <td>NaN</td>\n",
       "      <td>NaN</td>\n",
       "      <td>NaN</td>\n",
       "      <td>NaN</td>\n",
       "      <td>False</td>\n",
       "      <td>F</td>\n",
       "    </tr>\n",
       "  </tbody>\n",
       "</table>\n",
       "<p>5 rows × 31 columns</p>\n",
       "</div>"
      ],
      "text/plain": [
       "                     Unnamed: 0                       fasta  \\\n",
       "0  4Wh2oV_3h_scaffold_1000051_1  4Wh2oV_3h_scaffold_1000051   \n",
       "1  4Wh2oV_3h_scaffold_1000051_2  4Wh2oV_3h_scaffold_1000051   \n",
       "2  4Wh2oV_3h_scaffold_1000051_3  4Wh2oV_3h_scaffold_1000051   \n",
       "3  4Wh2oV_3h_scaffold_1000051_4  4Wh2oV_3h_scaffold_1000051   \n",
       "4  4Wh2oV_3h_scaffold_1000051_5  4Wh2oV_3h_scaffold_1000051   \n",
       "\n",
       "                     scaffold  gene_position  start_position  end_position  \\\n",
       "0  4Wh2oV_3h_scaffold_1000051              1               2           448   \n",
       "1  4Wh2oV_3h_scaffold_1000051              2             435           932   \n",
       "2  4Wh2oV_3h_scaffold_1000051              3             936          1883   \n",
       "3  4Wh2oV_3h_scaffold_1000051              4            1908          2129   \n",
       "4  4Wh2oV_3h_scaffold_1000051              5            2126          2260   \n",
       "\n",
       "   strandedness rank kegg_id kegg_hit  ... peptidase_id peptidase_family  \\\n",
       "0            -1    E     NaN      NaN  ...          NaN              NaN   \n",
       "1            -1    E     NaN      NaN  ...          NaN              NaN   \n",
       "2            -1    E     NaN      NaN  ...          NaN              NaN   \n",
       "3            -1    E     NaN      NaN  ...          NaN              NaN   \n",
       "4            -1    E     NaN      NaN  ...          NaN              NaN   \n",
       "\n",
       "  peptidase_hit  peptidase_RBH  peptidase_identity  peptidase_bitScore  \\\n",
       "0           NaN            NaN                 NaN                 NaN   \n",
       "1           NaN            NaN                 NaN                 NaN   \n",
       "2           NaN            NaN                 NaN                 NaN   \n",
       "3           NaN            NaN                 NaN                 NaN   \n",
       "4           NaN            NaN                 NaN                 NaN   \n",
       "\n",
       "  peptidase_eVal vogdb_hits is_transposon amg_flags  \n",
       "0            NaN        NaN         False         F  \n",
       "1            NaN        NaN         False         F  \n",
       "2            NaN        NaN         False         F  \n",
       "3            NaN        NaN         False         F  \n",
       "4            NaN        NaN         False         F  \n",
       "\n",
       "[5 rows x 31 columns]"
      ]
     },
     "execution_count": 219,
     "metadata": {},
     "output_type": "execute_result"
    }
   ],
   "source": [
    "# pd.concat all annotation files\n",
    "anno_tsvs = []\n",
    "for annotation_tsv in glob.glob(indir+\"split*/annotations.tsv\"):\n",
    "    anno_tsvs.append(pd.read_csv(annotation_tsv,sep='\\t'))\n",
    "\n",
    "for annotation_tsv in glob.glob(indir + \"working_dir/*/annotations.tsv\"):\n",
    "    anno_tsvs.append(pd.read_csv(annotation_tsv,sep='\\t'))\n",
    "\n",
    "annotations = pd.concat(anno_tsvs)"
   ]
  },
  {
   "cell_type": "code",
   "execution_count": 230,
   "metadata": {},
   "outputs": [
    {
     "data": {
      "text/html": [
       "<div>\n",
       "<style scoped>\n",
       "    .dataframe tbody tr th:only-of-type {\n",
       "        vertical-align: middle;\n",
       "    }\n",
       "\n",
       "    .dataframe tbody tr th {\n",
       "        vertical-align: top;\n",
       "    }\n",
       "\n",
       "    .dataframe thead th {\n",
       "        text-align: right;\n",
       "    }\n",
       "</style>\n",
       "<table border=\"1\" class=\"dataframe\">\n",
       "  <thead>\n",
       "    <tr style=\"text-align: right;\">\n",
       "      <th></th>\n",
       "      <th>orf</th>\n",
       "      <th>fasta</th>\n",
       "      <th>scaffold</th>\n",
       "      <th>gene_position</th>\n",
       "      <th>start_position</th>\n",
       "      <th>end_position</th>\n",
       "      <th>strandedness</th>\n",
       "      <th>rank</th>\n",
       "      <th>kegg_id</th>\n",
       "      <th>kegg_hit</th>\n",
       "      <th>...</th>\n",
       "      <th>peptidase_id</th>\n",
       "      <th>peptidase_family</th>\n",
       "      <th>peptidase_hit</th>\n",
       "      <th>peptidase_RBH</th>\n",
       "      <th>peptidase_identity</th>\n",
       "      <th>peptidase_bitScore</th>\n",
       "      <th>peptidase_eVal</th>\n",
       "      <th>vogdb_hits</th>\n",
       "      <th>is_transposon</th>\n",
       "      <th>amg_flags</th>\n",
       "    </tr>\n",
       "  </thead>\n",
       "  <tbody>\n",
       "    <tr>\n",
       "      <th>0</th>\n",
       "      <td>4Wh2oV_3h_scaffold_1000051_1</td>\n",
       "      <td>4Wh2oV_3h_scaffold_1000051</td>\n",
       "      <td>4Wh2oV_3h_scaffold_1000051</td>\n",
       "      <td>1</td>\n",
       "      <td>2</td>\n",
       "      <td>448</td>\n",
       "      <td>-1</td>\n",
       "      <td>E</td>\n",
       "      <td>NaN</td>\n",
       "      <td>NaN</td>\n",
       "      <td>...</td>\n",
       "      <td>NaN</td>\n",
       "      <td>NaN</td>\n",
       "      <td>NaN</td>\n",
       "      <td>NaN</td>\n",
       "      <td>NaN</td>\n",
       "      <td>NaN</td>\n",
       "      <td>NaN</td>\n",
       "      <td>NaN</td>\n",
       "      <td>False</td>\n",
       "      <td>F</td>\n",
       "    </tr>\n",
       "    <tr>\n",
       "      <th>1</th>\n",
       "      <td>4Wh2oV_3h_scaffold_1000051_2</td>\n",
       "      <td>4Wh2oV_3h_scaffold_1000051</td>\n",
       "      <td>4Wh2oV_3h_scaffold_1000051</td>\n",
       "      <td>2</td>\n",
       "      <td>435</td>\n",
       "      <td>932</td>\n",
       "      <td>-1</td>\n",
       "      <td>E</td>\n",
       "      <td>NaN</td>\n",
       "      <td>NaN</td>\n",
       "      <td>...</td>\n",
       "      <td>NaN</td>\n",
       "      <td>NaN</td>\n",
       "      <td>NaN</td>\n",
       "      <td>NaN</td>\n",
       "      <td>NaN</td>\n",
       "      <td>NaN</td>\n",
       "      <td>NaN</td>\n",
       "      <td>NaN</td>\n",
       "      <td>False</td>\n",
       "      <td>F</td>\n",
       "    </tr>\n",
       "    <tr>\n",
       "      <th>2</th>\n",
       "      <td>4Wh2oV_3h_scaffold_1000051_3</td>\n",
       "      <td>4Wh2oV_3h_scaffold_1000051</td>\n",
       "      <td>4Wh2oV_3h_scaffold_1000051</td>\n",
       "      <td>3</td>\n",
       "      <td>936</td>\n",
       "      <td>1883</td>\n",
       "      <td>-1</td>\n",
       "      <td>E</td>\n",
       "      <td>NaN</td>\n",
       "      <td>NaN</td>\n",
       "      <td>...</td>\n",
       "      <td>NaN</td>\n",
       "      <td>NaN</td>\n",
       "      <td>NaN</td>\n",
       "      <td>NaN</td>\n",
       "      <td>NaN</td>\n",
       "      <td>NaN</td>\n",
       "      <td>NaN</td>\n",
       "      <td>NaN</td>\n",
       "      <td>False</td>\n",
       "      <td>F</td>\n",
       "    </tr>\n",
       "    <tr>\n",
       "      <th>3</th>\n",
       "      <td>4Wh2oV_3h_scaffold_1000051_4</td>\n",
       "      <td>4Wh2oV_3h_scaffold_1000051</td>\n",
       "      <td>4Wh2oV_3h_scaffold_1000051</td>\n",
       "      <td>4</td>\n",
       "      <td>1908</td>\n",
       "      <td>2129</td>\n",
       "      <td>-1</td>\n",
       "      <td>E</td>\n",
       "      <td>NaN</td>\n",
       "      <td>NaN</td>\n",
       "      <td>...</td>\n",
       "      <td>NaN</td>\n",
       "      <td>NaN</td>\n",
       "      <td>NaN</td>\n",
       "      <td>NaN</td>\n",
       "      <td>NaN</td>\n",
       "      <td>NaN</td>\n",
       "      <td>NaN</td>\n",
       "      <td>NaN</td>\n",
       "      <td>False</td>\n",
       "      <td>F</td>\n",
       "    </tr>\n",
       "    <tr>\n",
       "      <th>4</th>\n",
       "      <td>4Wh2oV_3h_scaffold_1000051_5</td>\n",
       "      <td>4Wh2oV_3h_scaffold_1000051</td>\n",
       "      <td>4Wh2oV_3h_scaffold_1000051</td>\n",
       "      <td>5</td>\n",
       "      <td>2126</td>\n",
       "      <td>2260</td>\n",
       "      <td>-1</td>\n",
       "      <td>E</td>\n",
       "      <td>NaN</td>\n",
       "      <td>NaN</td>\n",
       "      <td>...</td>\n",
       "      <td>NaN</td>\n",
       "      <td>NaN</td>\n",
       "      <td>NaN</td>\n",
       "      <td>NaN</td>\n",
       "      <td>NaN</td>\n",
       "      <td>NaN</td>\n",
       "      <td>NaN</td>\n",
       "      <td>NaN</td>\n",
       "      <td>False</td>\n",
       "      <td>F</td>\n",
       "    </tr>\n",
       "  </tbody>\n",
       "</table>\n",
       "<p>5 rows × 31 columns</p>\n",
       "</div>"
      ],
      "text/plain": [
       "                            orf                       fasta  \\\n",
       "0  4Wh2oV_3h_scaffold_1000051_1  4Wh2oV_3h_scaffold_1000051   \n",
       "1  4Wh2oV_3h_scaffold_1000051_2  4Wh2oV_3h_scaffold_1000051   \n",
       "2  4Wh2oV_3h_scaffold_1000051_3  4Wh2oV_3h_scaffold_1000051   \n",
       "3  4Wh2oV_3h_scaffold_1000051_4  4Wh2oV_3h_scaffold_1000051   \n",
       "4  4Wh2oV_3h_scaffold_1000051_5  4Wh2oV_3h_scaffold_1000051   \n",
       "\n",
       "                     scaffold  gene_position  start_position  end_position  \\\n",
       "0  4Wh2oV_3h_scaffold_1000051              1               2           448   \n",
       "1  4Wh2oV_3h_scaffold_1000051              2             435           932   \n",
       "2  4Wh2oV_3h_scaffold_1000051              3             936          1883   \n",
       "3  4Wh2oV_3h_scaffold_1000051              4            1908          2129   \n",
       "4  4Wh2oV_3h_scaffold_1000051              5            2126          2260   \n",
       "\n",
       "   strandedness rank kegg_id kegg_hit  ... peptidase_id peptidase_family  \\\n",
       "0            -1    E     NaN      NaN  ...          NaN              NaN   \n",
       "1            -1    E     NaN      NaN  ...          NaN              NaN   \n",
       "2            -1    E     NaN      NaN  ...          NaN              NaN   \n",
       "3            -1    E     NaN      NaN  ...          NaN              NaN   \n",
       "4            -1    E     NaN      NaN  ...          NaN              NaN   \n",
       "\n",
       "  peptidase_hit  peptidase_RBH  peptidase_identity  peptidase_bitScore  \\\n",
       "0           NaN            NaN                 NaN                 NaN   \n",
       "1           NaN            NaN                 NaN                 NaN   \n",
       "2           NaN            NaN                 NaN                 NaN   \n",
       "3           NaN            NaN                 NaN                 NaN   \n",
       "4           NaN            NaN                 NaN                 NaN   \n",
       "\n",
       "  peptidase_eVal vogdb_hits is_transposon amg_flags  \n",
       "0            NaN        NaN         False         F  \n",
       "1            NaN        NaN         False         F  \n",
       "2            NaN        NaN         False         F  \n",
       "3            NaN        NaN         False         F  \n",
       "4            NaN        NaN         False         F  \n",
       "\n",
       "[5 rows x 31 columns]"
      ]
     },
     "execution_count": 230,
     "metadata": {},
     "output_type": "execute_result"
    }
   ],
   "source": [
    "annotations.rename({'Unnamed: 0':'orf'},axis=1,inplace=True)\n",
    "annotations.to_csv(outdir+\"annotations.tsv\",index=False)\n",
    "annotations.head(5)"
   ]
  },
  {
   "cell_type": "markdown",
   "metadata": {},
   "source": [
    "Steps to get vCONTACT2 Running:\n",
    "1. make a concatenated protein file for all viromes and metagenomes (original)\n",
    "2. run pullseq for selected vOTUs\n",
    "3. generate gene to genome mapping file "
   ]
  },
  {
   "cell_type": "code",
   "execution_count": 23,
   "metadata": {
    "collapsed": true,
    "jupyter": {
     "outputs_hidden": true
    },
    "tags": []
   },
   "outputs": [
    {
     "name": "stdout",
     "output_type": "stream",
     "text": [
      "cat /groups/banfield/projects/environmental/4thwedge/2021/4Wh2oV/assembly.d/4Wh2oV_0h_megahit/4Wh2oV_0h_scaffold_ct.fa.genes.faa /groups/banfield/projects/environmental/4thwedge/2021/4Wh2oV/assembly.d/4Wh2oV_48h_megahit/4Wh2oV_48h_scaffold_ct.fa.genes.faa /groups/banfield/projects/environmental/4thwedge/2021/4Wh2oV/assembly.d/4Wh2oV_24h_megahit/4Wh2oV_24h_scaffold_ct.fa.genes.faa /groups/banfield/projects/environmental/4thwedge/2021/4Wh2oV/assembly.d/4Wh2oV_168h_megahit/4Wh2oV_168h_scaffold_ct.fa.genes.faa /groups/banfield/projects/environmental/4thwedge/2021/4Wh2oV/assembly.d/4Wh2oV_72h_megahit/4Wh2oV_72h_scaffold_ct.fa.genes.faa /groups/banfield/projects/environmental/4thwedge/2021/4Wh2oV/assembly.d/4Wh2oV_3h_megahit/4Wh2oV_3h_scaffold_ct.fa.genes.faa > /groups/banfield/projects/environmental/4thwedge/2021/4Wh2oV/annotations.d/proteins_d/4Wh2oV_scaffolds.fa.genes.faa\n"
     ]
    }
   ],
   "source": [
    "assembly = '/groups/banfield/projects/environmental/4thwedge/2021/4Wh2oV/assembly.d/'\n",
    "proteins = []\n",
    "out_dir = '/groups/banfield/projects/environmental/4thwedge/2021/4Wh2oV/annotations.d/proteins_d/'\n",
    "for protein in glob.glob(assembly + \"*megahit/*faa\"):\n",
    "    proteins.append(protein)\n",
    "cat_cmd = 'cat ' + \" \".join(proteins) + \" > \" + out_dir + \"4Wh2oV_scaffolds.fa.genes.faa\"\n",
    "print(cat_cmd)"
   ]
  },
  {
   "cell_type": "code",
   "execution_count": 28,
   "metadata": {
    "collapsed": true,
    "jupyter": {
     "outputs_hidden": true
    },
    "tags": []
   },
   "outputs": [
    {
     "name": "stdout",
     "output_type": "stream",
     "text": [
      "cat /groups/banfield/projects/environmental/4thwedge/2020/assembly.d/12C16O_72h_100_unf_megahit/12C16O_72h_100_unf_scaffold_min1000.fa.genes.faa /groups/banfield/projects/environmental/4thwedge/2020/assembly.d/12C16O_168h_50_unf_megahit/12C16O_168h_50_unf_scaffold_min1000.fa.genes.faa /groups/banfield/projects/environmental/4thwedge/2020/assembly.d/12C16O_48h_100_unf_megahit/12C16O_48h_100_unf_scaffold_min1000.fa.genes.faa /groups/banfield/projects/environmental/4thwedge/2020/assembly.d/12C16O_0h_100_unf_megahit/12C16O_0h_100_unf_scaffold_min1000.fa.genes.faa /groups/banfield/projects/environmental/4thwedge/2020/assembly.d/12C16O_24h_100_unf_megahit/12C16O_24h_100_unf_scaffold_min1000.fa.genes.faa /groups/banfield/projects/environmental/4thwedge/2020/assembly.d/12C16O_48h_50_unf_megahit/12C16O_48h_50_unf_scaffold_min1000.fa.genes.faa /groups/banfield/projects/environmental/4thwedge/2020/assembly.d/12C16O_0h_50_unf_megahit/12C16O_0h_50_unf_scaffold_min1000.fa.genes.faa /groups/banfield/projects/environmental/4thwedge/2020/assembly.d/12C16O_168h_100_unf_megahit/12C16O_168h_100_unf_scaffold_min1000.fa.genes.faa > /groups/banfield/projects/environmental/4thwedge/2021/4Wh2oV/annotations.d/proteins_d/12C16O_unf_megahit_min1000.fa.genes.faa\n"
     ]
    }
   ],
   "source": [
    "proteins = []\n",
    "for protein in glob.glob(metag_assembly_dir + \"*megahit/12C16O_*h_*_unf_scaffold_min1000*faa\"):\n",
    "    proteins.append(protein)\n",
    "cat_cmd = 'cat ' + \" \".join(proteins) + \" > \" + out_dir + \"12C16O_unf_megahit_min1000.fa.genes.faa\"\n",
    "print(cat_cmd)"
   ]
  },
  {
   "cell_type": "code",
   "execution_count": 29,
   "metadata": {
    "collapsed": true,
    "jupyter": {
     "outputs_hidden": true
    },
    "tags": []
   },
   "outputs": [
    {
     "data": {
      "text/plain": [
       "'python /groups/banfield/users/alexa/bioscripts/fasta_filter_protein_from_scaffold.py -p /groups/banfield/projects/environmental/4thwedge/2021/4Wh2oV/annotations.d/proteins_d/4Wh2oV_scaffolds.fa.genes.faa -s /groups/banfield/projects/environmental/4thwedge/2021/4Wh2oV/viral_id/drep_viral_set/viral_scaffold_set.txt -o /groups/banfield/projects/environmental/4thwedge/2021/4Wh2oV/annotations.d/proteins_d/4Wh2oV_vOTUs.fa.genes.faa'"
      ]
     },
     "execution_count": 29,
     "metadata": {},
     "output_type": "execute_result"
    }
   ],
   "source": [
    "# use /groups/banfield/users/alexa/bioscripts/fasta_filter_protein_from_scaffold.py to pullseq proteins for vOTUs and the concatenated\n",
    "pullseq_call = 'python /groups/banfield/users/alexa/bioscripts/fasta_filter_protein_from_scaffold.py -p ' + \\\n",
    "                \"/groups/banfield/projects/environmental/4thwedge/2021/4Wh2oV/annotations.d/proteins_d/4Wh2oV_scaffolds.fa.genes.faa\" + \\\n",
    "                \" -s /groups/banfield/projects/environmental/4thwedge/2021/4Wh2oV/viral_id/drep_viral_set/viral_scaffold_set.txt\" + \\\n",
    "                \" -o \" + out_dir + \"4Wh2oV_vOTUs.fa.genes.faa\"\n",
    "pullseq_call"
   ]
  },
  {
   "cell_type": "code",
   "execution_count": 30,
   "metadata": {},
   "outputs": [
    {
     "data": {
      "text/plain": [
       "'python /groups/banfield/users/alexa/bioscripts/fasta_filter_protein_from_scaffold.py -p /groups/banfield/projects/environmental/4thwedge/2021/4Wh2oV/annotations.d/proteins_d/12C16O_unf_megahit_min1000.fa.genes.faa -s /groups/banfield/projects/environmental/4thwedge/2021/4Wh2oV/viral_id/drep_viral_set/viral_scaffold_set.txt -o /groups/banfield/projects/environmental/4thwedge/2021/4Wh2oV/annotations.d/proteins_d/12C16O_unf_megahit_vOTUs.fa.genes.faa'"
      ]
     },
     "execution_count": 30,
     "metadata": {},
     "output_type": "execute_result"
    }
   ],
   "source": [
    "# use /groups/banfield/users/alexa/bioscripts/fasta_filter_protein_from_scaffold.py to pullseq proteins for vOTUs and the concatenated\n",
    "pullseq_call = 'python /groups/banfield/users/alexa/bioscripts/fasta_filter_protein_from_scaffold.py -p ' + \\\n",
    "                \"/groups/banfield/projects/environmental/4thwedge/2021/4Wh2oV/annotations.d/proteins_d/12C16O_unf_megahit_min1000.fa.genes.faa\" + \\\n",
    "                \" -s /groups/banfield/projects/environmental/4thwedge/2021/4Wh2oV/viral_id/drep_viral_set/viral_scaffold_set.txt\" + \\\n",
    "                \" -o \" + out_dir + \"12C16O_unf_megahit_vOTUs.fa.genes.faa\"\n",
    "pullseq_call"
   ]
  },
  {
   "cell_type": "code",
   "execution_count": 31,
   "metadata": {},
   "outputs": [
    {
     "data": {
      "text/plain": [
       "'cat *vOTUs.fa.genes.faa > /groups/banfield/projects/environmental/4thwedge/2021/4Wh2oV/annotations.d/proteins_d/4thWedge_vOTU_proteins.fa.genes.faa'"
      ]
     },
     "execution_count": 31,
     "metadata": {},
     "output_type": "execute_result"
    }
   ],
   "source": [
    "cat_call = \"cat *vOTUs.fa.genes.faa > \" + out_dir + \"4thWedge_vOTU_proteins.fa.genes.faa\"\n",
    "cat_call"
   ]
  },
  {
   "cell_type": "code",
   "execution_count": 42,
   "metadata": {},
   "outputs": [],
   "source": [
    "proteins = \"/groups/banfield/projects/environmental/4thwedge/2021/4Wh2oV/annotations.d/proteins_d/4thWedge_vOTU_proteins.fa.genes.faa\"\n",
    "genes_to_scaff = {}\n",
    "for record in SeqIO.parse(open(proteins), \"fasta\"):\n",
    "    scaff = record.id.rsplit(\"_\",1)[0]\n",
    "    genes_to_scaff[record.id] = scaff\n",
    "with open(out_dir+\"4thWedge_vOTU_gene2genome.csv\",\"w\") as outfile:\n",
    "    outfile.write(\"protein_id,contig_id\\n\")\n",
    "    for key,val in genes_to_scaff.items():\n",
    "        outfile.write(key +\",\"+ val +\"\\n\")"
   ]
  },
  {
   "cell_type": "code",
   "execution_count": 47,
   "metadata": {},
   "outputs": [
    {
     "data": {
      "text/plain": [
       "\"sbatch --wrap '/shared/software/bin/vcontact2 -r /groups/banfield/projects/environmental/4thwedge/2021/4Wh2oV/annotations.d/proteins_d/4thWedge_vOTU_proteins.fa.genes.faa --proteins-fp /groups/banfield/projects/environmental/4thwedge/2021/4Wh2oV/annotations.d/proteins_d/4thWedge_vOTU_gene2genome.csv --db ProkaryoticViralRefSeq201-Merged --pcs-mode MCL --vcs-mode ClusterONE --c1-bin /container/programs/cluster_one-1.0.jar -o /groups/banfield/projects/environmental/4thwedge/2021/4Wh2oV/viral_id/vcontact_out/'\""
      ]
     },
     "execution_count": 47,
     "metadata": {},
     "output_type": "execute_result"
    }
   ],
   "source": [
    "mapping_file = out_dir+\"4thWedge_vOTU_gene2genome.csv\"\n",
    "vc_call = \"sbatch --wrap '/shared/software/bin/vcontact2 -r \" + proteins + \" --proteins-fp \" + mapping_file + \\\n",
    "            \" --db ProkaryoticViralRefSeq201-Merged --pcs-mode MCL --vcs-mode ClusterONE --c1-bin /container/programs/cluster_one-1.0.jar -o \" \\\n",
    "            + \"/groups/banfield/projects/environmental/4thwedge/2021/4Wh2oV/viral_id/vcontact_out/'\"\n",
    "vc_call"
   ]
  },
  {
   "cell_type": "code",
   "execution_count": 51,
   "metadata": {},
   "outputs": [],
   "source": [
    "vc_out = pd.read_csv('/groups/banfield/projects/environmental/4thwedge/2021/4Wh2oV/viral_id/vcontact_out/merged_df.csv').drop(columns=['Unnamed: 0'])"
   ]
  },
  {
   "cell_type": "markdown",
   "metadata": {},
   "source": [
    "Need to rerun vCONTACT with viruses from emerson lab?"
   ]
  },
  {
   "cell_type": "markdown",
   "metadata": {},
   "source": [
    "Sources of host taxonomy:\n",
    "\n",
    "1. CRISPR matches\n",
    "* spacers in MAGs matched to vOTUs\n",
    "  (MAG taxonomy from GTDB)\n",
    "\n",
    "* spacers in unbinned metagenome sequences matched to vOTUs\n",
    "  (taxonomy using Kaiju)\n",
    "  \n",
    "* spacers in vOTUs matched to MAGs\n",
    "  (MAG taxonomy from GTDB)\n",
    "\n",
    "* spacer database (Shmakov et al., 2017 doi: 10.1128/mBio.01397-17) aligned to vOTUs\n",
    "  (spacer taxonomy from NCBI)\n",
    "  \n",
    "2. vOTU taxonomy predictions (using Kaiju)"
   ]
  },
  {
   "cell_type": "markdown",
   "metadata": {},
   "source": [
    "### Workflow:\n",
    "\n",
    "#### Establishing Kaiju-based taxonomy\n",
    "  1. unbinned mg contigs with spacers\n",
    "  2. vOTU taxonomy via kaiju\n",
    "#### MAG-based taxonomy\n",
    "  vOTU spacers matched to MAGs\n",
    "#### NCBI-based taxonomy\n",
    "  1. Previously published Spacer DB\n",
    "  2. MAG spacers matched to vOTUs\n",
    " \n",
    "#### Host Linkage\n",
    "- matching unbinned spacers to vOTUs\n",
    "\n",
    "#### Cleaning up all host matches and merging into single df\n",
    "\n",
    "#### Establishing host consensus taxonomy\n",
    "\n",
    "#### Creating working definition of taxonomies to use in analyses"
   ]
  },
  {
   "cell_type": "code",
   "execution_count": 2,
   "metadata": {
    "tags": []
   },
   "outputs": [],
   "source": [
    "# MAG scaff to bin and taxonomy\n",
    "s2b = pd.read_csv('/groups/banfield/projects/environmental/4thwedge/2021/4Wh2oV/annotations.d/MAG_spacer_blast_out/4W_scaf_to_bin_nonderep.txt',\n",
    "                  sep='\\t',header=None,names=['scaffold','Bin'])\n",
    "b2taxa = pd.read_csv('/groups/banfield/projects/environmental/4thwedge/2021/4Wh2oV/annotations.d/MAG_spacer_blast_out/MAG_tax.csv')\n",
    "s2b = s2b.merge(b2taxa, how='left',on='Bin')\n",
    "# s2b['scaffold_id'] = s2b['scaffold'].str.split(\"_\").str[0:5].str.join(\"_\")+\"_\"+ s2b['scaffold'].str.split(\"_\").str[7:].str.join(\"_\")"
   ]
  },
  {
   "cell_type": "code",
   "execution_count": 4,
   "metadata": {
    "tags": []
   },
   "outputs": [],
   "source": [
    "mag_ncbi = pd.read_csv(\n",
    "\"/groups/banfield/projects/environmental/4thwedge/2021/4Wh2oV/csvs/MAG_data_ella/ncbi_mag_taxa.txt\",\n",
    "    sep='\\t'\n",
    ")"
   ]
  },
  {
   "cell_type": "code",
   "execution_count": 12,
   "metadata": {
    "tags": []
   },
   "outputs": [],
   "source": [
    "# need to read in drep and also mark whether a bin is the representative genome chosen  \n",
    "representatives = []\n",
    "drep_dir = '/groups/banfield/projects/environmental/4thwedge/2020/assembly.d/all_MAGs_disrat0.33/dRep/'\n",
    "for rep in glob.glob(drep_dir + \"dereplicated_genomes/*fa\"):\n",
    "    representatives.append(os.path.basename(rep))\n",
    "\n",
    "drep_df = pd.read_csv(drep_dir+'data_tables/Cdb.csv')\n",
    "drep_df['representative'] =drep_df['genome'].isin(representatives)"
   ]
  },
  {
   "cell_type": "code",
   "execution_count": null,
   "metadata": {
    "tags": []
   },
   "outputs": [],
   "source": [
    "drep_df['Bin'] = drep_df['genome'].str.replace(\".fa\",\"\")\n",
    "drep_df['bin'] = drep_df['Bin'].str.replace(\".\",\"_\")"
   ]
  },
  {
   "cell_type": "code",
   "execution_count": 34,
   "metadata": {
    "tags": []
   },
   "outputs": [],
   "source": [
    "# make dict keys = clusters so can match later cluster --> representative genome\n",
    "clusters = drep_df[drep_df['representative']==True\n",
    "       ][['secondary_cluster','bin']].set_index('secondary_cluster'\n",
    "                                               ).to_dict(orient='dict')['bin']"
   ]
  },
  {
   "cell_type": "code",
   "execution_count": 16,
   "metadata": {
    "tags": []
   },
   "outputs": [],
   "source": [
    "s2b = s2b.merge(drep_df[['secondary_cluster','Bin']],on='Bin',how='left')"
   ]
  },
  {
   "cell_type": "code",
   "execution_count": 17,
   "metadata": {
    "tags": []
   },
   "outputs": [],
   "source": [
    "# mag_ncbi merge \n",
    "s2b = s2b.merge(mag_ncbi.rename(columns={\"MAG\":'bin','GTDB_taxonomy':'classification'}), \n",
    "                how='left',\n",
    "         on=['bin','classification'],validate='m:1')"
   ]
  },
  {
   "cell_type": "markdown",
   "metadata": {
    "jp-MarkdownHeadingCollapsed": true
   },
   "source": [
    "### Need to assign an NCBI taxonomy to maximum number of MAGs based on drep cluster"
   ]
  },
  {
   "cell_type": "code",
   "execution_count": null,
   "metadata": {
    "tags": []
   },
   "outputs": [],
   "source": [
    "s2b['taxa'] = s2b[['ncbi_drep']].rename(\n",
    "columns={'ncbi_drep':'taxa'}).combine_first(s2b[['classification']].rename(\n",
    "columns={'classification':'taxa'}))"
   ]
  },
  {
   "cell_type": "markdown",
   "metadata": {
    "tags": []
   },
   "source": [
    "## Unbinned metagenome contig taxonomy via Kaiju"
   ]
  },
  {
   "cell_type": "markdown",
   "metadata": {},
   "source": [
    "for contigs not in MAGs containing CRISPR arrays, establish contig-level taxonomy using Kaiju"
   ]
  },
  {
   "cell_type": "code",
   "execution_count": 122,
   "metadata": {},
   "outputs": [],
   "source": [
    "# read in and format kaiju output \n",
    "kaiju_unbinned_spacers = pd.read_csv(\n",
    "'/groups/banfield/projects/environmental/4thwedge/2020/assembly.d/minced_disrat0.33/contigs_w_spacers_kaiju_out_names.tsv',\n",
    "    sep='\\t',\n",
    "    header=None,\n",
    "    names=['classified','kaiju_scaffold','ncbi_taxid','kaiju_taxonomy'])\n",
    "kaiju_unbinned_spacers = kaiju_unbinned_spacers[kaiju_unbinned_spacers['classified']=='C']\n",
    "kaiju_unbinned_spacers['kaiju_scaffold'] = kaiju_unbinned_spacers['kaiju_scaffold'].str.replace('_scaffold_min_2500_wspacers','')"
   ]
  },
  {
   "cell_type": "markdown",
   "metadata": {},
   "source": [
    "# vOTU taxonomy via Kaiju"
   ]
  },
  {
   "cell_type": "code",
   "execution_count": 2,
   "metadata": {},
   "outputs": [],
   "source": [
    "kaiju_vOTUs = pd.read_csv(\n",
    "'/groups/banfield/projects/environmental/4thwedge/2021/4Wh2oV/viral_id/drep_viral_set/kaiju_names_out.tsv',\n",
    "    sep='\\t',\n",
    "    header=None,\n",
    "    names=['classified','kaiju_scaffold','ncbi_taxid','kaiju_taxonomy'])\n",
    "kaiju_vOTUs = kaiju_vOTUs[kaiju_vOTUs['classified']=='C']"
   ]
  },
  {
   "cell_type": "code",
   "execution_count": 9,
   "metadata": {
    "scrolled": true
   },
   "outputs": [
    {
     "data": {
      "text/html": [
       "<div>\n",
       "<style scoped>\n",
       "    .dataframe tbody tr th:only-of-type {\n",
       "        vertical-align: middle;\n",
       "    }\n",
       "\n",
       "    .dataframe tbody tr th {\n",
       "        vertical-align: top;\n",
       "    }\n",
       "\n",
       "    .dataframe thead th {\n",
       "        text-align: right;\n",
       "    }\n",
       "</style>\n",
       "<table border=\"1\" class=\"dataframe\">\n",
       "  <thead>\n",
       "    <tr style=\"text-align: right;\">\n",
       "      <th></th>\n",
       "      <th>classified</th>\n",
       "      <th>kaiju_scaffold</th>\n",
       "      <th>ncbi_taxid</th>\n",
       "      <th>kaiju_taxonomy</th>\n",
       "    </tr>\n",
       "  </thead>\n",
       "  <tbody>\n",
       "    <tr>\n",
       "      <th>984</th>\n",
       "      <td>C</td>\n",
       "      <td>4Wh2oV_72h_scaffold_118478</td>\n",
       "      <td>2560607</td>\n",
       "      <td>Mycobacterium virus TA17a</td>\n",
       "    </tr>\n",
       "    <tr>\n",
       "      <th>1088</th>\n",
       "      <td>C</td>\n",
       "      <td>4Wh2oV_3h_scaffold_781618</td>\n",
       "      <td>2852170</td>\n",
       "      <td>unclassified Avanivirus</td>\n",
       "    </tr>\n",
       "    <tr>\n",
       "      <th>1163</th>\n",
       "      <td>C</td>\n",
       "      <td>4Wh2oV_0h_scaffold_2031272</td>\n",
       "      <td>2562660</td>\n",
       "      <td>unclassified Cheoctovirus</td>\n",
       "    </tr>\n",
       "  </tbody>\n",
       "</table>\n",
       "</div>"
      ],
      "text/plain": [
       "     classified              kaiju_scaffold  ncbi_taxid  \\\n",
       "984           C  4Wh2oV_72h_scaffold_118478     2560607   \n",
       "1088          C   4Wh2oV_3h_scaffold_781618     2852170   \n",
       "1163          C  4Wh2oV_0h_scaffold_2031272     2562660   \n",
       "\n",
       "                 kaiju_taxonomy  \n",
       "984   Mycobacterium virus TA17a  \n",
       "1088    unclassified Avanivirus  \n",
       "1163  unclassified Cheoctovirus  "
      ]
     },
     "execution_count": 9,
     "metadata": {},
     "output_type": "execute_result"
    }
   ],
   "source": [
    "kaiju_vOTUs[kaiju_vOTUs['kaiju_taxonomy'].str.contains('virus')].head(3)"
   ]
  },
  {
   "cell_type": "markdown",
   "metadata": {},
   "source": [
    "For vOTUs with viral taxonomies establish host using Virus-Host DB (https://www.genome.jp/ftp/db/virushostdb/)"
   ]
  },
  {
   "cell_type": "code",
   "execution_count": 5,
   "metadata": {},
   "outputs": [],
   "source": [
    "virushostdb = pd.read_csv('/groups/banfield/projects/environmental/4thwedge/2021/4Wh2oV/annotations.d/kaiju_out/virushostdb.tsv',sep='\\t')"
   ]
  },
  {
   "cell_type": "code",
   "execution_count": 13,
   "metadata": {
    "scrolled": true
   },
   "outputs": [
    {
     "data": {
      "text/html": [
       "<div>\n",
       "<style scoped>\n",
       "    .dataframe tbody tr th:only-of-type {\n",
       "        vertical-align: middle;\n",
       "    }\n",
       "\n",
       "    .dataframe tbody tr th {\n",
       "        vertical-align: top;\n",
       "    }\n",
       "\n",
       "    .dataframe thead th {\n",
       "        text-align: right;\n",
       "    }\n",
       "</style>\n",
       "<table border=\"1\" class=\"dataframe\">\n",
       "  <thead>\n",
       "    <tr style=\"text-align: right;\">\n",
       "      <th></th>\n",
       "      <th>virus tax id</th>\n",
       "      <th>virus name</th>\n",
       "      <th>virus lineage</th>\n",
       "      <th>refseq id</th>\n",
       "      <th>KEGG GENOME</th>\n",
       "      <th>KEGG DISEASE</th>\n",
       "      <th>DISEASE</th>\n",
       "      <th>host tax id</th>\n",
       "      <th>host name</th>\n",
       "      <th>host lineage</th>\n",
       "      <th>pmid</th>\n",
       "      <th>evidence</th>\n",
       "      <th>sample type</th>\n",
       "      <th>source organism</th>\n",
       "    </tr>\n",
       "  </thead>\n",
       "  <tbody>\n",
       "    <tr>\n",
       "      <th>10723</th>\n",
       "      <td>2560607</td>\n",
       "      <td>Mycobacterium virus TA17a</td>\n",
       "      <td>Viruses; Duplodnaviria; Heunggongvirae; Urovir...</td>\n",
       "      <td>NC_043767</td>\n",
       "      <td>NaN</td>\n",
       "      <td>NaN</td>\n",
       "      <td>NaN</td>\n",
       "      <td>246196.0</td>\n",
       "      <td>Mycolicibacterium smegmatis MC2 155</td>\n",
       "      <td>Bacteria; Terrabacteria group; Actinobacteria;...</td>\n",
       "      <td>NaN</td>\n",
       "      <td>NCBI Virus, RefSeq</td>\n",
       "      <td>NaN</td>\n",
       "      <td>NaN</td>\n",
       "    </tr>\n",
       "  </tbody>\n",
       "</table>\n",
       "</div>"
      ],
      "text/plain": [
       "       virus tax id                 virus name  \\\n",
       "10723       2560607  Mycobacterium virus TA17a   \n",
       "\n",
       "                                           virus lineage  refseq id  \\\n",
       "10723  Viruses; Duplodnaviria; Heunggongvirae; Urovir...  NC_043767   \n",
       "\n",
       "      KEGG GENOME KEGG DISEASE DISEASE  host tax id  \\\n",
       "10723         NaN          NaN     NaN     246196.0   \n",
       "\n",
       "                                 host name  \\\n",
       "10723  Mycolicibacterium smegmatis MC2 155   \n",
       "\n",
       "                                            host lineage pmid  \\\n",
       "10723  Bacteria; Terrabacteria group; Actinobacteria;...  NaN   \n",
       "\n",
       "                 evidence sample type  source organism  \n",
       "10723  NCBI Virus, RefSeq         NaN              NaN  "
      ]
     },
     "execution_count": 13,
     "metadata": {},
     "output_type": "execute_result"
    }
   ],
   "source": [
    "virushostdb[virushostdb['virus name']==\"Mycobacterium virus TA17a\"]"
   ]
  },
  {
   "cell_type": "markdown",
   "metadata": {
    "tags": []
   },
   "source": [
    "### using ncbi_taxid to get full taxonomy for kaiju contigs predicted\n",
    "kaiju output does not provide full phylogenetic information – just highest resolution level taxonomy. Use Entrez to look up full NCBI taxonomy for kaiju output using provided ncbi taxids"
   ]
  },
  {
   "cell_type": "code",
   "execution_count": 139,
   "metadata": {},
   "outputs": [],
   "source": [
    "ncbi_taxid = set(kaiju_vOTUs['ncbi_taxid'].unique().tolist() + kaiju_unbinned_spacers['ncbi_taxid'].unique().tolist())"
   ]
  },
  {
   "cell_type": "code",
   "execution_count": 181,
   "metadata": {
    "tags": []
   },
   "outputs": [],
   "source": [
    "ncbi_taxa_dict = {}\n",
    "with open(\"/groups/banfield/projects/environmental/4thwedge/2021/4Wh2oV/annotations.d/kaiju_out/ncbi_taxid_kaiju_contigs.tsv\", \"w\") as outfile:\n",
    "    outfile.write(\"ncbi_taxid\\ttaxonomy\\n\")\n",
    "    for taxid in ncbi_taxid:\n",
    "        # print(taxid)\n",
    "        try:\n",
    "            handle = Entrez.efetch(db=\"Taxonomy\", id=taxid, retmode=\"xml\")\n",
    "            records = Entrez.read(handle)\n",
    "            ncbi_taxa_dict[taxid] = records[0]['Lineage']\n",
    "            writeout = str(taxid) + \"\\t\" + str(ncbi_taxa_dict[taxid]) +\"\\n\"\n",
    "            outfile.write(writeout)\n",
    "\n",
    "        except:\n",
    "            print(taxid)\n",
    "            writeout=str(taxid) + \"\\tNaN\\n\"\n",
    "            outfile.write(writeout)"
   ]
  },
  {
   "cell_type": "code",
   "execution_count": 14,
   "metadata": {},
   "outputs": [],
   "source": [
    "# create ncbi taxid from tsv previously painstakingly generated using entrez\n",
    "ncbi_taxid_df = pd.read_csv(\n",
    "    '/groups/banfield/projects/environmental/4thwedge/2021/4Wh2oV/annotations.d/kaiju_out/ncbi_taxid_kaiju_contigs.tsv',\n",
    "           sep='\\t')\n",
    "# make dictionary to map taxid\n",
    "ncbi_taxa_dict = ncbi_taxid_df.set_index('ncbi_taxid').to_dict()['taxonomy']"
   ]
  },
  {
   "cell_type": "code",
   "execution_count": 390,
   "metadata": {
    "collapsed": true,
    "jupyter": {
     "outputs_hidden": true
    },
    "tags": []
   },
   "outputs": [
    {
     "name": "stdout",
     "output_type": "stream",
     "text": [
      "134537\n",
      "1620392\n",
      "2108470\n",
      "2855394\n",
      "32049\n",
      "1080068\n",
      "1116391\n",
      "232348\n",
      "321327\n",
      "1110509\n",
      "403\n",
      "1196095\n",
      "641\n",
      "2094119\n",
      "1752063\n",
      "2033869\n",
      "926570\n",
      "103690\n",
      "483547\n",
      "1006576\n",
      "702967\n",
      "586416\n",
      "1273155\n",
      "2814655\n",
      "1677857\n",
      "81479\n",
      "1826872\n",
      "2605945\n"
     ]
    }
   ],
   "source": [
    "from Bio import Entrez\n",
    "Entrez.email = 'alexa_nicolas@berkeley.edu'\n",
    "\n",
    "with open(\"/groups/banfield/projects/environmental/4thwedge/2021/4Wh2oV/annotations.d/kaiju_out/ncbi_taxid_kaiju_contigs.tsv\", \"a\") as outfile:\n",
    "    for taxid in wsip_ncbi_taxid:\n",
    "        # print(taxid)\n",
    "        try:\n",
    "            print(taxid)\n",
    "            handle = Entrez.efetch(db=\"Taxonomy\", id=taxid, retmode=\"xml\")\n",
    "            records = Entrez.read(handle)\n",
    "            ncbi_taxa_dict[taxid] = records[0]['Lineage']\n",
    "            writeout = str(taxid) + \"\\t\" + str(ncbi_taxa_dict[taxid]) +\"\\n\"\n",
    "            outfile.write(writeout)\n",
    "\n",
    "        except:\n",
    "            print(taxid, np.nan)\n",
    "            writeout=str(taxid) + \"\\tNaN\\n\"\n",
    "            outfile.write(writeout)"
   ]
  },
  {
   "cell_type": "code",
   "execution_count": 662,
   "metadata": {},
   "outputs": [],
   "source": [
    "kaiju_out = pd.concat([kaiju_unbinned_spacers,kaiju_vOTUs])"
   ]
  },
  {
   "cell_type": "code",
   "execution_count": 155,
   "metadata": {},
   "outputs": [],
   "source": [
    "kaiju_out.to_csv(\n",
    "    '/groups/banfield/projects/environmental/4thwedge/2021/4Wh2oV/annotations.d/kaiju_out/kaiju_contig_taxonomy.csv',\n",
    "                index=False)"
   ]
  },
  {
   "cell_type": "code",
   "execution_count": 666,
   "metadata": {},
   "outputs": [],
   "source": [
    "# remove duplicates from Kaiju_out\n",
    "kaiju_out = kaiju_out.drop_duplicates()"
   ]
  },
  {
   "cell_type": "markdown",
   "metadata": {
    "tags": []
   },
   "source": [
    "# vOTU spacers "
   ]
  },
  {
   "cell_type": "markdown",
   "metadata": {},
   "source": [
    "## make blast db & run BLAST to match to sequences from undereplicated MAGs"
   ]
  },
  {
   "cell_type": "code",
   "execution_count": 81,
   "metadata": {},
   "outputs": [
    {
     "name": "stdout",
     "output_type": "stream",
     "text": [
      "/shared/software/bin/blastn -query /groups/banfield/projects/environmental/4thwedge/2021/4Wh2oV/annotations.d/4Wh2oV_minced_out/4Wh2oV_scaffold_spacers.fa -db /groups/banfield/projects/environmental/4thwedge/2020/assembly.d/all_MAGs_disrat0.33/concatenated_underep_MAGs/underep_MAGs.fa -num_threads 16 -outfmt ‘6 qseqid sseqid pident qcovs qstart qend sstart send length evalue bitscore mismatch’ -out /groups/banfield/projects/environmental/4thwedge/2021/4Wh2oV/annotations.d/4Wh2oV_minced_out/blast_out_underep_MAGs/underepMAGs_4Wh2Ovspacers.txt\n"
     ]
    }
   ],
   "source": [
    "virome_spacer_db = '/groups/banfield/projects/environmental/4thwedge/2021/4Wh2oV/annotations.d/4Wh2oV_minced_out/4Wh2oV_scaffold_spacers.fa'\n",
    "MAG_db = '/groups/banfield/projects/environmental/4thwedge/2020/assembly.d/all_MAGs_disrat0.33/concatenated_underep_MAGs/underep_MAGs.fa'\n",
    "blastn_cmd = '/shared/software/bin/blastn -query ' + virome_spacer_db + \" -db \" + \\\n",
    "                MAG_db + \" -num_threads 16 -outfmt ‘6 qseqid sseqid pident qcovs qstart qend sstart send length evalue bitscore mismatch’ -out \" + \\\n",
    "                \"/groups/banfield/projects/environmental/4thwedge/2021/4Wh2oV/annotations.d/4Wh2oV_minced_out/blast_out_underep_MAGs/underepMAGs_4Wh2Ovspacers.txt\"\n",
    "print(blastn_cmd)"
   ]
  },
  {
   "cell_type": "code",
   "execution_count": 15,
   "metadata": {},
   "outputs": [],
   "source": [
    "vOTU_spacer_MAGs = pd.read_csv('/groups/banfield/projects/environmental/4thwedge/2021/4Wh2oV/annotations.d/4Wh2oV_minced_out/blast_out_underep_MAGs/underepMAGs_4Wh2Ovspacers.txt',\n",
    "                                 header=None, sep='\\t',\n",
    "                                  names=['qseqid', 'sseqid', 'pident', 'qcovs', 'qstart', 'qend', 'sstart', 'send', 'length', 'evalue', 'bitscore', 'mismatch'])"
   ]
  },
  {
   "cell_type": "code",
   "execution_count": 16,
   "metadata": {
    "scrolled": true
   },
   "outputs": [
    {
     "data": {
      "text/html": [
       "<div>\n",
       "<style scoped>\n",
       "    .dataframe tbody tr th:only-of-type {\n",
       "        vertical-align: middle;\n",
       "    }\n",
       "\n",
       "    .dataframe tbody tr th {\n",
       "        vertical-align: top;\n",
       "    }\n",
       "\n",
       "    .dataframe thead th {\n",
       "        text-align: right;\n",
       "    }\n",
       "</style>\n",
       "<table border=\"1\" class=\"dataframe\">\n",
       "  <thead>\n",
       "    <tr style=\"text-align: right;\">\n",
       "      <th></th>\n",
       "      <th>qseqid</th>\n",
       "      <th>sseqid</th>\n",
       "      <th>pident</th>\n",
       "      <th>qcovs</th>\n",
       "      <th>qstart</th>\n",
       "      <th>qend</th>\n",
       "      <th>sstart</th>\n",
       "      <th>send</th>\n",
       "      <th>length</th>\n",
       "      <th>evalue</th>\n",
       "      <th>bitscore</th>\n",
       "      <th>mismatch</th>\n",
       "    </tr>\n",
       "  </thead>\n",
       "  <tbody>\n",
       "    <tr>\n",
       "      <th>0</th>\n",
       "      <td>4Wh2oV_72h_scaffold_36124_CRISPR_15_spacer_6</td>\n",
       "      <td>12C16O_72h_100_unf_k141_138559</td>\n",
       "      <td>96.875</td>\n",
       "      <td>84</td>\n",
       "      <td>6</td>\n",
       "      <td>37</td>\n",
       "      <td>8282</td>\n",
       "      <td>8313</td>\n",
       "      <td>32</td>\n",
       "      <td>0.000002</td>\n",
       "      <td>54.7</td>\n",
       "      <td>1</td>\n",
       "    </tr>\n",
       "  </tbody>\n",
       "</table>\n",
       "</div>"
      ],
      "text/plain": [
       "                                         qseqid  \\\n",
       "0  4Wh2oV_72h_scaffold_36124_CRISPR_15_spacer_6   \n",
       "\n",
       "                           sseqid  pident  qcovs  qstart  qend  sstart  send  \\\n",
       "0  12C16O_72h_100_unf_k141_138559  96.875     84       6    37    8282  8313   \n",
       "\n",
       "   length    evalue  bitscore  mismatch  \n",
       "0      32  0.000002      54.7         1  "
      ]
     },
     "execution_count": 16,
     "metadata": {},
     "output_type": "execute_result"
    }
   ],
   "source": [
    "vOTU_spacer_MAGs"
   ]
  },
  {
   "cell_type": "markdown",
   "metadata": {},
   "source": [
    "only 1 vOTU spacer matched a MAG!"
   ]
  },
  {
   "cell_type": "code",
   "execution_count": 325,
   "metadata": {},
   "outputs": [],
   "source": [
    "# merge MAG scaffold 2 bin file with MAG hit \n",
    "vOTU_spacer_MAGs = vOTU_spacer_MAGs.merge(s2b, \n",
    "                                          left_on='sseqid',right_on='scaffold',how='left')"
   ]
  },
  {
   "cell_type": "markdown",
   "metadata": {},
   "source": [
    "#### Additional matching tested\n",
    "\n",
    "We tested whether additional vOTU host taxonomy could be ascertained by looking for matches between vOTU spacers and unbinned metagenome contigs. We manually inspected matched unbinnned metagenome contigs on ggKbase and these contigs appeared to be viral (contained canonical viral genes) so we did not use unbinned metagenome contigs as another source of potential viral taxonomy. \n",
    "\n",
    "We also used BLAST to align vOTU spacers to IMG microbial and sequences (IMG-VR nucleotide sequences). Results were strange... only 1 vOTU spacer matched a sequence with a defined taxonomy and it looked like a virus that has a Clostridial host, but the vOTU is circularized and seems like a like proteobacteria/rhizobia-infecting virus https://ggkbase.berkeley.edu/4Wh2oV_168h/organisms/487641/contigs/493190824"
   ]
  },
  {
   "cell_type": "markdown",
   "metadata": {},
   "source": [
    "# Spacer database (Shmakov et al. 2017)"
   ]
  },
  {
   "cell_type": "code",
   "execution_count": 268,
   "metadata": {},
   "outputs": [
    {
     "name": "stdout",
     "output_type": "stream",
     "text": [
      "blastn -query /groups/banfield/users/alexa/db/spacers/Supplementary_material_spacers.fna -db /groups/banfield/projects/environmental/4thwedge/2021/4Wh2oV/4W_vOTU_db/viral_scaffold_set_12C16O_4Wh2oV.fa -num_threads 16 -outfmt ‘6 qseqid sseqid pident qcovs qstart qend sstart send length evalue bitscore mismatch’ -out /groups/banfield/projects/environmental/4thwedge/2021/4Wh2oV/annotations.d/spacer_db_out/4W_vOTU_set_out/4W_vOTU_set_spacerDB_blast_output_0-1mismatches.txt\n"
     ]
    }
   ],
   "source": [
    "spacer_db = '/groups/banfield/users/alexa/db/spacers/Supplementary_material_spacers.fna'\n",
    "vOTU_db = '/groups/banfield/projects/environmental/4thwedge/2021/4Wh2oV/4W_vOTU_db/viral_scaffold_set_12C16O_4Wh2oV.fa'\n",
    "outfile = \"/groups/banfield/projects/environmental/4thwedge/2021/4Wh2oV/annotations.d/spacer_db_out/4W_vOTU_set_out/4W_vOTU_set_spacerDB_blast_output_0-1mismatches.txt\"\n",
    "blastn = \"blastn -query \" + spacer_db +  \" -db \" + vOTU_db + \\\n",
    "\" -num_threads 16 -outfmt ‘6 qseqid sseqid pident qcovs qstart qend sstart send length evalue bitscore mismatch’ -out \" + outfile\n",
    "print(blastn)"
   ]
  },
  {
   "cell_type": "code",
   "execution_count": 164,
   "metadata": {},
   "outputs": [],
   "source": [
    "spacer_db_blast_result = pd.read_csv(\n",
    "    \"/groups/banfield/projects/environmental/4thwedge/2021/4Wh2oV/annotations.d/spacer_db_out/4W_vOTU_set_out/4W_vOTU_set_spacerDB_blast_output_0-1mismatches.txt\",\n",
    "                                    sep='\\t',\n",
    "                                header=None,\n",
    "                                names = ['qseqid', 'sseqid', 'pident', 'qcovs', 'qstart', 'qend', 'sstart', 'send', 'length', 'evalue', 'bitscore', 'mismatch'])\n",
    "spacer_db_blast_result['ncbi_accession_spacer'] = spacer_db_blast_result['qseqid'].str.split(\"_\").str[0]"
   ]
  },
  {
   "cell_type": "code",
   "execution_count": 436,
   "metadata": {},
   "outputs": [],
   "source": [
    "# make file that's just ncbi accessions\n",
    "with open(\n",
    "'/groups/banfield/projects/environmental/4thwedge/2021/4Wh2oV/annotations.d/spacer_db_out/4W_vOTU_set_out/BLAST_hit_spacer_acccessions.txt','w') as filehandle:\n",
    "    filehandle.writelines(\"%s\\n\" % accession for accession in spacer_db_blast_result['ncbi_accession_spacer'].unique().tolist())"
   ]
  },
  {
   "cell_type": "code",
   "execution_count": 43,
   "metadata": {
    "collapsed": true,
    "jupyter": {
     "outputs_hidden": true
    },
    "scrolled": true,
    "tags": []
   },
   "outputs": [
    {
     "name": "stdout",
     "output_type": "stream",
     "text": [
      "['Bacteria', 'Proteobacteria', 'Betaproteobacteria', 'Burkholderiales', 'Comamonadaceae', 'Acidovorax']\n",
      "['Bacteria', 'Proteobacteria', 'Betaproteobacteria', 'Burkholderiales', 'Comamonadaceae', 'Lampropedia']\n",
      "['Bacteria', 'Proteobacteria', 'Gammaproteobacteria', 'Xanthomonadales', 'Rhodanobacteraceae', 'Rhodanobacter', 'unclassified Rhodanobacter']\n",
      "['Bacteria', 'Actinobacteria', 'Streptomycetales', 'Streptomycetaceae', 'Streptomyces']\n",
      "['Bacteria', 'Proteobacteria', 'Gammaproteobacteria', 'Enterobacterales', 'Enterobacteriaceae', 'Escherichia']\n",
      "['Bacteria', 'Actinobacteria', 'Streptomycetales', 'Streptomycetaceae', 'Streptomyces']\n",
      "['Bacteria', 'Actinobacteria', 'Streptomycetales', 'Streptomycetaceae', 'Streptomyces']\n",
      "['Bacteria', 'Actinobacteria', 'Streptomycetales', 'Streptomycetaceae', 'Streptomyces']\n",
      "['Bacteria', 'Proteobacteria', 'Gammaproteobacteria', 'Enterobacterales', 'Enterobacteriaceae', 'Escherichia']\n",
      "['Bacteria', 'Proteobacteria', 'Gammaproteobacteria', 'Xanthomonadales', 'Rhodanobacteraceae', 'Rhodanobacter']\n",
      "['Bacteria', 'Proteobacteria', 'Gammaproteobacteria', 'Enterobacterales', 'Enterobacteriaceae', 'Escherichia']\n",
      "['Bacteria', 'Proteobacteria', 'Gammaproteobacteria', 'Xanthomonadales', 'Rhodanobacteraceae', 'Rhodanobacter']\n",
      "['Bacteria', 'Proteobacteria', 'Gammaproteobacteria', 'Xanthomonadales', 'Rhodanobacteraceae', 'Rhodanobacter']\n",
      "['Bacteria', 'Proteobacteria', 'Gammaproteobacteria', 'Xanthomonadales', 'Rhodanobacteraceae', 'Rhodanobacter']\n",
      "['Bacteria', 'Proteobacteria', 'Gammaproteobacteria', 'Xanthomonadales', 'Rhodanobacteraceae', 'Rhodanobacter']\n",
      "['Bacteria', 'Proteobacteria', 'Gammaproteobacteria', 'Enterobacterales', 'Enterobacteriaceae', 'Escherichia']\n",
      "['Bacteria', 'Proteobacteria', 'Gammaproteobacteria', 'Pseudomonadales', 'Pseudomonadaceae', 'Pseudomonas']\n",
      "['Bacteria', 'Actinobacteria', 'Corynebacteriales', 'Corynebacteriaceae', 'Corynebacterium']\n",
      "['Bacteria', 'Proteobacteria', 'Gammaproteobacteria', 'Enterobacterales', 'Enterobacteriaceae', 'Escherichia']\n",
      "['Bacteria', 'Bacteroidetes', 'Bacteroidia', 'Bacteroidales']\n",
      "['Bacteria', 'Actinobacteria', 'Streptomycetales', 'Streptomycetaceae', 'Streptomyces']\n",
      "['Bacteria', 'Proteobacteria', 'Alphaproteobacteria', 'Rhodobacterales', 'Rhodobacteraceae', 'Rhodobacter']\n",
      "['Bacteria', 'Proteobacteria', 'Alphaproteobacteria', 'Rhodobacterales', 'Rhodobacteraceae', 'Rhodobacter']\n",
      "['Bacteria', 'Proteobacteria', 'Gammaproteobacteria', 'Pasteurellales', 'Pasteurellaceae', 'Bibersteinia']\n",
      "['Bacteria', 'Actinobacteria', 'Streptomycetales', 'Streptomycetaceae', 'Streptomyces']\n",
      "['Bacteria', 'Actinobacteria', 'Streptomycetales', 'Streptomycetaceae', 'Streptomyces']\n",
      "['Bacteria', 'Proteobacteria', 'Alphaproteobacteria', 'Rhodobacterales', 'Rhodobacteraceae']\n",
      "['Bacteria', 'Actinobacteria', 'Streptomycetales', 'Streptomycetaceae', 'Streptomyces']\n",
      "['Bacteria', 'Proteobacteria', 'Gammaproteobacteria', 'Enterobacterales', 'Enterobacteriaceae', 'Escherichia']\n",
      "['Bacteria', 'Actinobacteria', 'Streptomycetales', 'Streptomycetaceae', 'Streptomyces']\n",
      "['Bacteria', 'Actinobacteria', 'Streptomycetales', 'Streptomycetaceae', 'Streptomyces']\n",
      "['Bacteria', 'Actinobacteria', 'Streptomycetales', 'Streptomycetaceae', 'Streptomyces']\n",
      "['Bacteria', 'Actinobacteria', 'Streptomycetales', 'Streptomycetaceae', 'Streptomyces']\n",
      "['Bacteria', 'Proteobacteria', 'Gammaproteobacteria', 'Enterobacterales', 'Enterobacteriaceae', 'Escherichia']\n",
      "['Bacteria', 'Proteobacteria', 'Gammaproteobacteria', 'Enterobacterales', 'Enterobacteriaceae', 'Escherichia']\n",
      "['Bacteria', 'Actinobacteria', 'Streptomycetales', 'Streptomycetaceae', 'Kitasatospora']\n",
      "['Bacteria', 'Proteobacteria', 'Gammaproteobacteria', 'Enterobacterales', 'Enterobacteriaceae', 'Escherichia']\n",
      "['Bacteria', 'Proteobacteria', 'Gammaproteobacteria', 'Enterobacterales', 'Enterobacteriaceae', 'Escherichia']\n",
      "['Bacteria', 'Proteobacteria', 'Gammaproteobacteria', 'Xanthomonadales', 'Xanthomonadaceae', 'Xanthomonas']\n",
      "['Bacteria', 'Proteobacteria', 'Gammaproteobacteria', 'Enterobacterales', 'Enterobacteriaceae', 'Escherichia']\n",
      "['Bacteria', 'Proteobacteria', 'Gammaproteobacteria', 'Xanthomonadales', 'Xanthomonadaceae', 'Xanthomonas']\n",
      "['Bacteria', 'Proteobacteria', 'Gammaproteobacteria', 'Xanthomonadales', 'Xanthomonadaceae', 'Xanthomonas']\n",
      "['Bacteria', 'Proteobacteria', 'Gammaproteobacteria', 'Enterobacterales', 'Enterobacteriaceae', 'Escherichia']\n",
      "['Bacteria', 'Actinobacteria', 'Streptomycetales', 'Streptomycetaceae', 'Kitasatospora']\n",
      "['Bacteria', 'Proteobacteria', 'Gammaproteobacteria', 'Enterobacterales', 'Enterobacteriaceae', 'Escherichia']\n",
      "['Bacteria', 'Actinobacteria', 'Streptomycetales', 'Streptomycetaceae', 'Kitasatospora']\n",
      "['Bacteria', 'Proteobacteria', 'Gammaproteobacteria', 'Xanthomonadales', 'Xanthomonadaceae', 'Xanthomonas']\n",
      "['Bacteria', 'Proteobacteria', 'Gammaproteobacteria', 'Xanthomonadales', 'Xanthomonadaceae', 'Xanthomonas']\n",
      "['Bacteria', 'Actinobacteria', 'Streptomycetales', 'Streptomycetaceae', 'Streptomyces']\n",
      "['Bacteria', 'Proteobacteria', 'Gammaproteobacteria', 'Xanthomonadales', 'Xanthomonadaceae', 'Xanthomonas']\n",
      "['Bacteria', 'Actinobacteria', 'Streptomycetales', 'Streptomycetaceae', 'Streptomyces']\n",
      "['Bacteria', 'Proteobacteria', 'Gammaproteobacteria', 'Enterobacterales', 'Enterobacteriaceae', 'Escherichia']\n",
      "['Bacteria', 'Actinobacteria', 'Streptomycetales', 'Streptomycetaceae', 'Streptomyces']\n",
      "['Bacteria', 'Proteobacteria', 'Gammaproteobacteria', 'Xanthomonadales', 'Xanthomonadaceae', 'Xanthomonas']\n",
      "['Bacteria', 'Proteobacteria', 'Gammaproteobacteria', 'Xanthomonadales', 'Xanthomonadaceae', 'Xanthomonas']\n",
      "['Bacteria', 'Proteobacteria', 'Gammaproteobacteria', 'Xanthomonadales', 'Xanthomonadaceae', 'Xanthomonas']\n",
      "['Bacteria', 'Proteobacteria', 'Gammaproteobacteria', 'Enterobacterales', 'Enterobacteriaceae', 'Escherichia']\n",
      "['Bacteria', 'Proteobacteria', 'Gammaproteobacteria', 'Enterobacterales', 'Enterobacteriaceae', 'Escherichia']\n",
      "['Bacteria', 'Proteobacteria', 'Gammaproteobacteria', 'Pseudomonadales', 'Pseudomonadaceae', 'Pseudomonas']\n",
      "['Bacteria', 'Proteobacteria', 'Gammaproteobacteria', 'Xanthomonadales', 'Xanthomonadaceae', 'Xanthomonas']\n",
      "['Bacteria', 'Proteobacteria', 'Gammaproteobacteria', 'Xanthomonadales', 'Xanthomonadaceae', 'Xanthomonas']\n",
      "['Bacteria', 'Cyanobacteria', 'Nostocales', 'Calotrichaceae', 'Calothrix', 'unclassified Calothrix']\n",
      "['Bacteria', 'Actinobacteria', 'Micrococcales', 'Brevibacteriaceae', 'Brevibacterium']\n",
      "['Bacteria', 'Chlorobi', 'Chlorobia', 'Chlorobiales', 'Chlorobiaceae', 'Chlorobium/Pelodictyon group', 'Chlorobium']\n",
      "['Bacteria', 'Chloroflexi', 'Chloroflexia', 'Chloroflexales', 'Chloroflexineae', 'Chloroflexaceae', 'Chloroflexus']\n",
      "['Bacteria', 'Chloroflexi', 'Chloroflexia', 'Chloroflexales', 'Chloroflexineae', 'Chloroflexaceae', 'Chloroflexus']\n",
      "['Bacteria', 'Proteobacteria', 'Gammaproteobacteria', 'Enterobacterales', 'Enterobacteriaceae', 'Escherichia']\n",
      "['Bacteria', 'Actinobacteria', 'Micrococcales', 'Promicromonosporaceae', 'Xylanimonas']\n",
      "['Bacteria', 'Proteobacteria', 'Gammaproteobacteria', 'Enterobacterales', 'Enterobacteriaceae', 'Escherichia']\n",
      "['Bacteria', 'Proteobacteria', 'Betaproteobacteria', 'Burkholderiales', 'Burkholderiaceae', 'Burkholderia']\n",
      "['Bacteria', 'Actinobacteria', 'Streptomycetales', 'Streptomycetaceae', 'Streptomyces']\n",
      "['Bacteria', 'Proteobacteria', 'Alphaproteobacteria', 'Sphingomonadales', 'Sphingomonadaceae', 'Sphingomonas']\n",
      "['Bacteria', 'Proteobacteria', 'Alphaproteobacteria', 'Sphingomonadales', 'Sphingomonadaceae', 'Sphingomonas']\n",
      "['Bacteria', 'Proteobacteria', 'Alphaproteobacteria', 'Sphingomonadales', 'Sphingomonadaceae', 'Sphingomonas']\n",
      "['Bacteria', 'Proteobacteria', 'Alphaproteobacteria', 'Sphingomonadales', 'Sphingomonadaceae', 'Sphingomonas']\n",
      "['Bacteria', 'Proteobacteria', 'Alphaproteobacteria', 'Sphingomonadales', 'Sphingomonadaceae', 'Sphingomonas']\n",
      "['Bacteria', 'Proteobacteria', 'Gammaproteobacteria', 'Pseudomonadales', 'Pseudomonadaceae', 'Pseudomonas']\n",
      "['Bacteria', 'Actinobacteria', 'Streptomycetales', 'Streptomycetaceae', 'Streptomyces']\n",
      "['Bacteria', 'Proteobacteria', 'Alphaproteobacteria', 'Sphingomonadales', 'Sphingomonadaceae', 'Sphingomonas']\n",
      "['Bacteria', 'Proteobacteria', 'Gammaproteobacteria', 'Pseudomonadales', 'Pseudomonadaceae', 'Pseudomonas']\n",
      "['Bacteria', 'Proteobacteria', 'Gammaproteobacteria', 'Enterobacterales', 'Enterobacteriaceae', 'Escherichia']\n",
      "['Bacteria', 'Proteobacteria', 'Gammaproteobacteria', 'Enterobacterales', 'Enterobacteriaceae', 'Escherichia']\n",
      "['Bacteria', 'Actinobacteria', 'Streptomycetales', 'Streptomycetaceae', 'Streptomyces']\n",
      "['Bacteria', 'Actinobacteria', 'Streptomycetales', 'Streptomycetaceae', 'Streptomyces']\n",
      "['Bacteria', 'Actinobacteria', 'Streptomycetales', 'Streptomycetaceae', 'Streptomyces']\n",
      "['Bacteria', 'Proteobacteria', 'Gammaproteobacteria', 'Pseudomonadales', 'Pseudomonadaceae', 'Pseudomonas']\n",
      "['Bacteria', 'Proteobacteria', 'Alphaproteobacteria', 'Rhodobacterales', 'Roseobacteraceae', 'Rubellimicrobium']\n",
      "['Bacteria', 'Actinobacteria', 'Streptomycetales', 'Streptomycetaceae', 'Streptomyces']\n",
      "['Bacteria', 'Actinobacteria', 'Streptomycetales', 'Streptomycetaceae', 'Streptomyces']\n",
      "['Bacteria', 'Proteobacteria', 'Gammaproteobacteria', 'Enterobacterales', 'Enterobacteriaceae', 'Klebsiella']\n",
      "['Bacteria', 'Firmicutes', 'Bacilli', 'Bacillales', 'Bacillaceae', 'Parageobacillus']\n",
      "['Bacteria', 'Proteobacteria', 'Gammaproteobacteria', 'Enterobacterales', 'Enterobacteriaceae', 'Escherichia']\n",
      "['Bacteria', 'Proteobacteria', 'Gammaproteobacteria', 'Enterobacterales', 'Enterobacteriaceae', 'Escherichia']\n",
      "['Bacteria', 'Proteobacteria', 'Gammaproteobacteria', 'Enterobacterales', 'Enterobacteriaceae', 'Escherichia']\n",
      "['Bacteria', 'Proteobacteria', 'Gammaproteobacteria', 'Enterobacterales', 'Enterobacteriaceae', 'Escherichia']\n",
      "['Bacteria', 'Proteobacteria', 'Gammaproteobacteria', 'Enterobacterales', 'Enterobacteriaceae', 'Escherichia']\n",
      "['Bacteria', 'Proteobacteria', 'Gammaproteobacteria', 'Enterobacterales', 'Enterobacteriaceae', 'Escherichia']\n",
      "['Bacteria', 'Actinobacteria', 'Streptomycetales', 'Streptomycetaceae', 'Streptomyces']\n",
      "['Bacteria', 'Proteobacteria', 'Gammaproteobacteria', 'Enterobacterales', 'Enterobacteriaceae', 'Escherichia']\n",
      "['Bacteria', 'Proteobacteria', 'Gammaproteobacteria', 'Pseudomonadales', 'Pseudomonadaceae', 'Pseudomonas']\n",
      "['Bacteria', 'Proteobacteria', 'Gammaproteobacteria', 'Enterobacterales', 'Enterobacteriaceae', 'Klebsiella']\n",
      "['Bacteria', 'Actinobacteria', 'Streptomycetales', 'Streptomycetaceae', 'Streptomyces']\n",
      "['Bacteria', 'Actinobacteria', 'Streptomycetales', 'Streptomycetaceae', 'Streptomyces']\n",
      "['Bacteria', 'Actinobacteria', 'Streptomycetales', 'Streptomycetaceae', 'Streptomyces']\n",
      "['Archaea', 'Euryarchaeota', 'Stenosarchaea group', 'Methanomicrobia', 'Methanomicrobiales', 'Methanomicrobiaceae', 'Methanoculleus']\n",
      "['Archaea', 'Euryarchaeota', 'Stenosarchaea group', 'Methanomicrobia', 'Methanomicrobiales', 'Methanomicrobiaceae', 'Methanoculleus']\n",
      "['Bacteria', 'Proteobacteria', 'Gammaproteobacteria', 'Enterobacterales', 'Enterobacteriaceae', 'Escherichia']\n",
      "['Bacteria', 'Proteobacteria', 'Gammaproteobacteria', 'Enterobacterales', 'Enterobacteriaceae', 'Escherichia']\n",
      "['Bacteria', 'Proteobacteria', 'Deltaproteobacteria', 'Desulfobacterales', 'Desulfobacteraceae', 'Desulfatitalea']\n",
      "['Bacteria', 'Proteobacteria', 'Gammaproteobacteria', 'Enterobacterales', 'Enterobacteriaceae', 'Escherichia']\n",
      "['Bacteria', 'Proteobacteria', 'Gammaproteobacteria', 'Pseudomonadales', 'Pseudomonadaceae', 'Pseudomonas']\n",
      "['Bacteria', 'Proteobacteria', 'Gammaproteobacteria', 'Enterobacterales', 'Enterobacteriaceae', 'Escherichia']\n",
      "['Bacteria', 'Proteobacteria', 'Gammaproteobacteria', 'Pseudomonadales', 'Pseudomonadaceae', 'Pseudomonas']\n",
      "['Bacteria', 'Proteobacteria', 'Gammaproteobacteria', 'Pseudomonadales', 'Pseudomonadaceae', 'Pseudomonas']\n",
      "['Bacteria', 'Proteobacteria', 'Gammaproteobacteria', 'Enterobacterales', 'Enterobacteriaceae', 'Salmonella']\n",
      "['Bacteria', 'Proteobacteria', 'Gammaproteobacteria', 'Enterobacterales', 'Enterobacteriaceae', 'Escherichia']\n",
      "['Bacteria', 'Proteobacteria', 'Gammaproteobacteria', 'Enterobacterales', 'Enterobacteriaceae', 'Salmonella']\n",
      "['Bacteria', 'Proteobacteria', 'Gammaproteobacteria', 'Enterobacterales', 'Enterobacteriaceae', 'Escherichia']\n",
      "['Bacteria', 'Proteobacteria', 'Gammaproteobacteria', 'Enterobacterales', 'Enterobacteriaceae', 'Escherichia']\n",
      "['Bacteria', 'Proteobacteria', 'Gammaproteobacteria', 'Enterobacterales', 'Enterobacteriaceae', 'Escherichia']\n",
      "['Bacteria', 'Proteobacteria', 'Gammaproteobacteria', 'Enterobacterales', 'Enterobacteriaceae', 'Escherichia']\n",
      "['Bacteria', 'Proteobacteria', 'Gammaproteobacteria', 'Enterobacterales', 'Enterobacteriaceae', 'Escherichia']\n",
      "['Bacteria', 'Proteobacteria', 'Gammaproteobacteria', 'Enterobacterales', 'Enterobacteriaceae', 'Escherichia']\n",
      "['Bacteria', 'Actinobacteria', 'Streptomycetales', 'Streptomycetaceae', 'Streptomyces']\n",
      "['Bacteria', 'Proteobacteria', 'Gammaproteobacteria', 'Enterobacterales', 'Enterobacteriaceae', 'Escherichia']\n",
      "['Bacteria', 'Proteobacteria', 'Gammaproteobacteria', 'Enterobacterales', 'Enterobacteriaceae', 'Escherichia']\n",
      "['Bacteria', 'Proteobacteria', 'Gammaproteobacteria', 'Enterobacterales', 'Enterobacteriaceae', 'Escherichia']\n",
      "['Bacteria', 'Proteobacteria', 'Gammaproteobacteria', 'Pseudomonadales', 'Pseudomonadaceae', 'Pseudomonas']\n",
      "['Bacteria', 'Proteobacteria', 'Gammaproteobacteria', 'Enterobacterales', 'Enterobacteriaceae', 'Salmonella']\n",
      "['Bacteria', 'Proteobacteria', 'Gammaproteobacteria', 'Pseudomonadales', 'Pseudomonadaceae', 'Pseudomonas']\n",
      "['Bacteria', 'Actinobacteria', 'Streptomycetales', 'Streptomycetaceae', 'Streptomyces']\n",
      "['Bacteria', 'Proteobacteria', 'Gammaproteobacteria', 'Enterobacterales', 'Enterobacteriaceae', 'Salmonella']\n",
      "['Bacteria', 'Actinobacteria', 'Streptomycetales', 'Streptomycetaceae', 'Streptomyces']\n",
      "['Bacteria', 'Actinobacteria', 'Streptomycetales', 'Streptomycetaceae', 'Streptomyces']\n",
      "CP006567.1\n"
     ]
    }
   ],
   "source": [
    "# takes a long time to run through notebook, can copy code into terminal running python\n",
    "ncbi_accession_spacers = []\n",
    "with open('/groups/banfield/projects/environmental/4thwedge/2021/4Wh2oV/annotations.d/spacer_db_out/4W_vOTU_set_out/BLAST_hit_spacer_acccessions.txt','r') as file:\n",
    "    for line in file.readlines():\n",
    "        ncbi_accession_spacers.append(line.strip())\n",
    "\n",
    "accession_tax_dict = {}\n",
    "with open(\"/groups/banfield/projects/environmental/4thwedge/2021/4Wh2oV/annotations.d/spacer_db_out/4W_vOTU_set_out/spacersDB_blast_out_retrieve_taxa.tsv\", \"w\") as outfile:\n",
    "    outfile.write(\"ncbi_accession_spacer\\ttaxonomy\\torganism\\n\")\n",
    "    for accession in ncbi_accession_spacers:\n",
    "#         print(accession)\n",
    "        try:\n",
    "            handle = Entrez.efetch(db=\"nucleotide\", id=accession, rettype=\"gb\", retmode=\"text\")\n",
    "            records = SeqIO.parse(handle, \"genbank\")\n",
    "            for record in records:\n",
    "                accession_tax_dict[accession] = [record.annotations['taxonomy'],record.annotations['organism']]\n",
    "                writeout = accession + \"\\t\" + str(record.annotations['taxonomy']) + \"\\t\" + str(record.annotations['organism']+\"\\n\")\n",
    "                outfile.write(writeout)\n",
    "                print(record.annotations['taxonomy'])\n",
    "\n",
    "        except:\n",
    "            print(accession)\n",
    "            writeout=accession + \"\\tbreak\\tbreak\\n\"\n",
    "            outfile.write(writeout)"
   ]
  },
  {
   "cell_type": "code",
   "execution_count": 165,
   "metadata": {},
   "outputs": [],
   "source": [
    "ncbi_accession_spacers = pd.read_csv(\"/groups/banfield/projects/environmental/4thwedge/2021/4Wh2oV/annotations.d/spacer_db_out/4W_vOTU_set_out/spacersDB_blast_out_retrieve_taxa.tsv\",\n",
    "                                     sep='\\t').replace('break',np.nan)"
   ]
  },
  {
   "cell_type": "code",
   "execution_count": 452,
   "metadata": {},
   "outputs": [
    {
     "name": "stdout",
     "output_type": "stream",
     "text": [
      "CP007574.1\n"
     ]
    }
   ],
   "source": [
    "accession_tax_dict = {}\n",
    "\n",
    "for accession in ncbi_accession_spacers[ncbi_accession_spacers['organism']=='break']['ncbi_accession_spacer'].to_list():\n",
    "#         print(accession)\n",
    "    try:\n",
    "        handle = Entrez.efetch(db=\"nucleotide\", id=accession, rettype=\"gb\", retmode=\"text\")\n",
    "        records = SeqIO.parse(handle, \"genbank\")\n",
    "        for record in records:\n",
    "            accession_tax_dict[accession] = [record.annotations['taxonomy'],record.annotations['organism']]\n",
    "#             writeout = accession + \"\\t\" + str(record.annotations['taxonomy']) + \"\\t\" + str(record.annotations['organism']+\"\\n\")\n",
    "#             outfile.write(writeout)\n",
    "#             print(record.annotations['taxonomy'])\n",
    "\n",
    "    except:\n",
    "        print(accession)\n",
    "#         writeout=accession + \"\\tbreak\\tbreak\\n\"\n",
    "#         outfile.write(writeout)"
   ]
  },
  {
   "cell_type": "code",
   "execution_count": 481,
   "metadata": {},
   "outputs": [],
   "source": [
    "# hardcoding last accession number...\n",
    "accession = 'CP007574.1'\n",
    "try:\n",
    "    handle = Entrez.efetch(db=\"nucleotide\", id=accession, rettype=\"gb\", retmode=\"text\")\n",
    "    records = SeqIO.parse(handle, \"genbank\")\n",
    "    for record in records:\n",
    "        accession_tax_dict[accession] = [record.annotations['taxonomy'],record.annotations['organism']]\n",
    "except:\n",
    "    print(handle)"
   ]
  },
  {
   "cell_type": "code",
   "execution_count": 168,
   "metadata": {},
   "outputs": [],
   "source": [
    "ncbi_accession_spacers['ncbi_spacer_phyla'] = ncbi_accession_spacers['taxonomy'].str.split(\",\").str[1].str.strip(\",' '\")\n",
    "ncbi_accession_spacers['ncbi_spacer_genera'] = ncbi_accession_spacers['taxonomy'].str.rsplit(\",\",-1).str[-1].str.strip(\",' ']\")"
   ]
  },
  {
   "cell_type": "code",
   "execution_count": 551,
   "metadata": {},
   "outputs": [],
   "source": [
    "fix_taxa = pd.DataFrame.from_dict(accession_tax_dict).T.reset_index().rename(columns={'index':'ncbi_accession_spacer',\n",
    "                                                                           0:'taxonomy',1:'organism'})"
   ]
  },
  {
   "cell_type": "code",
   "execution_count": 649,
   "metadata": {},
   "outputs": [],
   "source": [
    "fix_taxa['ncbi_spacer_phyla'] = fix_taxa['taxonomy'].str[1]\n",
    "fix_taxa['ncbi_spacer_genera'] = fix_taxa['taxonomy'].str[-1]"
   ]
  },
  {
   "cell_type": "code",
   "execution_count": 653,
   "metadata": {},
   "outputs": [],
   "source": [
    "# use combine_first to add in taxa from fix_taxa \n",
    "ncbi_accession_spacers_taxa = ncbi_accession_spacers.combine_first(ncbi_accession_spacers[['ncbi_accession_spacer']].merge(fix_taxa,how='left'))"
   ]
  },
  {
   "cell_type": "code",
   "execution_count": 661,
   "metadata": {},
   "outputs": [],
   "source": [
    "ncbi_accession_spacers_taxa.to_csv(\n",
    "    '/groups/banfield/projects/environmental/4thwedge/2021/4Wh2oV/annotations.d/spacer_db_out/4W_vOTU_set_out/4W_vOTU_spacersDB_blastout_taxa.csv',index=False)"
   ]
  },
  {
   "cell_type": "markdown",
   "metadata": {},
   "source": [
    "### ncbi spacer accession df"
   ]
  },
  {
   "cell_type": "code",
   "execution_count": 170,
   "metadata": {},
   "outputs": [],
   "source": [
    "ncbi_accession_spacers_taxa = pd.read_csv(\n",
    "'/groups/banfield/projects/environmental/4thwedge/2021/4Wh2oV/annotations.d/spacer_db_out/4W_vOTU_set_out/4W_vOTU_spacersDB_blastout_taxa.csv')"
   ]
  },
  {
   "cell_type": "markdown",
   "metadata": {},
   "source": [
    "merge spacer taxonomy back with viral hits"
   ]
  },
  {
   "cell_type": "code",
   "execution_count": 171,
   "metadata": {},
   "outputs": [],
   "source": [
    "spacer_db_blast_result = spacer_db_blast_result.merge(ncbi_accession_spacers_taxa, on='ncbi_accession_spacer',how='left')"
   ]
  },
  {
   "cell_type": "code",
   "execution_count": 172,
   "metadata": {
    "scrolled": true
   },
   "outputs": [
    {
     "data": {
      "text/html": [
       "<div>\n",
       "<style scoped>\n",
       "    .dataframe tbody tr th:only-of-type {\n",
       "        vertical-align: middle;\n",
       "    }\n",
       "\n",
       "    .dataframe tbody tr th {\n",
       "        vertical-align: top;\n",
       "    }\n",
       "\n",
       "    .dataframe thead th {\n",
       "        text-align: right;\n",
       "    }\n",
       "</style>\n",
       "<table border=\"1\" class=\"dataframe\">\n",
       "  <thead>\n",
       "    <tr style=\"text-align: right;\">\n",
       "      <th></th>\n",
       "      <th>qseqid</th>\n",
       "      <th>sseqid</th>\n",
       "      <th>pident</th>\n",
       "      <th>qcovs</th>\n",
       "      <th>qstart</th>\n",
       "      <th>qend</th>\n",
       "      <th>sstart</th>\n",
       "      <th>send</th>\n",
       "      <th>length</th>\n",
       "      <th>evalue</th>\n",
       "      <th>bitscore</th>\n",
       "      <th>mismatch</th>\n",
       "      <th>ncbi_accession_spacer</th>\n",
       "      <th>taxonomy</th>\n",
       "      <th>organism</th>\n",
       "      <th>ncbi_spacer_phyla</th>\n",
       "      <th>ncbi_spacer_genera</th>\n",
       "    </tr>\n",
       "  </thead>\n",
       "  <tbody>\n",
       "    <tr>\n",
       "      <th>0</th>\n",
       "      <td>CP002521.1_300343_306222_45_spacer_303283_30</td>\n",
       "      <td>4Wh2oV_72h_scaffold_299905</td>\n",
       "      <td>100.0</td>\n",
       "      <td>100</td>\n",
       "      <td>1</td>\n",
       "      <td>30</td>\n",
       "      <td>5038</td>\n",
       "      <td>5067</td>\n",
       "      <td>30</td>\n",
       "      <td>4.340000e-08</td>\n",
       "      <td>56.5</td>\n",
       "      <td>0</td>\n",
       "      <td>CP002521.1</td>\n",
       "      <td>['Bacteria', 'Proteobacteria', 'Betaproteobact...</td>\n",
       "      <td>Acidovorax avenae subsp. avenae ATCC 19860</td>\n",
       "      <td>Proteobacteria</td>\n",
       "      <td>Acidovorax</td>\n",
       "    </tr>\n",
       "  </tbody>\n",
       "</table>\n",
       "</div>"
      ],
      "text/plain": [
       "                                         qseqid                      sseqid  \\\n",
       "0  CP002521.1_300343_306222_45_spacer_303283_30  4Wh2oV_72h_scaffold_299905   \n",
       "\n",
       "   pident  qcovs  qstart  qend  sstart  send  length        evalue  bitscore  \\\n",
       "0   100.0    100       1    30    5038  5067      30  4.340000e-08      56.5   \n",
       "\n",
       "   mismatch ncbi_accession_spacer  \\\n",
       "0         0            CP002521.1   \n",
       "\n",
       "                                            taxonomy  \\\n",
       "0  ['Bacteria', 'Proteobacteria', 'Betaproteobact...   \n",
       "\n",
       "                                     organism ncbi_spacer_phyla  \\\n",
       "0  Acidovorax avenae subsp. avenae ATCC 19860    Proteobacteria   \n",
       "\n",
       "  ncbi_spacer_genera  \n",
       "0         Acidovorax  "
      ]
     },
     "execution_count": 172,
     "metadata": {},
     "output_type": "execute_result"
    }
   ],
   "source": [
    "spacer_db_blast_result.head(1)"
   ]
  },
  {
   "cell_type": "code",
   "execution_count": 173,
   "metadata": {},
   "outputs": [
    {
     "ename": "NameError",
     "evalue": "name 'virus_scaff_set_drep' is not defined",
     "output_type": "error",
     "traceback": [
      "\u001b[0;31m---------------------------------------------------------------------------\u001b[0m",
      "\u001b[0;31mNameError\u001b[0m                                 Traceback (most recent call last)",
      "\u001b[0;32m<ipython-input-173-823f84e55599>\u001b[0m in \u001b[0;36m<module>\u001b[0;34m\u001b[0m\n\u001b[0;32m----> 1\u001b[0;31m \u001b[0mncbi_spacer_match\u001b[0m \u001b[0;34m=\u001b[0m \u001b[0mvirus_scaff_set_drep\u001b[0m\u001b[0;34m.\u001b[0m\u001b[0mmerge\u001b[0m\u001b[0;34m(\u001b[0m\u001b[0mspacer_db_blast_result\u001b[0m\u001b[0;34m.\u001b[0m\u001b[0mrename\u001b[0m\u001b[0;34m(\u001b[0m\u001b[0mcolumns\u001b[0m\u001b[0;34m=\u001b[0m\u001b[0;34m{\u001b[0m\u001b[0;34m'length'\u001b[0m\u001b[0;34m:\u001b[0m\u001b[0;34m'length_spacer_match'\u001b[0m\u001b[0;34m}\u001b[0m\u001b[0;34m)\u001b[0m\u001b[0;34m,\u001b[0m \u001b[0mleft_on\u001b[0m\u001b[0;34m=\u001b[0m\u001b[0;34m'scaffold'\u001b[0m\u001b[0;34m,\u001b[0m\u001b[0mright_on\u001b[0m\u001b[0;34m=\u001b[0m\u001b[0;34m\"sseqid\"\u001b[0m\u001b[0;34m,\u001b[0m\u001b[0mhow\u001b[0m\u001b[0;34m=\u001b[0m\u001b[0;34m'inner'\u001b[0m\u001b[0;34m)\u001b[0m\u001b[0;34m\u001b[0m\u001b[0;34m\u001b[0m\u001b[0m\n\u001b[0m",
      "\u001b[0;31mNameError\u001b[0m: name 'virus_scaff_set_drep' is not defined"
     ]
    }
   ],
   "source": [
    "ncbi_spacer_match = virus_scaff_set_drep.merge(spacer_db_blast_result.rename(columns={'length':'length_spacer_match'}), left_on='scaffold',right_on=\"sseqid\",how='inner')"
   ]
  },
  {
   "cell_type": "code",
   "execution_count": 75,
   "metadata": {
    "tags": []
   },
   "outputs": [],
   "source": [
    "ncbi_spacer_match = ncbi_spacer_match[['scaffold', 'v_sum','bin','taxonomy',\n",
    " 'organism',\n",
    " 'organism taxonomy',\n",
    " 'Coverage',\n",
    " 'GC %',\n",
    " 'Taxonomy winner',\n",
    " 'Winner %',\n",
    " 'Phylum winner',\n",
    " 'Phylum winner %',\n",
    " 'Domain winner',\n",
    " 'Domain winner %',\n",
    " 'seeker_prediction',\n",
    " 'seeker_score',\n",
    " 'pPhage',\n",
    " 'contig_length',\n",
    " 'provirus',\n",
    " 'proviral_length',\n",
    " 'gene_count',\n",
    " 'viral_genes',\n",
    " 'host_genes',\n",
    " 'checkv_quality',\n",
    " 'miuvig_quality',\n",
    " 'completeness',\n",
    " 'completeness_method',\n",
    " 'contamination',\n",
    " 'kmer_freq',\n",
    " 'warnings',\n",
    " 'viral>host',\n",
    " 'trim_orf_index_start',\n",
    " 'trim_orf_index_end',\n",
    " 'trim_bp_start',\n",
    " 'trim_bp_end',\n",
    " 'trim_pr',\n",
    " 'trim_pr_max',\n",
    " 'prox_orf_index_start',\n",
    " 'prox_orf_index_end',\n",
    " 'prox_bp_start',\n",
    " 'prox_bp_end',\n",
    " 'prox_pr',\n",
    " 'prox_pr_max',\n",
    " 'partial',\n",
    " 'full_orf_index_start',\n",
    " 'full_orf_index_end',\n",
    " 'full_bp_start',\n",
    " 'full_bp_end',\n",
    " 'pr_full',\n",
    " 'arc',\n",
    " 'bac',\n",
    " 'euk',\n",
    " 'vir',\n",
    " 'mix',\n",
    " 'unaligned',\n",
    " 'hallmark_cnt',\n",
    " 'group',\n",
    " 'shape',\n",
    " 'seqname_new',\n",
    " 'type',\n",
    " 'prediction',\n",
    " 'vibrant_fragment',\n",
    " 'draft_quality',\n",
    " 'circular',\n",
    " 'score',\n",
    " 'pvalue',\n",
    " '## Contig_id',\n",
    " 'Nb genes contigs',\n",
    " 'Fragment',\n",
    " 'Nb genes',\n",
    " 'Category',\n",
    " 'Nb phage hallmark genes',\n",
    " 'Phage gene enrichment sig',\n",
    " 'Non-Caudovirales phage gene enrichment sig',\n",
    " 'Pfam depletion sig',\n",
    " 'Uncharacterized enrichment sig',\n",
    " 'Strand switch depletion sig',\n",
    " 'Short genes enrichment sig',\n",
    " 'full_category',\n",
    " 'length',\n",
    " 'seeker_bool',\n",
    " 'vs2_bool',\n",
    " 'vibrant_bool',\n",
    " 'dvf_bool',\n",
    " 'vs1_bool',\n",
    " 'time',\n",
    " 'circular_VRCA',\n",
    " 'mg_type',\n",
    " 'rep_seq',\n",
    " 'qseqid',\n",
    " 'sseqid',\n",
    " 'pident',\n",
    " 'qcovs',\n",
    " 'qstart',\n",
    " 'qend',\n",
    " 'sstart',\n",
    " 'send',\n",
    " 'length_spacer_match',\n",
    " 'evalue',\n",
    " 'bitscore',\n",
    " 'ncbi_accession_spacer']]"
   ]
  },
  {
   "cell_type": "code",
   "execution_count": 98,
   "metadata": {},
   "outputs": [],
   "source": [
    "# drop duplicate spacer match to same strain organism\n",
    "ncbi_spacer_match_dd = ncbi_spacer_match.drop_duplicates(subset=['scaffold','taxonomy','organism'])"
   ]
  },
  {
   "cell_type": "code",
   "execution_count": 333,
   "metadata": {},
   "outputs": [],
   "source": [
    "ncbi_spacer_match_dd.to_csv(\"/groups/banfield/projects/environmental/4thwedge/2021/4Wh2oV/annotations.d/spacer_db_out/spacer_db_viral_contig.csv\",index=False\n",
    "                           )"
   ]
  },
  {
   "cell_type": "code",
   "execution_count": 110,
   "metadata": {
    "collapsed": true,
    "jupyter": {
     "outputs_hidden": true
    },
    "tags": []
   },
   "outputs": [
    {
     "data": {
      "text/html": [
       "<div>\n",
       "<style scoped>\n",
       "    .dataframe tbody tr th:only-of-type {\n",
       "        vertical-align: middle;\n",
       "    }\n",
       "\n",
       "    .dataframe tbody tr th {\n",
       "        vertical-align: top;\n",
       "    }\n",
       "\n",
       "    .dataframe thead th {\n",
       "        text-align: right;\n",
       "    }\n",
       "</style>\n",
       "<table border=\"1\" class=\"dataframe\">\n",
       "  <thead>\n",
       "    <tr style=\"text-align: right;\">\n",
       "      <th></th>\n",
       "      <th>scaffold</th>\n",
       "      <th>v_sum</th>\n",
       "      <th>bin</th>\n",
       "      <th>taxonomy</th>\n",
       "      <th>organism</th>\n",
       "      <th>organism taxonomy</th>\n",
       "      <th>Coverage</th>\n",
       "      <th>GC %</th>\n",
       "      <th>Taxonomy winner</th>\n",
       "      <th>Winner %</th>\n",
       "      <th>...</th>\n",
       "      <th>pident</th>\n",
       "      <th>qcovs</th>\n",
       "      <th>qstart</th>\n",
       "      <th>qend</th>\n",
       "      <th>sstart</th>\n",
       "      <th>send</th>\n",
       "      <th>length_spacer_match</th>\n",
       "      <th>evalue</th>\n",
       "      <th>bitscore</th>\n",
       "      <th>ncbi_accession_spacer</th>\n",
       "    </tr>\n",
       "  </thead>\n",
       "  <tbody>\n",
       "    <tr>\n",
       "      <th>4</th>\n",
       "      <td>4Wh2oV_0h_scaffold_10786</td>\n",
       "      <td>3</td>\n",
       "      <td>4Wh2oV_0h_UNK</td>\n",
       "      <td>['Bacteria', 'Actinobacteria', 'Streptomycetal...</td>\n",
       "      <td>Streptomyces avermitilis MA-4680 = NBRC 14893</td>\n",
       "      <td>unknown</td>\n",
       "      <td>136.15</td>\n",
       "      <td>68.82</td>\n",
       "      <td>Streptomyces</td>\n",
       "      <td>0.64</td>\n",
       "      <td>...</td>\n",
       "      <td>100.00</td>\n",
       "      <td>100</td>\n",
       "      <td>1</td>\n",
       "      <td>32</td>\n",
       "      <td>15971</td>\n",
       "      <td>16002</td>\n",
       "      <td>32</td>\n",
       "      <td>2.120000e-08</td>\n",
       "      <td>60.2</td>\n",
       "      <td>JZJK01000038.1</td>\n",
       "    </tr>\n",
       "    <tr>\n",
       "      <th>7</th>\n",
       "      <td>4Wh2oV_0h_scaffold_10786</td>\n",
       "      <td>3</td>\n",
       "      <td>4Wh2oV_0h_UNK</td>\n",
       "      <td>['Bacteria', 'Actinobacteria', 'Streptomycetal...</td>\n",
       "      <td>Streptomyces avermitilis</td>\n",
       "      <td>unknown</td>\n",
       "      <td>136.15</td>\n",
       "      <td>68.82</td>\n",
       "      <td>Streptomyces</td>\n",
       "      <td>0.64</td>\n",
       "      <td>...</td>\n",
       "      <td>100.00</td>\n",
       "      <td>100</td>\n",
       "      <td>1</td>\n",
       "      <td>32</td>\n",
       "      <td>16002</td>\n",
       "      <td>15971</td>\n",
       "      <td>32</td>\n",
       "      <td>2.120000e-08</td>\n",
       "      <td>60.2</td>\n",
       "      <td>KQ948608.1</td>\n",
       "    </tr>\n",
       "    <tr>\n",
       "      <th>9</th>\n",
       "      <td>4Wh2oV_0h_scaffold_1114760</td>\n",
       "      <td>3</td>\n",
       "      <td>4Wh2oV_0h_UNK</td>\n",
       "      <td>['Bacteria', 'Actinobacteria', 'Streptomycetal...</td>\n",
       "      <td>Streptomyces sp. Root1295</td>\n",
       "      <td>unknown</td>\n",
       "      <td>50.77</td>\n",
       "      <td>69.35</td>\n",
       "      <td>NaN</td>\n",
       "      <td>NaN</td>\n",
       "      <td>...</td>\n",
       "      <td>100.00</td>\n",
       "      <td>97</td>\n",
       "      <td>1</td>\n",
       "      <td>31</td>\n",
       "      <td>10442</td>\n",
       "      <td>10412</td>\n",
       "      <td>31</td>\n",
       "      <td>7.640000e-08</td>\n",
       "      <td>58.4</td>\n",
       "      <td>LMEL01000024.1</td>\n",
       "    </tr>\n",
       "    <tr>\n",
       "      <th>10</th>\n",
       "      <td>4Wh2oV_0h_scaffold_1114760</td>\n",
       "      <td>3</td>\n",
       "      <td>4Wh2oV_0h_UNK</td>\n",
       "      <td>['Bacteria', 'Actinobacteria', 'Streptomycetal...</td>\n",
       "      <td>Streptomyces sp. Root63</td>\n",
       "      <td>unknown</td>\n",
       "      <td>50.77</td>\n",
       "      <td>69.35</td>\n",
       "      <td>NaN</td>\n",
       "      <td>NaN</td>\n",
       "      <td>...</td>\n",
       "      <td>100.00</td>\n",
       "      <td>97</td>\n",
       "      <td>1</td>\n",
       "      <td>31</td>\n",
       "      <td>10442</td>\n",
       "      <td>10412</td>\n",
       "      <td>31</td>\n",
       "      <td>7.640000e-08</td>\n",
       "      <td>58.4</td>\n",
       "      <td>LMGX01000007.1</td>\n",
       "    </tr>\n",
       "    <tr>\n",
       "      <th>11</th>\n",
       "      <td>4Wh2oV_0h_scaffold_1114760</td>\n",
       "      <td>3</td>\n",
       "      <td>4Wh2oV_0h_UNK</td>\n",
       "      <td>['Bacteria', 'Actinobacteria', 'Streptomycetal...</td>\n",
       "      <td>Streptomyces avermitilis</td>\n",
       "      <td>unknown</td>\n",
       "      <td>50.77</td>\n",
       "      <td>69.35</td>\n",
       "      <td>NaN</td>\n",
       "      <td>NaN</td>\n",
       "      <td>...</td>\n",
       "      <td>100.00</td>\n",
       "      <td>100</td>\n",
       "      <td>1</td>\n",
       "      <td>32</td>\n",
       "      <td>44443</td>\n",
       "      <td>44412</td>\n",
       "      <td>32</td>\n",
       "      <td>2.120000e-08</td>\n",
       "      <td>60.2</td>\n",
       "      <td>KQ948608.1</td>\n",
       "    </tr>\n",
       "    <tr>\n",
       "      <th>...</th>\n",
       "      <td>...</td>\n",
       "      <td>...</td>\n",
       "      <td>...</td>\n",
       "      <td>...</td>\n",
       "      <td>...</td>\n",
       "      <td>...</td>\n",
       "      <td>...</td>\n",
       "      <td>...</td>\n",
       "      <td>...</td>\n",
       "      <td>...</td>\n",
       "      <td>...</td>\n",
       "      <td>...</td>\n",
       "      <td>...</td>\n",
       "      <td>...</td>\n",
       "      <td>...</td>\n",
       "      <td>...</td>\n",
       "      <td>...</td>\n",
       "      <td>...</td>\n",
       "      <td>...</td>\n",
       "      <td>...</td>\n",
       "      <td>...</td>\n",
       "    </tr>\n",
       "    <tr>\n",
       "      <th>1228</th>\n",
       "      <td>4Wh2oV_168h_scaffold_491050</td>\n",
       "      <td>4</td>\n",
       "      <td>4Wh2oV_168h_UNK</td>\n",
       "      <td>['Bacteria', 'Actinobacteria', 'Streptomycetal...</td>\n",
       "      <td>Streptomyces bikiniensis</td>\n",
       "      <td>unknown</td>\n",
       "      <td>757.45</td>\n",
       "      <td>70.91</td>\n",
       "      <td>NaN</td>\n",
       "      <td>NaN</td>\n",
       "      <td>...</td>\n",
       "      <td>96.97</td>\n",
       "      <td>100</td>\n",
       "      <td>1</td>\n",
       "      <td>33</td>\n",
       "      <td>6706</td>\n",
       "      <td>6738</td>\n",
       "      <td>33</td>\n",
       "      <td>3.140000e-07</td>\n",
       "      <td>56.5</td>\n",
       "      <td>JNWL01000041.1</td>\n",
       "    </tr>\n",
       "    <tr>\n",
       "      <th>1231</th>\n",
       "      <td>4Wh2oV_168h_scaffold_491050</td>\n",
       "      <td>4</td>\n",
       "      <td>4Wh2oV_168h_UNK</td>\n",
       "      <td>['Bacteria', 'Actinobacteria', 'Streptomycetal...</td>\n",
       "      <td>Streptomyces sp. NRRL F-5527</td>\n",
       "      <td>unknown</td>\n",
       "      <td>757.45</td>\n",
       "      <td>70.91</td>\n",
       "      <td>NaN</td>\n",
       "      <td>NaN</td>\n",
       "      <td>...</td>\n",
       "      <td>100.00</td>\n",
       "      <td>100</td>\n",
       "      <td>1</td>\n",
       "      <td>33</td>\n",
       "      <td>71979</td>\n",
       "      <td>71947</td>\n",
       "      <td>33</td>\n",
       "      <td>6.750000e-09</td>\n",
       "      <td>62.1</td>\n",
       "      <td>JOHL01000066.1</td>\n",
       "    </tr>\n",
       "    <tr>\n",
       "      <th>1233</th>\n",
       "      <td>4Wh2oV_168h_scaffold_491050</td>\n",
       "      <td>4</td>\n",
       "      <td>4Wh2oV_168h_UNK</td>\n",
       "      <td>['Bacteria', 'Actinobacteria', 'Streptomycetal...</td>\n",
       "      <td>Streptomyces sp. NRRL S-1314</td>\n",
       "      <td>unknown</td>\n",
       "      <td>757.45</td>\n",
       "      <td>70.91</td>\n",
       "      <td>NaN</td>\n",
       "      <td>NaN</td>\n",
       "      <td>...</td>\n",
       "      <td>100.00</td>\n",
       "      <td>100</td>\n",
       "      <td>1</td>\n",
       "      <td>33</td>\n",
       "      <td>71947</td>\n",
       "      <td>71979</td>\n",
       "      <td>33</td>\n",
       "      <td>6.750000e-09</td>\n",
       "      <td>62.1</td>\n",
       "      <td>JOHU01000052.1</td>\n",
       "    </tr>\n",
       "    <tr>\n",
       "      <th>1235</th>\n",
       "      <td>4Wh2oV_168h_scaffold_546933</td>\n",
       "      <td>4</td>\n",
       "      <td>4Wh2oV_168h_UNK</td>\n",
       "      <td>['Bacteria', 'Actinobacteria', 'Streptomycetal...</td>\n",
       "      <td>Streptomyces sp. NRRL S-146</td>\n",
       "      <td>unknown</td>\n",
       "      <td>734.61</td>\n",
       "      <td>68.11</td>\n",
       "      <td>Streptomyces</td>\n",
       "      <td>0.60</td>\n",
       "      <td>...</td>\n",
       "      <td>96.97</td>\n",
       "      <td>100</td>\n",
       "      <td>1</td>\n",
       "      <td>33</td>\n",
       "      <td>52425</td>\n",
       "      <td>52457</td>\n",
       "      <td>33</td>\n",
       "      <td>3.140000e-07</td>\n",
       "      <td>56.5</td>\n",
       "      <td>JOAW01000503.1</td>\n",
       "    </tr>\n",
       "    <tr>\n",
       "      <th>1236</th>\n",
       "      <td>4Wh2oV_168h_scaffold_546933</td>\n",
       "      <td>4</td>\n",
       "      <td>4Wh2oV_168h_UNK</td>\n",
       "      <td>['Bacteria', 'Actinobacteria', 'Streptomycetal...</td>\n",
       "      <td>Streptomyces sp. PsTaAH-124</td>\n",
       "      <td>unknown</td>\n",
       "      <td>734.61</td>\n",
       "      <td>68.11</td>\n",
       "      <td>Streptomyces</td>\n",
       "      <td>0.60</td>\n",
       "      <td>...</td>\n",
       "      <td>96.97</td>\n",
       "      <td>97</td>\n",
       "      <td>2</td>\n",
       "      <td>33</td>\n",
       "      <td>7369</td>\n",
       "      <td>7401</td>\n",
       "      <td>33</td>\n",
       "      <td>1.130000e-06</td>\n",
       "      <td>54.7</td>\n",
       "      <td>KB892181.1</td>\n",
       "    </tr>\n",
       "  </tbody>\n",
       "</table>\n",
       "<p>652 rows × 101 columns</p>\n",
       "</div>"
      ],
      "text/plain": [
       "                         scaffold  v_sum              bin  \\\n",
       "4        4Wh2oV_0h_scaffold_10786      3    4Wh2oV_0h_UNK   \n",
       "7        4Wh2oV_0h_scaffold_10786      3    4Wh2oV_0h_UNK   \n",
       "9      4Wh2oV_0h_scaffold_1114760      3    4Wh2oV_0h_UNK   \n",
       "10     4Wh2oV_0h_scaffold_1114760      3    4Wh2oV_0h_UNK   \n",
       "11     4Wh2oV_0h_scaffold_1114760      3    4Wh2oV_0h_UNK   \n",
       "...                           ...    ...              ...   \n",
       "1228  4Wh2oV_168h_scaffold_491050      4  4Wh2oV_168h_UNK   \n",
       "1231  4Wh2oV_168h_scaffold_491050      4  4Wh2oV_168h_UNK   \n",
       "1233  4Wh2oV_168h_scaffold_491050      4  4Wh2oV_168h_UNK   \n",
       "1235  4Wh2oV_168h_scaffold_546933      4  4Wh2oV_168h_UNK   \n",
       "1236  4Wh2oV_168h_scaffold_546933      4  4Wh2oV_168h_UNK   \n",
       "\n",
       "                                               taxonomy  \\\n",
       "4     ['Bacteria', 'Actinobacteria', 'Streptomycetal...   \n",
       "7     ['Bacteria', 'Actinobacteria', 'Streptomycetal...   \n",
       "9     ['Bacteria', 'Actinobacteria', 'Streptomycetal...   \n",
       "10    ['Bacteria', 'Actinobacteria', 'Streptomycetal...   \n",
       "11    ['Bacteria', 'Actinobacteria', 'Streptomycetal...   \n",
       "...                                                 ...   \n",
       "1228  ['Bacteria', 'Actinobacteria', 'Streptomycetal...   \n",
       "1231  ['Bacteria', 'Actinobacteria', 'Streptomycetal...   \n",
       "1233  ['Bacteria', 'Actinobacteria', 'Streptomycetal...   \n",
       "1235  ['Bacteria', 'Actinobacteria', 'Streptomycetal...   \n",
       "1236  ['Bacteria', 'Actinobacteria', 'Streptomycetal...   \n",
       "\n",
       "                                           organism organism taxonomy  \\\n",
       "4     Streptomyces avermitilis MA-4680 = NBRC 14893           unknown   \n",
       "7                          Streptomyces avermitilis           unknown   \n",
       "9                         Streptomyces sp. Root1295           unknown   \n",
       "10                          Streptomyces sp. Root63           unknown   \n",
       "11                         Streptomyces avermitilis           unknown   \n",
       "...                                             ...               ...   \n",
       "1228                       Streptomyces bikiniensis           unknown   \n",
       "1231                   Streptomyces sp. NRRL F-5527           unknown   \n",
       "1233                   Streptomyces sp. NRRL S-1314           unknown   \n",
       "1235                    Streptomyces sp. NRRL S-146           unknown   \n",
       "1236                    Streptomyces sp. PsTaAH-124           unknown   \n",
       "\n",
       "      Coverage   GC % Taxonomy winner  Winner %  ...  pident  qcovs qstart  \\\n",
       "4       136.15  68.82    Streptomyces      0.64  ...  100.00    100      1   \n",
       "7       136.15  68.82    Streptomyces      0.64  ...  100.00    100      1   \n",
       "9        50.77  69.35             NaN       NaN  ...  100.00     97      1   \n",
       "10       50.77  69.35             NaN       NaN  ...  100.00     97      1   \n",
       "11       50.77  69.35             NaN       NaN  ...  100.00    100      1   \n",
       "...        ...    ...             ...       ...  ...     ...    ...    ...   \n",
       "1228    757.45  70.91             NaN       NaN  ...   96.97    100      1   \n",
       "1231    757.45  70.91             NaN       NaN  ...  100.00    100      1   \n",
       "1233    757.45  70.91             NaN       NaN  ...  100.00    100      1   \n",
       "1235    734.61  68.11    Streptomyces      0.60  ...   96.97    100      1   \n",
       "1236    734.61  68.11    Streptomyces      0.60  ...   96.97     97      2   \n",
       "\n",
       "      qend sstart   send length_spacer_match        evalue bitscore  \\\n",
       "4       32  15971  16002                  32  2.120000e-08     60.2   \n",
       "7       32  16002  15971                  32  2.120000e-08     60.2   \n",
       "9       31  10442  10412                  31  7.640000e-08     58.4   \n",
       "10      31  10442  10412                  31  7.640000e-08     58.4   \n",
       "11      32  44443  44412                  32  2.120000e-08     60.2   \n",
       "...    ...    ...    ...                 ...           ...      ...   \n",
       "1228    33   6706   6738                  33  3.140000e-07     56.5   \n",
       "1231    33  71979  71947                  33  6.750000e-09     62.1   \n",
       "1233    33  71947  71979                  33  6.750000e-09     62.1   \n",
       "1235    33  52425  52457                  33  3.140000e-07     56.5   \n",
       "1236    33   7369   7401                  33  1.130000e-06     54.7   \n",
       "\n",
       "      ncbi_accession_spacer  \n",
       "4            JZJK01000038.1  \n",
       "7                KQ948608.1  \n",
       "9            LMEL01000024.1  \n",
       "10           LMGX01000007.1  \n",
       "11               KQ948608.1  \n",
       "...                     ...  \n",
       "1228         JNWL01000041.1  \n",
       "1231         JOHL01000066.1  \n",
       "1233         JOHU01000052.1  \n",
       "1235         JOAW01000503.1  \n",
       "1236             KB892181.1  \n",
       "\n",
       "[652 rows x 101 columns]"
      ]
     },
     "execution_count": 110,
     "metadata": {},
     "output_type": "execute_result"
    }
   ],
   "source": [
    "ncbi_spacer_match_dd[ncbi_spacer_match_dd.duplicated(subset='scaffold',keep=False)]"
   ]
  },
  {
   "cell_type": "markdown",
   "metadata": {
    "tags": []
   },
   "source": [
    "# Use Spacers from metagenome assemblies to connect host and virus"
   ]
  },
  {
   "cell_type": "markdown",
   "metadata": {},
   "source": [
    "## Spacers from MAGs and blast vOTU hits"
   ]
  },
  {
   "cell_type": "code",
   "execution_count": 269,
   "metadata": {},
   "outputs": [
    {
     "data": {
      "text/plain": [
       "'blastn -query /groups/banfield/projects/environmental/4thwedge/2021/4Wh2oV/CRISPRs/MAGs_nonderep_spacers_wbinname.fa -db /groups/banfield/projects/environmental/4thwedge/2021/4Wh2oV/4W_vOTU_db/viral_scaffold_set_12C16O_4Wh2oV.fa -num_threads 16 -outfmt ‘6 qseqid sseqid pident qcovs qstart qend sstart send length evalue bitscore mismatch’ -out /groups/banfield/projects/environmental/4thwedge/2021/4Wh2oV/CRISPRs/MAGs_nonderep_spacers_4WvOTUs.tsv'"
      ]
     },
     "execution_count": 269,
     "metadata": {},
     "output_type": "execute_result"
    }
   ],
   "source": [
    "mag_spacers = '/groups/banfield/projects/environmental/4thwedge/2021/4Wh2oV/CRISPRs/MAGs_nonderep_spacers_wbinname.fa'\n",
    "out = '/groups/banfield/projects/environmental/4thwedge/2021/4Wh2oV/CRISPRs/MAGs_nonderep_spacers_4WvOTUs.tsv'\n",
    "blastn = \"blastn -query \" + mag_spacers +  \" -db \" + vOTU_db + \\\n",
    "\" -num_threads 16 -outfmt ‘6 qseqid sseqid pident qcovs qstart qend sstart send length evalue bitscore mismatch’ -out \" + out\n",
    "blastn"
   ]
  },
  {
   "cell_type": "code",
   "execution_count": 174,
   "metadata": {},
   "outputs": [],
   "source": [
    "mag_spacer_hits = pd.read_csv('/groups/banfield/projects/environmental/4thwedge/2021/4Wh2oV/CRISPRs/MAGs_nonderep_spacers_4WvOTUs.tsv',\n",
    "                             sep='\\t',\n",
    "                             header=None,\n",
    "                             names = [\n",
    "                                'qseqid', 'sseqid', 'pident', 'qcovs', 'qstart', 'qend', 'sstart', 'send', 'length', 'evalue', 'bitscore', 'mismatch' \n",
    "                             ])\n",
    "mag_spacer_hits['scaffold'] = mag_spacer_hits['qseqid'].str.split(\"@\").str[1].str.rsplit(\"_\",1).str[0]"
   ]
  },
  {
   "cell_type": "code",
   "execution_count": 175,
   "metadata": {},
   "outputs": [],
   "source": [
    "mag_spacer_hits = pd.merge(mag_spacer_hits,s2b,on='scaffold',how='left')#.sort_values('classification',ascending=True)"
   ]
  },
  {
   "cell_type": "code",
   "execution_count": 176,
   "metadata": {},
   "outputs": [],
   "source": [
    "mag_spacer_hits['votu'] = mag_spacer_hits['sseqid']"
   ]
  },
  {
   "cell_type": "markdown",
   "metadata": {
    "tags": []
   },
   "source": [
    "## unbinned MG contigs with spacer arrays kaiju taxonomy"
   ]
  },
  {
   "cell_type": "code",
   "execution_count": 709,
   "metadata": {},
   "outputs": [],
   "source": [
    "crispr_dir = '/groups/banfield/projects/environmental/4thwedge/2021/4Wh2oV/CRISPRs/'\n",
    "mg_spacers = crispr_dir+'4W_contigs_spacers.fa'\n",
    "# read in blast output for mg unbinned crispr arrays aligning with vOTU sequence \n",
    "mg_spacers_blastout = pd.read_csv('/groups/banfield/projects/environmental/4thwedge/2021/4Wh2oV/CRISPRs/4W_contigs_spacers_vs_4Wh2oV_blast_db.tsv',\n",
    "                                  sep='\\t')\n",
    "mg_spacers_blastout = mg_spacers_blastout['qseqid'].str.split(\"_CRISPR\",expand=True).rename(columns={0:'mg_contig',1:'array'}).merge(mg_spacers_blastout,left_index=True,right_index=True)"
   ]
  },
  {
   "cell_type": "markdown",
   "metadata": {},
   "source": [
    "multiple spacers hit multiple places in votu from single contig, keep this type of duplication"
   ]
  },
  {
   "cell_type": "code",
   "execution_count": 713,
   "metadata": {},
   "outputs": [],
   "source": [
    "# merge unbinned spacer blast from mg with kaiju taxonomy\n",
    "# also issue with kaiju_out – has multiple entries per mg_contig ... \n",
    "mg_spacers_blastout_taxa = mg_spacers_blastout.merge(\n",
    "    kaiju_out[kaiju_out['kaiju_scaffold'].notna()],\n",
    "                                                     left_on='mg_contig',\n",
    "                                                     right_on='kaiju_scaffold', \n",
    "                                                     how='left',validate='m:1')"
   ]
  },
  {
   "cell_type": "markdown",
   "metadata": {},
   "source": [
    "3 contigs do not have assigned taxonomy from kaiju – these are unclassified\n"
   ]
  },
  {
   "cell_type": "markdown",
   "metadata": {
    "tags": []
   },
   "source": [
    "## wSIP MAGs CRISPRs"
   ]
  },
  {
   "cell_type": "code",
   "execution_count": 183,
   "metadata": {},
   "outputs": [],
   "source": [
    "wsip_mag_file = '/groups/banfield/projects/environmental/4thwedge/2021/4Wh2oV/CRISPRs/wSIP_MAGs_nonderep_spacers_vs_4Wh2oV_blast_db.tsv'\n",
    "wsip_mag = pd.read_csv(wsip_mag_file,\n",
    "                       sep='\\t')\n",
    "wsip_mag.rename(columns={'e-value':'evalue','pid':'pident','qcov':'qcovs'},inplace=True)"
   ]
  },
  {
   "cell_type": "code",
   "execution_count": 184,
   "metadata": {},
   "outputs": [],
   "source": [
    "wsip_mag['MAG'] = wsip_mag['MAG'].str.replace(\"_spacers.fa\",\"\")"
   ]
  },
  {
   "cell_type": "code",
   "execution_count": 185,
   "metadata": {
    "collapsed": true,
    "jupyter": {
     "outputs_hidden": true
    },
    "tags": []
   },
   "outputs": [
    {
     "data": {
      "text/html": [
       "<div>\n",
       "<style scoped>\n",
       "    .dataframe tbody tr th:only-of-type {\n",
       "        vertical-align: middle;\n",
       "    }\n",
       "\n",
       "    .dataframe tbody tr th {\n",
       "        vertical-align: top;\n",
       "    }\n",
       "\n",
       "    .dataframe thead th {\n",
       "        text-align: right;\n",
       "    }\n",
       "</style>\n",
       "<table border=\"1\" class=\"dataframe\">\n",
       "  <thead>\n",
       "    <tr style=\"text-align: right;\">\n",
       "      <th></th>\n",
       "      <th>qseqid</th>\n",
       "      <th>sseqid</th>\n",
       "    </tr>\n",
       "  </thead>\n",
       "  <tbody>\n",
       "    <tr>\n",
       "      <th>0</th>\n",
       "      <td>H1-18-all-fractions_k255_4602126_CRISPR_1_spac...</td>\n",
       "      <td>5</td>\n",
       "    </tr>\n",
       "    <tr>\n",
       "      <th>1</th>\n",
       "      <td>H1-18-all-fractions_k255_4902837_CRISPR_1_spac...</td>\n",
       "      <td>1</td>\n",
       "    </tr>\n",
       "    <tr>\n",
       "      <th>2</th>\n",
       "      <td>H3-18-all-fractions_k255_4574136_CRISPR_1_spac...</td>\n",
       "      <td>1</td>\n",
       "    </tr>\n",
       "    <tr>\n",
       "      <th>3</th>\n",
       "      <td>S3-16-all-fractions_k255_1197418_CRISPR_1_spac...</td>\n",
       "      <td>1</td>\n",
       "    </tr>\n",
       "    <tr>\n",
       "      <th>4</th>\n",
       "      <td>S3-16-all-fractions_k255_1197418_CRISPR_1_spac...</td>\n",
       "      <td>2</td>\n",
       "    </tr>\n",
       "    <tr>\n",
       "      <th>5</th>\n",
       "      <td>S3-16-all-fractions_k255_1197418_CRISPR_1_spac...</td>\n",
       "      <td>3</td>\n",
       "    </tr>\n",
       "    <tr>\n",
       "      <th>6</th>\n",
       "      <td>S3-16-all-fractions_k255_1197418_CRISPR_1_spac...</td>\n",
       "      <td>3</td>\n",
       "    </tr>\n",
       "    <tr>\n",
       "      <th>7</th>\n",
       "      <td>S3-16-all-fractions_k255_1197418_CRISPR_1_spac...</td>\n",
       "      <td>1</td>\n",
       "    </tr>\n",
       "  </tbody>\n",
       "</table>\n",
       "</div>"
      ],
      "text/plain": [
       "                                              qseqid  sseqid\n",
       "0  H1-18-all-fractions_k255_4602126_CRISPR_1_spac...       5\n",
       "1  H1-18-all-fractions_k255_4902837_CRISPR_1_spac...       1\n",
       "2  H3-18-all-fractions_k255_4574136_CRISPR_1_spac...       1\n",
       "3  S3-16-all-fractions_k255_1197418_CRISPR_1_spac...       1\n",
       "4  S3-16-all-fractions_k255_1197418_CRISPR_1_spac...       2\n",
       "5  S3-16-all-fractions_k255_1197418_CRISPR_1_spac...       3\n",
       "6  S3-16-all-fractions_k255_1197418_CRISPR_1_spac...       3\n",
       "7  S3-16-all-fractions_k255_1197418_CRISPR_1_spac...       1"
      ]
     },
     "execution_count": 185,
     "metadata": {},
     "output_type": "execute_result"
    }
   ],
   "source": [
    "wsip_mag.groupby(['qseqid'],as_index=False)['sseqid'].count()"
   ]
  },
  {
   "cell_type": "code",
   "execution_count": 189,
   "metadata": {},
   "outputs": [],
   "source": [
    "wsip_mag['scaffold_id'] = wsip_mag['qseqid'].str.split(\"_C\").str[0]"
   ]
  },
  {
   "cell_type": "code",
   "execution_count": 186,
   "metadata": {
    "collapsed": true,
    "jupyter": {
     "outputs_hidden": true
    },
    "tags": []
   },
   "outputs": [
    {
     "data": {
      "text/html": [
       "<div>\n",
       "<style scoped>\n",
       "    .dataframe tbody tr th:only-of-type {\n",
       "        vertical-align: middle;\n",
       "    }\n",
       "\n",
       "    .dataframe tbody tr th {\n",
       "        vertical-align: top;\n",
       "    }\n",
       "\n",
       "    .dataframe thead th {\n",
       "        text-align: right;\n",
       "    }\n",
       "</style>\n",
       "<table border=\"1\" class=\"dataframe\">\n",
       "  <thead>\n",
       "    <tr style=\"text-align: right;\">\n",
       "      <th></th>\n",
       "      <th>sseqid</th>\n",
       "      <th>qseqid</th>\n",
       "    </tr>\n",
       "  </thead>\n",
       "  <tbody>\n",
       "    <tr>\n",
       "      <th>0</th>\n",
       "      <td>4Wh2oV_0h_scaffold_1703601</td>\n",
       "      <td>1</td>\n",
       "    </tr>\n",
       "    <tr>\n",
       "      <th>1</th>\n",
       "      <td>4Wh2oV_0h_scaffold_637225</td>\n",
       "      <td>1</td>\n",
       "    </tr>\n",
       "    <tr>\n",
       "      <th>2</th>\n",
       "      <td>4Wh2oV_24h_scaffold_1255333</td>\n",
       "      <td>1</td>\n",
       "    </tr>\n",
       "    <tr>\n",
       "      <th>3</th>\n",
       "      <td>4Wh2oV_24h_scaffold_1500359</td>\n",
       "      <td>1</td>\n",
       "    </tr>\n",
       "    <tr>\n",
       "      <th>4</th>\n",
       "      <td>4Wh2oV_24h_scaffold_1626649</td>\n",
       "      <td>1</td>\n",
       "    </tr>\n",
       "    <tr>\n",
       "      <th>5</th>\n",
       "      <td>4Wh2oV_24h_scaffold_1787552</td>\n",
       "      <td>1</td>\n",
       "    </tr>\n",
       "    <tr>\n",
       "      <th>6</th>\n",
       "      <td>4Wh2oV_24h_scaffold_221362</td>\n",
       "      <td>1</td>\n",
       "    </tr>\n",
       "    <tr>\n",
       "      <th>7</th>\n",
       "      <td>4Wh2oV_24h_scaffold_467538</td>\n",
       "      <td>1</td>\n",
       "    </tr>\n",
       "    <tr>\n",
       "      <th>8</th>\n",
       "      <td>4Wh2oV_24h_scaffold_960306</td>\n",
       "      <td>1</td>\n",
       "    </tr>\n",
       "    <tr>\n",
       "      <th>9</th>\n",
       "      <td>4Wh2oV_3h_scaffold_1562313</td>\n",
       "      <td>1</td>\n",
       "    </tr>\n",
       "    <tr>\n",
       "      <th>10</th>\n",
       "      <td>4Wh2oV_3h_scaffold_1843257</td>\n",
       "      <td>1</td>\n",
       "    </tr>\n",
       "    <tr>\n",
       "      <th>11</th>\n",
       "      <td>4Wh2oV_3h_scaffold_1894264</td>\n",
       "      <td>1</td>\n",
       "    </tr>\n",
       "    <tr>\n",
       "      <th>12</th>\n",
       "      <td>4Wh2oV_3h_scaffold_356956</td>\n",
       "      <td>1</td>\n",
       "    </tr>\n",
       "    <tr>\n",
       "      <th>13</th>\n",
       "      <td>4Wh2oV_48h_scaffold_716693</td>\n",
       "      <td>1</td>\n",
       "    </tr>\n",
       "    <tr>\n",
       "      <th>14</th>\n",
       "      <td>4Wh2oV_48h_scaffold_936400</td>\n",
       "      <td>1</td>\n",
       "    </tr>\n",
       "    <tr>\n",
       "      <th>15</th>\n",
       "      <td>4Wh2oV_72h_scaffold_529029</td>\n",
       "      <td>1</td>\n",
       "    </tr>\n",
       "    <tr>\n",
       "      <th>16</th>\n",
       "      <td>4Wh2oV_72h_scaffold_695820</td>\n",
       "      <td>1</td>\n",
       "    </tr>\n",
       "  </tbody>\n",
       "</table>\n",
       "</div>"
      ],
      "text/plain": [
       "                         sseqid  qseqid\n",
       "0    4Wh2oV_0h_scaffold_1703601       1\n",
       "1     4Wh2oV_0h_scaffold_637225       1\n",
       "2   4Wh2oV_24h_scaffold_1255333       1\n",
       "3   4Wh2oV_24h_scaffold_1500359       1\n",
       "4   4Wh2oV_24h_scaffold_1626649       1\n",
       "5   4Wh2oV_24h_scaffold_1787552       1\n",
       "6    4Wh2oV_24h_scaffold_221362       1\n",
       "7    4Wh2oV_24h_scaffold_467538       1\n",
       "8    4Wh2oV_24h_scaffold_960306       1\n",
       "9    4Wh2oV_3h_scaffold_1562313       1\n",
       "10   4Wh2oV_3h_scaffold_1843257       1\n",
       "11   4Wh2oV_3h_scaffold_1894264       1\n",
       "12    4Wh2oV_3h_scaffold_356956       1\n",
       "13   4Wh2oV_48h_scaffold_716693       1\n",
       "14   4Wh2oV_48h_scaffold_936400       1\n",
       "15   4Wh2oV_72h_scaffold_529029       1\n",
       "16   4Wh2oV_72h_scaffold_695820       1"
      ]
     },
     "execution_count": 186,
     "metadata": {},
     "output_type": "execute_result"
    }
   ],
   "source": [
    "wsip_mag.groupby(['sseqid'],as_index=False)['qseqid'].count()"
   ]
  },
  {
   "cell_type": "markdown",
   "metadata": {},
   "source": [
    "merge scaffold to bin with wsip mag hits – not working check in w Ella"
   ]
  },
  {
   "cell_type": "code",
   "execution_count": 417,
   "metadata": {},
   "outputs": [
    {
     "data": {
      "text/html": [
       "<div>\n",
       "<style scoped>\n",
       "    .dataframe tbody tr th:only-of-type {\n",
       "        vertical-align: middle;\n",
       "    }\n",
       "\n",
       "    .dataframe tbody tr th {\n",
       "        vertical-align: top;\n",
       "    }\n",
       "\n",
       "    .dataframe thead th {\n",
       "        text-align: right;\n",
       "    }\n",
       "</style>\n",
       "<table border=\"1\" class=\"dataframe\">\n",
       "  <thead>\n",
       "    <tr style=\"text-align: right;\">\n",
       "      <th></th>\n",
       "      <th>scaffold</th>\n",
       "      <th>Bin</th>\n",
       "      <th>classification</th>\n",
       "      <th>scaffold_id</th>\n",
       "    </tr>\n",
       "  </thead>\n",
       "  <tbody>\n",
       "  </tbody>\n",
       "</table>\n",
       "</div>"
      ],
      "text/plain": [
       "Empty DataFrame\n",
       "Columns: [scaffold, Bin, classification, scaffold_id]\n",
       "Index: []"
      ]
     },
     "execution_count": 417,
     "metadata": {},
     "output_type": "execute_result"
    }
   ],
   "source": [
    "s2b[s2b['scaffold_id'].isin(wsip_mag['scaffold_id'].unique())]"
   ]
  },
  {
   "cell_type": "code",
   "execution_count": 401,
   "metadata": {
    "collapsed": true,
    "jupyter": {
     "outputs_hidden": true
    },
    "tags": []
   },
   "outputs": [
    {
     "data": {
      "text/html": [
       "<div>\n",
       "<style scoped>\n",
       "    .dataframe tbody tr th:only-of-type {\n",
       "        vertical-align: middle;\n",
       "    }\n",
       "\n",
       "    .dataframe tbody tr th {\n",
       "        vertical-align: top;\n",
       "    }\n",
       "\n",
       "    .dataframe thead th {\n",
       "        text-align: right;\n",
       "    }\n",
       "</style>\n",
       "<table border=\"1\" class=\"dataframe\">\n",
       "  <thead>\n",
       "    <tr style=\"text-align: right;\">\n",
       "      <th></th>\n",
       "      <th>scaffold</th>\n",
       "      <th>Bin</th>\n",
       "      <th>classification</th>\n",
       "      <th>bin</th>\n",
       "      <th>secondary_cluster</th>\n",
       "      <th>NCBI_taxonomy</th>\n",
       "    </tr>\n",
       "  </thead>\n",
       "  <tbody>\n",
       "    <tr>\n",
       "      <th>698817</th>\n",
       "      <td>H3-18-all-fractions_k255_2339 read_length_150 read_count_31</td>\n",
       "      <td>H3-18-all-fractions_conc_114.Actinobacteria_73_10</td>\n",
       "      <td>NaN</td>\n",
       "      <td>H3-18-all-fractions_conc_114_Actinobacteria_73_10</td>\n",
       "      <td>122_1</td>\n",
       "      <td>NaN</td>\n",
       "    </tr>\n",
       "    <tr>\n",
       "      <th>698818</th>\n",
       "      <td>H3-18-all-fractions_k255_3194 read_length_150 read_count_115</td>\n",
       "      <td>H3-18-all-fractions_conc_114.Actinobacteria_73_10</td>\n",
       "      <td>NaN</td>\n",
       "      <td>H3-18-all-fractions_conc_114_Actinobacteria_73_10</td>\n",
       "      <td>122_1</td>\n",
       "      <td>NaN</td>\n",
       "    </tr>\n",
       "    <tr>\n",
       "      <th>698819</th>\n",
       "      <td>H3-18-all-fractions_k255_4549 read_length_150 read_count_21</td>\n",
       "      <td>H3-18-all-fractions_conc_114.Actinobacteria_73_10</td>\n",
       "      <td>NaN</td>\n",
       "      <td>H3-18-all-fractions_conc_114_Actinobacteria_73_10</td>\n",
       "      <td>122_1</td>\n",
       "      <td>NaN</td>\n",
       "    </tr>\n",
       "    <tr>\n",
       "      <th>698820</th>\n",
       "      <td>H3-18-all-fractions_k255_6336 read_length_150 read_count_19</td>\n",
       "      <td>H3-18-all-fractions_conc_114.Actinobacteria_73_10</td>\n",
       "      <td>NaN</td>\n",
       "      <td>H3-18-all-fractions_conc_114_Actinobacteria_73_10</td>\n",
       "      <td>122_1</td>\n",
       "      <td>NaN</td>\n",
       "    </tr>\n",
       "    <tr>\n",
       "      <th>698821</th>\n",
       "      <td>H3-18-all-fractions_k255_20509 read_length_150 read_count_17</td>\n",
       "      <td>H3-18-all-fractions_conc_114.Actinobacteria_73_10</td>\n",
       "      <td>NaN</td>\n",
       "      <td>H3-18-all-fractions_conc_114_Actinobacteria_73_10</td>\n",
       "      <td>122_1</td>\n",
       "      <td>NaN</td>\n",
       "    </tr>\n",
       "    <tr>\n",
       "      <th>...</th>\n",
       "      <td>...</td>\n",
       "      <td>...</td>\n",
       "      <td>...</td>\n",
       "      <td>...</td>\n",
       "      <td>...</td>\n",
       "      <td>...</td>\n",
       "    </tr>\n",
       "    <tr>\n",
       "      <th>701133</th>\n",
       "      <td>H3-18-all-fractions_k255_6607254 read_length_150 read_count_27</td>\n",
       "      <td>H3-18-all-fractions_conc_15.Actinobacteria_69_13</td>\n",
       "      <td>d__Bacteria;p__Actinobacteriota;c__Thermoleophilia;o__Solirubrobacterales;f__Solirubrobacteraceae;g__Palsa-465;s__</td>\n",
       "      <td>H3-18-all-fractions_conc_15_Actinobacteria_69_13</td>\n",
       "      <td>163_0</td>\n",
       "      <td>NaN</td>\n",
       "    </tr>\n",
       "    <tr>\n",
       "      <th>701134</th>\n",
       "      <td>H3-18-all-fractions_k255_6608650 read_length_150 read_count_31</td>\n",
       "      <td>H3-18-all-fractions_conc_15.Actinobacteria_69_13</td>\n",
       "      <td>d__Bacteria;p__Actinobacteriota;c__Thermoleophilia;o__Solirubrobacterales;f__Solirubrobacteraceae;g__Palsa-465;s__</td>\n",
       "      <td>H3-18-all-fractions_conc_15_Actinobacteria_69_13</td>\n",
       "      <td>163_0</td>\n",
       "      <td>NaN</td>\n",
       "    </tr>\n",
       "    <tr>\n",
       "      <th>701135</th>\n",
       "      <td>H3-18-all-fractions_k255_6609022 read_length_150 read_count_63</td>\n",
       "      <td>H3-18-all-fractions_conc_15.Actinobacteria_69_13</td>\n",
       "      <td>d__Bacteria;p__Actinobacteriota;c__Thermoleophilia;o__Solirubrobacterales;f__Solirubrobacteraceae;g__Palsa-465;s__</td>\n",
       "      <td>H3-18-all-fractions_conc_15_Actinobacteria_69_13</td>\n",
       "      <td>163_0</td>\n",
       "      <td>NaN</td>\n",
       "    </tr>\n",
       "    <tr>\n",
       "      <th>701136</th>\n",
       "      <td>H3-18-all-fractions_k255_6610382 read_length_150 read_count_51</td>\n",
       "      <td>H3-18-all-fractions_conc_15.Actinobacteria_69_13</td>\n",
       "      <td>d__Bacteria;p__Actinobacteriota;c__Thermoleophilia;o__Solirubrobacterales;f__Solirubrobacteraceae;g__Palsa-465;s__</td>\n",
       "      <td>H3-18-all-fractions_conc_15_Actinobacteria_69_13</td>\n",
       "      <td>163_0</td>\n",
       "      <td>NaN</td>\n",
       "    </tr>\n",
       "    <tr>\n",
       "      <th>701137</th>\n",
       "      <td>H3-18-all-fractions_k255_6619471 read_length_150 read_count_20</td>\n",
       "      <td>H3-18-all-fractions_conc_15.Actinobacteria_69_13</td>\n",
       "      <td>d__Bacteria;p__Actinobacteriota;c__Thermoleophilia;o__Solirubrobacterales;f__Solirubrobacteraceae;g__Palsa-465;s__</td>\n",
       "      <td>H3-18-all-fractions_conc_15_Actinobacteria_69_13</td>\n",
       "      <td>163_0</td>\n",
       "      <td>NaN</td>\n",
       "    </tr>\n",
       "  </tbody>\n",
       "</table>\n",
       "<p>2321 rows × 6 columns</p>\n",
       "</div>"
      ],
      "text/plain": [
       "                                                              scaffold  \\\n",
       "698817     H3-18-all-fractions_k255_2339 read_length_150 read_count_31   \n",
       "698818    H3-18-all-fractions_k255_3194 read_length_150 read_count_115   \n",
       "698819     H3-18-all-fractions_k255_4549 read_length_150 read_count_21   \n",
       "698820     H3-18-all-fractions_k255_6336 read_length_150 read_count_19   \n",
       "698821    H3-18-all-fractions_k255_20509 read_length_150 read_count_17   \n",
       "...                                                                ...   \n",
       "701133  H3-18-all-fractions_k255_6607254 read_length_150 read_count_27   \n",
       "701134  H3-18-all-fractions_k255_6608650 read_length_150 read_count_31   \n",
       "701135  H3-18-all-fractions_k255_6609022 read_length_150 read_count_63   \n",
       "701136  H3-18-all-fractions_k255_6610382 read_length_150 read_count_51   \n",
       "701137  H3-18-all-fractions_k255_6619471 read_length_150 read_count_20   \n",
       "\n",
       "                                                      Bin  \\\n",
       "698817  H3-18-all-fractions_conc_114.Actinobacteria_73_10   \n",
       "698818  H3-18-all-fractions_conc_114.Actinobacteria_73_10   \n",
       "698819  H3-18-all-fractions_conc_114.Actinobacteria_73_10   \n",
       "698820  H3-18-all-fractions_conc_114.Actinobacteria_73_10   \n",
       "698821  H3-18-all-fractions_conc_114.Actinobacteria_73_10   \n",
       "...                                                   ...   \n",
       "701133   H3-18-all-fractions_conc_15.Actinobacteria_69_13   \n",
       "701134   H3-18-all-fractions_conc_15.Actinobacteria_69_13   \n",
       "701135   H3-18-all-fractions_conc_15.Actinobacteria_69_13   \n",
       "701136   H3-18-all-fractions_conc_15.Actinobacteria_69_13   \n",
       "701137   H3-18-all-fractions_conc_15.Actinobacteria_69_13   \n",
       "\n",
       "                                                                                                            classification  \\\n",
       "698817                                                                                                                 NaN   \n",
       "698818                                                                                                                 NaN   \n",
       "698819                                                                                                                 NaN   \n",
       "698820                                                                                                                 NaN   \n",
       "698821                                                                                                                 NaN   \n",
       "...                                                                                                                    ...   \n",
       "701133  d__Bacteria;p__Actinobacteriota;c__Thermoleophilia;o__Solirubrobacterales;f__Solirubrobacteraceae;g__Palsa-465;s__   \n",
       "701134  d__Bacteria;p__Actinobacteriota;c__Thermoleophilia;o__Solirubrobacterales;f__Solirubrobacteraceae;g__Palsa-465;s__   \n",
       "701135  d__Bacteria;p__Actinobacteriota;c__Thermoleophilia;o__Solirubrobacterales;f__Solirubrobacteraceae;g__Palsa-465;s__   \n",
       "701136  d__Bacteria;p__Actinobacteriota;c__Thermoleophilia;o__Solirubrobacterales;f__Solirubrobacteraceae;g__Palsa-465;s__   \n",
       "701137  d__Bacteria;p__Actinobacteriota;c__Thermoleophilia;o__Solirubrobacterales;f__Solirubrobacteraceae;g__Palsa-465;s__   \n",
       "\n",
       "                                                      bin secondary_cluster  \\\n",
       "698817  H3-18-all-fractions_conc_114_Actinobacteria_73_10             122_1   \n",
       "698818  H3-18-all-fractions_conc_114_Actinobacteria_73_10             122_1   \n",
       "698819  H3-18-all-fractions_conc_114_Actinobacteria_73_10             122_1   \n",
       "698820  H3-18-all-fractions_conc_114_Actinobacteria_73_10             122_1   \n",
       "698821  H3-18-all-fractions_conc_114_Actinobacteria_73_10             122_1   \n",
       "...                                                   ...               ...   \n",
       "701133   H3-18-all-fractions_conc_15_Actinobacteria_69_13             163_0   \n",
       "701134   H3-18-all-fractions_conc_15_Actinobacteria_69_13             163_0   \n",
       "701135   H3-18-all-fractions_conc_15_Actinobacteria_69_13             163_0   \n",
       "701136   H3-18-all-fractions_conc_15_Actinobacteria_69_13             163_0   \n",
       "701137   H3-18-all-fractions_conc_15_Actinobacteria_69_13             163_0   \n",
       "\n",
       "       NCBI_taxonomy  \n",
       "698817           NaN  \n",
       "698818           NaN  \n",
       "698819           NaN  \n",
       "698820           NaN  \n",
       "698821           NaN  \n",
       "...              ...  \n",
       "701133           NaN  \n",
       "701134           NaN  \n",
       "701135           NaN  \n",
       "701136           NaN  \n",
       "701137           NaN  \n",
       "\n",
       "[2321 rows x 6 columns]"
      ]
     },
     "execution_count": 401,
     "metadata": {},
     "output_type": "execute_result"
    }
   ],
   "source": [
    "s2b[s2b['Bin'].str.contains('H3-18-all-fractions_conc_')]"
   ]
  },
  {
   "cell_type": "code",
   "execution_count": 676,
   "metadata": {},
   "outputs": [
    {
     "data": {
      "text/html": [
       "<div>\n",
       "<style scoped>\n",
       "    .dataframe tbody tr th:only-of-type {\n",
       "        vertical-align: middle;\n",
       "    }\n",
       "\n",
       "    .dataframe tbody tr th {\n",
       "        vertical-align: top;\n",
       "    }\n",
       "\n",
       "    .dataframe thead th {\n",
       "        text-align: right;\n",
       "    }\n",
       "</style>\n",
       "<table border=\"1\" class=\"dataframe\">\n",
       "  <thead>\n",
       "    <tr style=\"text-align: right;\">\n",
       "      <th></th>\n",
       "      <th>classified</th>\n",
       "      <th>kaiju_scaffold</th>\n",
       "      <th>ncbi_taxid</th>\n",
       "      <th>kaiju_taxonomy</th>\n",
       "    </tr>\n",
       "  </thead>\n",
       "  <tbody>\n",
       "    <tr>\n",
       "      <th>170</th>\n",
       "      <td>C</td>\n",
       "      <td>H3-18-all-fractions_k255_4574136</td>\n",
       "      <td>983917</td>\n",
       "      <td>cellular organisms; Bacteria; Proteobacteria; Betaproteobacteria; Burkholderiales; Burkholderiales genera incertae sedis; Rubrivivax; Rubrivivax gelatinosus</td>\n",
       "    </tr>\n",
       "  </tbody>\n",
       "</table>\n",
       "</div>"
      ],
      "text/plain": [
       "    classified                    kaiju_scaffold  ncbi_taxid  \\\n",
       "170          C  H3-18-all-fractions_k255_4574136      983917   \n",
       "\n",
       "                                                                                                                                                   kaiju_taxonomy  \n",
       "170  cellular organisms; Bacteria; Proteobacteria; Betaproteobacteria; Burkholderiales; Burkholderiales genera incertae sedis; Rubrivivax; Rubrivivax gelatinosus  "
      ]
     },
     "execution_count": 676,
     "metadata": {},
     "output_type": "execute_result"
    }
   ],
   "source": [
    "kaiju_wsip[kaiju_wsip['kaiju_scaffold'].isin(wsip_mag['scaffold_id'].unique())]"
   ]
  },
  {
   "cell_type": "markdown",
   "metadata": {},
   "source": [
    "this contig actually belongs to a MAG that should have an assignment – H3-18-all-fractions_Burkholderiales_71_8\n",
    "or H3-18-all-fractions_conc_96\n"
   ]
  },
  {
   "cell_type": "code",
   "execution_count": 421,
   "metadata": {},
   "outputs": [
    {
     "data": {
      "text/plain": [
       "array(['H1-18-all-fractions_k255_4602126',\n",
       "       'H1-18-all-fractions_k255_4902837',\n",
       "       'H3-18-all-fractions_k255_4574136',\n",
       "       'S3-16-all-fractions_k255_1197418'], dtype=object)"
      ]
     },
     "execution_count": 421,
     "metadata": {},
     "output_type": "execute_result"
    }
   ],
   "source": [
    "wsip_mag['scaffold_id'].unique()"
   ]
  },
  {
   "cell_type": "code",
   "execution_count": 191,
   "metadata": {},
   "outputs": [
    {
     "data": {
      "text/html": [
       "<div>\n",
       "<style scoped>\n",
       "    .dataframe tbody tr th:only-of-type {\n",
       "        vertical-align: middle;\n",
       "    }\n",
       "\n",
       "    .dataframe tbody tr th {\n",
       "        vertical-align: top;\n",
       "    }\n",
       "\n",
       "    .dataframe thead th {\n",
       "        text-align: right;\n",
       "    }\n",
       "</style>\n",
       "<table border=\"1\" class=\"dataframe\">\n",
       "  <thead>\n",
       "    <tr style=\"text-align: right;\">\n",
       "      <th></th>\n",
       "      <th>scaffold</th>\n",
       "      <th>Bin</th>\n",
       "      <th>classification</th>\n",
       "      <th>scaffold_id</th>\n",
       "      <th>secondary_cluster</th>\n",
       "    </tr>\n",
       "  </thead>\n",
       "  <tbody>\n",
       "  </tbody>\n",
       "</table>\n",
       "</div>"
      ],
      "text/plain": [
       "Empty DataFrame\n",
       "Columns: [scaffold, Bin, classification, scaffold_id, secondary_cluster]\n",
       "Index: []"
      ]
     },
     "execution_count": 191,
     "metadata": {},
     "output_type": "execute_result"
    }
   ],
   "source": [
    "s2b[s2b['scaffold_id'].isin(wsip_mag['scaffold_id'].unique())]"
   ]
  },
  {
   "cell_type": "markdown",
   "metadata": {},
   "source": [
    "why does wSIP MAG contigs not show up in s2b..."
   ]
  },
  {
   "cell_type": "code",
   "execution_count": 410,
   "metadata": {
    "collapsed": true,
    "jupyter": {
     "outputs_hidden": true
    },
    "tags": []
   },
   "outputs": [
    {
     "data": {
      "text/html": [
       "<div>\n",
       "<style scoped>\n",
       "    .dataframe tbody tr th:only-of-type {\n",
       "        vertical-align: middle;\n",
       "    }\n",
       "\n",
       "    .dataframe tbody tr th {\n",
       "        vertical-align: top;\n",
       "    }\n",
       "\n",
       "    .dataframe thead th {\n",
       "        text-align: right;\n",
       "    }\n",
       "</style>\n",
       "<table border=\"1\" class=\"dataframe\">\n",
       "  <thead>\n",
       "    <tr style=\"text-align: right;\">\n",
       "      <th></th>\n",
       "      <th>qseqid</th>\n",
       "      <th>sseqid</th>\n",
       "      <th>pident</th>\n",
       "      <th>qcovs</th>\n",
       "      <th>qstart</th>\n",
       "      <th>qend</th>\n",
       "      <th>sstart</th>\n",
       "      <th>send</th>\n",
       "      <th>length</th>\n",
       "      <th>evalue</th>\n",
       "      <th>bitscore</th>\n",
       "      <th>MAG</th>\n",
       "      <th>scaffold_id</th>\n",
       "      <th>scaffold</th>\n",
       "      <th>Bin</th>\n",
       "      <th>classification</th>\n",
       "    </tr>\n",
       "  </thead>\n",
       "  <tbody>\n",
       "    <tr>\n",
       "      <th>0</th>\n",
       "      <td>H1-18-all-fractions_k255_4602126_CRISPR_1_spacer_2</td>\n",
       "      <td>4Wh2oV_72h_scaffold_529029</td>\n",
       "      <td>96.970</td>\n",
       "      <td>100</td>\n",
       "      <td>1</td>\n",
       "      <td>33</td>\n",
       "      <td>3511</td>\n",
       "      <td>3479</td>\n",
       "      <td>33</td>\n",
       "      <td>3.140000e-07</td>\n",
       "      <td>56.5</td>\n",
       "      <td>H1-18-all-fractions_metab_25.Bacteria_70_9</td>\n",
       "      <td>H1-18-all-fractions_k255_4602126</td>\n",
       "      <td>NaN</td>\n",
       "      <td>NaN</td>\n",
       "      <td>NaN</td>\n",
       "    </tr>\n",
       "    <tr>\n",
       "      <th>1</th>\n",
       "      <td>H1-18-all-fractions_k255_4602126_CRISPR_1_spacer_2</td>\n",
       "      <td>4Wh2oV_72h_scaffold_695820</td>\n",
       "      <td>96.970</td>\n",
       "      <td>100</td>\n",
       "      <td>1</td>\n",
       "      <td>33</td>\n",
       "      <td>594</td>\n",
       "      <td>626</td>\n",
       "      <td>33</td>\n",
       "      <td>3.140000e-07</td>\n",
       "      <td>56.5</td>\n",
       "      <td>H1-18-all-fractions_metab_25.Bacteria_70_9</td>\n",
       "      <td>H1-18-all-fractions_k255_4602126</td>\n",
       "      <td>NaN</td>\n",
       "      <td>NaN</td>\n",
       "      <td>NaN</td>\n",
       "    </tr>\n",
       "    <tr>\n",
       "      <th>2</th>\n",
       "      <td>H1-18-all-fractions_k255_4602126_CRISPR_1_spacer_2</td>\n",
       "      <td>4Wh2oV_48h_scaffold_936400</td>\n",
       "      <td>96.970</td>\n",
       "      <td>100</td>\n",
       "      <td>1</td>\n",
       "      <td>33</td>\n",
       "      <td>2686</td>\n",
       "      <td>2654</td>\n",
       "      <td>33</td>\n",
       "      <td>3.140000e-07</td>\n",
       "      <td>56.5</td>\n",
       "      <td>H1-18-all-fractions_metab_25.Bacteria_70_9</td>\n",
       "      <td>H1-18-all-fractions_k255_4602126</td>\n",
       "      <td>NaN</td>\n",
       "      <td>NaN</td>\n",
       "      <td>NaN</td>\n",
       "    </tr>\n",
       "    <tr>\n",
       "      <th>3</th>\n",
       "      <td>H1-18-all-fractions_k255_4602126_CRISPR_1_spacer_2</td>\n",
       "      <td>4Wh2oV_0h_scaffold_637225</td>\n",
       "      <td>96.970</td>\n",
       "      <td>100</td>\n",
       "      <td>1</td>\n",
       "      <td>33</td>\n",
       "      <td>975</td>\n",
       "      <td>1007</td>\n",
       "      <td>33</td>\n",
       "      <td>3.140000e-07</td>\n",
       "      <td>56.5</td>\n",
       "      <td>H1-18-all-fractions_metab_25.Bacteria_70_9</td>\n",
       "      <td>H1-18-all-fractions_k255_4602126</td>\n",
       "      <td>NaN</td>\n",
       "      <td>NaN</td>\n",
       "      <td>NaN</td>\n",
       "    </tr>\n",
       "    <tr>\n",
       "      <th>4</th>\n",
       "      <td>H1-18-all-fractions_k255_4602126_CRISPR_1_spacer_2</td>\n",
       "      <td>4Wh2oV_48h_scaffold_716693</td>\n",
       "      <td>100.000</td>\n",
       "      <td>85</td>\n",
       "      <td>1</td>\n",
       "      <td>28</td>\n",
       "      <td>1633</td>\n",
       "      <td>1606</td>\n",
       "      <td>28</td>\n",
       "      <td>4.060000e-06</td>\n",
       "      <td>52.8</td>\n",
       "      <td>H1-18-all-fractions_metab_25.Bacteria_70_9</td>\n",
       "      <td>H1-18-all-fractions_k255_4602126</td>\n",
       "      <td>NaN</td>\n",
       "      <td>NaN</td>\n",
       "      <td>NaN</td>\n",
       "    </tr>\n",
       "    <tr>\n",
       "      <th>5</th>\n",
       "      <td>H1-18-all-fractions_k255_4902837_CRISPR_1_spacer_4</td>\n",
       "      <td>4Wh2oV_3h_scaffold_1843257</td>\n",
       "      <td>100.000</td>\n",
       "      <td>100</td>\n",
       "      <td>1</td>\n",
       "      <td>32</td>\n",
       "      <td>108</td>\n",
       "      <td>139</td>\n",
       "      <td>32</td>\n",
       "      <td>2.120000e-08</td>\n",
       "      <td>60.2</td>\n",
       "      <td>H1-18-all-fractions_metab_63.Actinobacteria_71_13_spacers.fa</td>\n",
       "      <td>H1-18-all-fractions_k255_4902837</td>\n",
       "      <td>NaN</td>\n",
       "      <td>NaN</td>\n",
       "      <td>NaN</td>\n",
       "    </tr>\n",
       "    <tr>\n",
       "      <th>6</th>\n",
       "      <td>H3-18-all-fractions_k255_4574136_CRISPR_1_spacer_1</td>\n",
       "      <td>4Wh2oV_24h_scaffold_1787552</td>\n",
       "      <td>95.122</td>\n",
       "      <td>95</td>\n",
       "      <td>1</td>\n",
       "      <td>41</td>\n",
       "      <td>89</td>\n",
       "      <td>129</td>\n",
       "      <td>41</td>\n",
       "      <td>1.110000e-09</td>\n",
       "      <td>65.8</td>\n",
       "      <td>H3-18-all-fractions_conc_96.Burkholderiales_71_8_spacers.fa</td>\n",
       "      <td>H3-18-all-fractions_k255_4574136</td>\n",
       "      <td>NaN</td>\n",
       "      <td>NaN</td>\n",
       "      <td>NaN</td>\n",
       "    </tr>\n",
       "    <tr>\n",
       "      <th>7</th>\n",
       "      <td>S3-16-all-fractions_k255_1197418_CRISPR_1_spacer_1</td>\n",
       "      <td>4Wh2oV_24h_scaffold_1626649</td>\n",
       "      <td>100.000</td>\n",
       "      <td>81</td>\n",
       "      <td>8</td>\n",
       "      <td>37</td>\n",
       "      <td>1092</td>\n",
       "      <td>1121</td>\n",
       "      <td>30</td>\n",
       "      <td>4.710000e-07</td>\n",
       "      <td>56.5</td>\n",
       "      <td>S3-16-all-fractions_metab_conc_21.Rhizobiales_66_23_spacers.fa</td>\n",
       "      <td>S3-16-all-fractions_k255_1197418</td>\n",
       "      <td>NaN</td>\n",
       "      <td>NaN</td>\n",
       "      <td>NaN</td>\n",
       "    </tr>\n",
       "    <tr>\n",
       "      <th>8</th>\n",
       "      <td>S3-16-all-fractions_k255_1197418_CRISPR_1_spacer_2</td>\n",
       "      <td>4Wh2oV_3h_scaffold_1562313</td>\n",
       "      <td>100.000</td>\n",
       "      <td>80</td>\n",
       "      <td>8</td>\n",
       "      <td>35</td>\n",
       "      <td>834</td>\n",
       "      <td>861</td>\n",
       "      <td>28</td>\n",
       "      <td>5.080000e-06</td>\n",
       "      <td>52.8</td>\n",
       "      <td>S3-16-all-fractions_metab_conc_21.Rhizobiales_66_23_spacers.fa</td>\n",
       "      <td>S3-16-all-fractions_k255_1197418</td>\n",
       "      <td>NaN</td>\n",
       "      <td>NaN</td>\n",
       "      <td>NaN</td>\n",
       "    </tr>\n",
       "    <tr>\n",
       "      <th>9</th>\n",
       "      <td>S3-16-all-fractions_k255_1197418_CRISPR_1_spacer_2</td>\n",
       "      <td>4Wh2oV_24h_scaffold_960306</td>\n",
       "      <td>100.000</td>\n",
       "      <td>80</td>\n",
       "      <td>8</td>\n",
       "      <td>35</td>\n",
       "      <td>687</td>\n",
       "      <td>714</td>\n",
       "      <td>28</td>\n",
       "      <td>5.080000e-06</td>\n",
       "      <td>52.8</td>\n",
       "      <td>S3-16-all-fractions_metab_conc_21.Rhizobiales_66_23_spacers.fa</td>\n",
       "      <td>S3-16-all-fractions_k255_1197418</td>\n",
       "      <td>NaN</td>\n",
       "      <td>NaN</td>\n",
       "      <td>NaN</td>\n",
       "    </tr>\n",
       "    <tr>\n",
       "      <th>10</th>\n",
       "      <td>S3-16-all-fractions_k255_1197418_CRISPR_1_spacer_3</td>\n",
       "      <td>4Wh2oV_3h_scaffold_1894264</td>\n",
       "      <td>100.000</td>\n",
       "      <td>85</td>\n",
       "      <td>6</td>\n",
       "      <td>33</td>\n",
       "      <td>843</td>\n",
       "      <td>870</td>\n",
       "      <td>28</td>\n",
       "      <td>4.060000e-06</td>\n",
       "      <td>52.8</td>\n",
       "      <td>S3-16-all-fractions_metab_conc_21.Rhizobiales_66_23_spacers.fa</td>\n",
       "      <td>S3-16-all-fractions_k255_1197418</td>\n",
       "      <td>NaN</td>\n",
       "      <td>NaN</td>\n",
       "      <td>NaN</td>\n",
       "    </tr>\n",
       "    <tr>\n",
       "      <th>11</th>\n",
       "      <td>S3-16-all-fractions_k255_1197418_CRISPR_1_spacer_3</td>\n",
       "      <td>4Wh2oV_24h_scaffold_467538</td>\n",
       "      <td>100.000</td>\n",
       "      <td>85</td>\n",
       "      <td>6</td>\n",
       "      <td>33</td>\n",
       "      <td>556</td>\n",
       "      <td>529</td>\n",
       "      <td>28</td>\n",
       "      <td>4.060000e-06</td>\n",
       "      <td>52.8</td>\n",
       "      <td>S3-16-all-fractions_metab_conc_21.Rhizobiales_66_23_spacers.fa</td>\n",
       "      <td>S3-16-all-fractions_k255_1197418</td>\n",
       "      <td>NaN</td>\n",
       "      <td>NaN</td>\n",
       "      <td>NaN</td>\n",
       "    </tr>\n",
       "    <tr>\n",
       "      <th>12</th>\n",
       "      <td>S3-16-all-fractions_k255_1197418_CRISPR_1_spacer_3</td>\n",
       "      <td>4Wh2oV_0h_scaffold_1703601</td>\n",
       "      <td>100.000</td>\n",
       "      <td>85</td>\n",
       "      <td>6</td>\n",
       "      <td>33</td>\n",
       "      <td>2052</td>\n",
       "      <td>2025</td>\n",
       "      <td>28</td>\n",
       "      <td>4.060000e-06</td>\n",
       "      <td>52.8</td>\n",
       "      <td>S3-16-all-fractions_metab_conc_21.Rhizobiales_66_23_spacers.fa</td>\n",
       "      <td>S3-16-all-fractions_k255_1197418</td>\n",
       "      <td>NaN</td>\n",
       "      <td>NaN</td>\n",
       "      <td>NaN</td>\n",
       "    </tr>\n",
       "    <tr>\n",
       "      <th>13</th>\n",
       "      <td>S3-16-all-fractions_k255_1197418_CRISPR_1_spacer_8</td>\n",
       "      <td>4Wh2oV_24h_scaffold_1255333</td>\n",
       "      <td>100.000</td>\n",
       "      <td>100</td>\n",
       "      <td>1</td>\n",
       "      <td>33</td>\n",
       "      <td>1404</td>\n",
       "      <td>1436</td>\n",
       "      <td>33</td>\n",
       "      <td>6.750000e-09</td>\n",
       "      <td>62.1</td>\n",
       "      <td>S3-16-all-fractions_metab_conc_21.Rhizobiales_66_23_spacers.fa</td>\n",
       "      <td>S3-16-all-fractions_k255_1197418</td>\n",
       "      <td>NaN</td>\n",
       "      <td>NaN</td>\n",
       "      <td>NaN</td>\n",
       "    </tr>\n",
       "    <tr>\n",
       "      <th>14</th>\n",
       "      <td>S3-16-all-fractions_k255_1197418_CRISPR_1_spacer_8</td>\n",
       "      <td>4Wh2oV_3h_scaffold_356956</td>\n",
       "      <td>96.970</td>\n",
       "      <td>100</td>\n",
       "      <td>1</td>\n",
       "      <td>33</td>\n",
       "      <td>2926</td>\n",
       "      <td>2894</td>\n",
       "      <td>33</td>\n",
       "      <td>3.140000e-07</td>\n",
       "      <td>56.5</td>\n",
       "      <td>S3-16-all-fractions_metab_conc_21.Rhizobiales_66_23_spacers.fa</td>\n",
       "      <td>S3-16-all-fractions_k255_1197418</td>\n",
       "      <td>NaN</td>\n",
       "      <td>NaN</td>\n",
       "      <td>NaN</td>\n",
       "    </tr>\n",
       "    <tr>\n",
       "      <th>15</th>\n",
       "      <td>S3-16-all-fractions_k255_1197418_CRISPR_1_spacer_8</td>\n",
       "      <td>4Wh2oV_24h_scaffold_1500359</td>\n",
       "      <td>96.970</td>\n",
       "      <td>100</td>\n",
       "      <td>1</td>\n",
       "      <td>33</td>\n",
       "      <td>3490</td>\n",
       "      <td>3458</td>\n",
       "      <td>33</td>\n",
       "      <td>3.140000e-07</td>\n",
       "      <td>56.5</td>\n",
       "      <td>S3-16-all-fractions_metab_conc_21.Rhizobiales_66_23_spacers.fa</td>\n",
       "      <td>S3-16-all-fractions_k255_1197418</td>\n",
       "      <td>NaN</td>\n",
       "      <td>NaN</td>\n",
       "      <td>NaN</td>\n",
       "    </tr>\n",
       "    <tr>\n",
       "      <th>16</th>\n",
       "      <td>S3-16-all-fractions_k255_1197418_CRISPR_1_spacer_9</td>\n",
       "      <td>4Wh2oV_24h_scaffold_221362</td>\n",
       "      <td>100.000</td>\n",
       "      <td>100</td>\n",
       "      <td>1</td>\n",
       "      <td>35</td>\n",
       "      <td>920</td>\n",
       "      <td>886</td>\n",
       "      <td>35</td>\n",
       "      <td>6.520000e-10</td>\n",
       "      <td>65.8</td>\n",
       "      <td>S3-16-all-fractions_metab_conc_21.Rhizobiales_66_23_spacers.fa</td>\n",
       "      <td>S3-16-all-fractions_k255_1197418</td>\n",
       "      <td>NaN</td>\n",
       "      <td>NaN</td>\n",
       "      <td>NaN</td>\n",
       "    </tr>\n",
       "  </tbody>\n",
       "</table>\n",
       "</div>"
      ],
      "text/plain": [
       "                                                qseqid  \\\n",
       "0   H1-18-all-fractions_k255_4602126_CRISPR_1_spacer_2   \n",
       "1   H1-18-all-fractions_k255_4602126_CRISPR_1_spacer_2   \n",
       "2   H1-18-all-fractions_k255_4602126_CRISPR_1_spacer_2   \n",
       "3   H1-18-all-fractions_k255_4602126_CRISPR_1_spacer_2   \n",
       "4   H1-18-all-fractions_k255_4602126_CRISPR_1_spacer_2   \n",
       "5   H1-18-all-fractions_k255_4902837_CRISPR_1_spacer_4   \n",
       "6   H3-18-all-fractions_k255_4574136_CRISPR_1_spacer_1   \n",
       "7   S3-16-all-fractions_k255_1197418_CRISPR_1_spacer_1   \n",
       "8   S3-16-all-fractions_k255_1197418_CRISPR_1_spacer_2   \n",
       "9   S3-16-all-fractions_k255_1197418_CRISPR_1_spacer_2   \n",
       "10  S3-16-all-fractions_k255_1197418_CRISPR_1_spacer_3   \n",
       "11  S3-16-all-fractions_k255_1197418_CRISPR_1_spacer_3   \n",
       "12  S3-16-all-fractions_k255_1197418_CRISPR_1_spacer_3   \n",
       "13  S3-16-all-fractions_k255_1197418_CRISPR_1_spacer_8   \n",
       "14  S3-16-all-fractions_k255_1197418_CRISPR_1_spacer_8   \n",
       "15  S3-16-all-fractions_k255_1197418_CRISPR_1_spacer_8   \n",
       "16  S3-16-all-fractions_k255_1197418_CRISPR_1_spacer_9   \n",
       "\n",
       "                         sseqid   pident  qcovs  qstart  qend  sstart  send  \\\n",
       "0    4Wh2oV_72h_scaffold_529029   96.970    100       1    33    3511  3479   \n",
       "1    4Wh2oV_72h_scaffold_695820   96.970    100       1    33     594   626   \n",
       "2    4Wh2oV_48h_scaffold_936400   96.970    100       1    33    2686  2654   \n",
       "3     4Wh2oV_0h_scaffold_637225   96.970    100       1    33     975  1007   \n",
       "4    4Wh2oV_48h_scaffold_716693  100.000     85       1    28    1633  1606   \n",
       "5    4Wh2oV_3h_scaffold_1843257  100.000    100       1    32     108   139   \n",
       "6   4Wh2oV_24h_scaffold_1787552   95.122     95       1    41      89   129   \n",
       "7   4Wh2oV_24h_scaffold_1626649  100.000     81       8    37    1092  1121   \n",
       "8    4Wh2oV_3h_scaffold_1562313  100.000     80       8    35     834   861   \n",
       "9    4Wh2oV_24h_scaffold_960306  100.000     80       8    35     687   714   \n",
       "10   4Wh2oV_3h_scaffold_1894264  100.000     85       6    33     843   870   \n",
       "11   4Wh2oV_24h_scaffold_467538  100.000     85       6    33     556   529   \n",
       "12   4Wh2oV_0h_scaffold_1703601  100.000     85       6    33    2052  2025   \n",
       "13  4Wh2oV_24h_scaffold_1255333  100.000    100       1    33    1404  1436   \n",
       "14    4Wh2oV_3h_scaffold_356956   96.970    100       1    33    2926  2894   \n",
       "15  4Wh2oV_24h_scaffold_1500359   96.970    100       1    33    3490  3458   \n",
       "16   4Wh2oV_24h_scaffold_221362  100.000    100       1    35     920   886   \n",
       "\n",
       "    length        evalue  bitscore  \\\n",
       "0       33  3.140000e-07      56.5   \n",
       "1       33  3.140000e-07      56.5   \n",
       "2       33  3.140000e-07      56.5   \n",
       "3       33  3.140000e-07      56.5   \n",
       "4       28  4.060000e-06      52.8   \n",
       "5       32  2.120000e-08      60.2   \n",
       "6       41  1.110000e-09      65.8   \n",
       "7       30  4.710000e-07      56.5   \n",
       "8       28  5.080000e-06      52.8   \n",
       "9       28  5.080000e-06      52.8   \n",
       "10      28  4.060000e-06      52.8   \n",
       "11      28  4.060000e-06      52.8   \n",
       "12      28  4.060000e-06      52.8   \n",
       "13      33  6.750000e-09      62.1   \n",
       "14      33  3.140000e-07      56.5   \n",
       "15      33  3.140000e-07      56.5   \n",
       "16      35  6.520000e-10      65.8   \n",
       "\n",
       "                                                               MAG  \\\n",
       "0                       H1-18-all-fractions_metab_25.Bacteria_70_9   \n",
       "1                       H1-18-all-fractions_metab_25.Bacteria_70_9   \n",
       "2                       H1-18-all-fractions_metab_25.Bacteria_70_9   \n",
       "3                       H1-18-all-fractions_metab_25.Bacteria_70_9   \n",
       "4                       H1-18-all-fractions_metab_25.Bacteria_70_9   \n",
       "5     H1-18-all-fractions_metab_63.Actinobacteria_71_13_spacers.fa   \n",
       "6      H3-18-all-fractions_conc_96.Burkholderiales_71_8_spacers.fa   \n",
       "7   S3-16-all-fractions_metab_conc_21.Rhizobiales_66_23_spacers.fa   \n",
       "8   S3-16-all-fractions_metab_conc_21.Rhizobiales_66_23_spacers.fa   \n",
       "9   S3-16-all-fractions_metab_conc_21.Rhizobiales_66_23_spacers.fa   \n",
       "10  S3-16-all-fractions_metab_conc_21.Rhizobiales_66_23_spacers.fa   \n",
       "11  S3-16-all-fractions_metab_conc_21.Rhizobiales_66_23_spacers.fa   \n",
       "12  S3-16-all-fractions_metab_conc_21.Rhizobiales_66_23_spacers.fa   \n",
       "13  S3-16-all-fractions_metab_conc_21.Rhizobiales_66_23_spacers.fa   \n",
       "14  S3-16-all-fractions_metab_conc_21.Rhizobiales_66_23_spacers.fa   \n",
       "15  S3-16-all-fractions_metab_conc_21.Rhizobiales_66_23_spacers.fa   \n",
       "16  S3-16-all-fractions_metab_conc_21.Rhizobiales_66_23_spacers.fa   \n",
       "\n",
       "                         scaffold_id scaffold  Bin classification  \n",
       "0   H1-18-all-fractions_k255_4602126      NaN  NaN            NaN  \n",
       "1   H1-18-all-fractions_k255_4602126      NaN  NaN            NaN  \n",
       "2   H1-18-all-fractions_k255_4602126      NaN  NaN            NaN  \n",
       "3   H1-18-all-fractions_k255_4602126      NaN  NaN            NaN  \n",
       "4   H1-18-all-fractions_k255_4602126      NaN  NaN            NaN  \n",
       "5   H1-18-all-fractions_k255_4902837      NaN  NaN            NaN  \n",
       "6   H3-18-all-fractions_k255_4574136      NaN  NaN            NaN  \n",
       "7   S3-16-all-fractions_k255_1197418      NaN  NaN            NaN  \n",
       "8   S3-16-all-fractions_k255_1197418      NaN  NaN            NaN  \n",
       "9   S3-16-all-fractions_k255_1197418      NaN  NaN            NaN  \n",
       "10  S3-16-all-fractions_k255_1197418      NaN  NaN            NaN  \n",
       "11  S3-16-all-fractions_k255_1197418      NaN  NaN            NaN  \n",
       "12  S3-16-all-fractions_k255_1197418      NaN  NaN            NaN  \n",
       "13  S3-16-all-fractions_k255_1197418      NaN  NaN            NaN  \n",
       "14  S3-16-all-fractions_k255_1197418      NaN  NaN            NaN  \n",
       "15  S3-16-all-fractions_k255_1197418      NaN  NaN            NaN  \n",
       "16  S3-16-all-fractions_k255_1197418      NaN  NaN            NaN  "
      ]
     },
     "execution_count": 410,
     "metadata": {},
     "output_type": "execute_result"
    }
   ],
   "source": [
    "wsip_mag.merge(s2b,on='scaffold_id',how='left')"
   ]
  },
  {
   "cell_type": "code",
   "execution_count": 192,
   "metadata": {},
   "outputs": [],
   "source": [
    "wsip_mag['votu'] = wsip_mag['sseqid']"
   ]
  },
  {
   "cell_type": "markdown",
   "metadata": {
    "tags": []
   },
   "source": [
    "## wSIP unbinned crispr arrays"
   ]
  },
  {
   "cell_type": "code",
   "execution_count": 680,
   "metadata": {},
   "outputs": [],
   "source": [
    "wsip_contig_file = '/groups/banfield/projects/environmental/4thwedge/2021/4Wh2oV/CRISPRs/wSIP_contigs_spacers_vs_4Wh2oV_blast_db.tsv'\n",
    "wsip_contig = pd.read_csv(wsip_contig_file,sep='\\t')\n",
    "wsip_contig['scaffold_id'] = wsip_contig['qseqid'].str.split(\"_C\").str[0]\n",
    "wsip_contig['array'] = wsip_contig['qseqid'].str.split(\"CRISPR\").str[1]"
   ]
  },
  {
   "cell_type": "code",
   "execution_count": 681,
   "metadata": {},
   "outputs": [],
   "source": [
    "# merge kaiju taxa prediction with wsip contigs that have crispr matches to vOTUs\n",
    "wsip_contig = pd.merge(wsip_contig, kaiju_out, left_on='scaffold_id',right_on='kaiju_scaffold',how='left')\n",
    "# kaiju_out[kaiju_out['kaiju_scaffold'].isin(wsip_contig['scaffold_id'].unique())]"
   ]
  },
  {
   "cell_type": "code",
   "execution_count": 682,
   "metadata": {},
   "outputs": [],
   "source": [
    "wsip_contig['votu'] = wsip_contig['sseqid']"
   ]
  },
  {
   "cell_type": "code",
   "execution_count": 684,
   "metadata": {},
   "outputs": [
    {
     "data": {
      "text/html": [
       "<div>\n",
       "<style scoped>\n",
       "    .dataframe tbody tr th:only-of-type {\n",
       "        vertical-align: middle;\n",
       "    }\n",
       "\n",
       "    .dataframe tbody tr th {\n",
       "        vertical-align: top;\n",
       "    }\n",
       "\n",
       "    .dataframe thead th {\n",
       "        text-align: right;\n",
       "    }\n",
       "</style>\n",
       "<table border=\"1\" class=\"dataframe\">\n",
       "  <thead>\n",
       "    <tr style=\"text-align: right;\">\n",
       "      <th></th>\n",
       "      <th>qseqid</th>\n",
       "      <th>sseqid</th>\n",
       "      <th>pid</th>\n",
       "      <th>qcov</th>\n",
       "      <th>qstart</th>\n",
       "      <th>qend</th>\n",
       "      <th>sstart</th>\n",
       "      <th>send</th>\n",
       "      <th>length</th>\n",
       "      <th>e-value</th>\n",
       "      <th>bitscore</th>\n",
       "      <th>scaffold_id</th>\n",
       "      <th>array</th>\n",
       "      <th>classified</th>\n",
       "      <th>kaiju_scaffold</th>\n",
       "      <th>ncbi_taxid</th>\n",
       "      <th>kaiju_taxonomy</th>\n",
       "      <th>votu</th>\n",
       "    </tr>\n",
       "  </thead>\n",
       "  <tbody>\n",
       "    <tr>\n",
       "      <th>68</th>\n",
       "      <td>H3-18-all-fractions_k255_4574136_CRISPR_17_spacer_1</td>\n",
       "      <td>4Wh2oV_24h_scaffold_1787552</td>\n",
       "      <td>95.122</td>\n",
       "      <td>95</td>\n",
       "      <td>1</td>\n",
       "      <td>41</td>\n",
       "      <td>89</td>\n",
       "      <td>129</td>\n",
       "      <td>41</td>\n",
       "      <td>1.110000e-09</td>\n",
       "      <td>65.8</td>\n",
       "      <td>H3-18-all-fractions_k255_4574136</td>\n",
       "      <td>_17_spacer_1</td>\n",
       "      <td>C</td>\n",
       "      <td>H3-18-all-fractions_k255_4574136</td>\n",
       "      <td>983917</td>\n",
       "      <td>cellular organisms; Bacteria; Proteobacteria; Betaproteobacteria; Burkholderiales; Burkholderiales genera incertae sedis; Rubrivivax; Rubrivivax gelatinosus</td>\n",
       "      <td>4Wh2oV_24h_scaffold_1787552</td>\n",
       "    </tr>\n",
       "  </tbody>\n",
       "</table>\n",
       "</div>"
      ],
      "text/plain": [
       "                                                 qseqid  \\\n",
       "68  H3-18-all-fractions_k255_4574136_CRISPR_17_spacer_1   \n",
       "\n",
       "                         sseqid     pid  qcov  qstart  qend  sstart  send  \\\n",
       "68  4Wh2oV_24h_scaffold_1787552  95.122    95       1    41      89   129   \n",
       "\n",
       "    length       e-value  bitscore                       scaffold_id  \\\n",
       "68      41  1.110000e-09      65.8  H3-18-all-fractions_k255_4574136   \n",
       "\n",
       "           array classified                    kaiju_scaffold  ncbi_taxid  \\\n",
       "68  _17_spacer_1          C  H3-18-all-fractions_k255_4574136      983917   \n",
       "\n",
       "                                                                                                                                                  kaiju_taxonomy  \\\n",
       "68  cellular organisms; Bacteria; Proteobacteria; Betaproteobacteria; Burkholderiales; Burkholderiales genera incertae sedis; Rubrivivax; Rubrivivax gelatinosus   \n",
       "\n",
       "                           votu  \n",
       "68  4Wh2oV_24h_scaffold_1787552  "
      ]
     },
     "execution_count": 684,
     "metadata": {},
     "output_type": "execute_result"
    }
   ],
   "source": [
    "wsip_contig[wsip_contig['scaffold_id'].isin(wsip_mag['scaffold_id'].unique())]"
   ]
  },
  {
   "cell_type": "code",
   "execution_count": 1493,
   "metadata": {
    "jupyter": {
     "source_hidden": true
    }
   },
   "outputs": [],
   "source": [
    "vcontact = pd.read_csv(\"/groups/banfield/projects/environmental/4thwedge/2021/4Wh2oV/viral_id/vcontact_out/merged_df.csv\")"
   ]
  },
  {
   "cell_type": "markdown",
   "metadata": {
    "tags": []
   },
   "source": [
    "# Combining all host predictions\n",
    "Generate df with all spacer matches and taxonomy in the format: \n",
    "\n",
    "vOTU / spacer / spacer taxonomy [strain / taxon info]"
   ]
  },
  {
   "cell_type": "markdown",
   "metadata": {
    "tags": []
   },
   "source": [
    "## Combine all unbinned contigs"
   ]
  },
  {
   "cell_type": "code",
   "execution_count": 727,
   "metadata": {},
   "outputs": [
    {
     "data": {
      "text/plain": [
       "Index(['qseqid', 'sseqid', 'pident', 'qcovs', 'qstart', 'qend', 'sstart',\n",
       "       'send', 'length', 'evalue', 'bitscore', 'scaffold_id', 'array',\n",
       "       'classified', 'kaiju_scaffold', 'ncbi_taxid', 'kaiju_taxonomy', 'votu',\n",
       "       'source'],\n",
       "      dtype='object')"
      ]
     },
     "execution_count": 727,
     "metadata": {},
     "output_type": "execute_result"
    }
   ],
   "source": [
    "# setting unbinned contigs\n",
    "unbinned_hosts = mg_spacers_blastout_taxa.rename(columns={'mg_contig':'scaffold_id','e-value':'evalue',\n",
    "                                                    'pid':'pident','qcov':'qcovs'})\n",
    "unbinned_hosts['source'] = 'unbinned'"
   ]
  },
  {
   "cell_type": "markdown",
   "metadata": {},
   "source": [
    "NOTES:\n",
    "* don't rename taxonomy yet, because for some they are viral and need to get host\n",
    "* duplicates in mg_spacers blastout are from multiple spacer hits to contig"
   ]
  },
  {
   "cell_type": "markdown",
   "metadata": {
    "tags": []
   },
   "source": [
    "## combine blast results of MAGs i.e. using scaff2bin file"
   ]
  },
  {
   "cell_type": "code",
   "execution_count": 250,
   "metadata": {},
   "outputs": [],
   "source": [
    "blast_cols = ['qseqid', 'sseqid', 'pident', 'qcovs', 'qstart', 'qend', 'sstart',\n",
    "       'send', 'length', 'evalue', 'bitscore']"
   ]
  },
  {
   "cell_type": "code",
   "execution_count": 251,
   "metadata": {},
   "outputs": [],
   "source": [
    "mag_crispr_blast = pd.concat(mag_spacer_hits,vOTU_spacer_MAGs])"
   ]
  },
  {
   "cell_type": "code",
   "execution_count": 612,
   "metadata": {
    "tags": []
   },
   "outputs": [],
   "source": [
    "# s2bin file is a scaffold to bin file i.e. for each contig in a MAG it's host taxonomy\n",
    "# merge scaffold to bin file to establish vOTU taxonomy based on MAG taxonomy\n",
    "mag_crispr_blast = mag_crispr_blast.merge(s2b[['Bin','taxa']]\\\n",
    "                                              .rename(columns={'taxa':'rep_taxa'})\\\n",
    "                                              .drop_duplicates(),\n",
    "                                        how='left',\n",
    "                                        validate='m:1')"
   ]
  },
  {
   "cell_type": "code",
   "execution_count": 622,
   "metadata": {},
   "outputs": [],
   "source": [
    "mag_crispr_blast['source'] = 'MAG'"
   ]
  },
  {
   "cell_type": "markdown",
   "metadata": {
    "tags": []
   },
   "source": [
    "## Format spacer db - vOTU matches to align with other host match strategies"
   ]
  },
  {
   "cell_type": "code",
   "execution_count": 797,
   "metadata": {},
   "outputs": [],
   "source": [
    "spacer_db_blast_result['votu'] = spacer_db_blast_result['sseqid'] \n",
    "spacer_db_blast_result['source'] = 'spacerDB'"
   ]
  },
  {
   "cell_type": "code",
   "execution_count": 626,
   "metadata": {},
   "outputs": [],
   "source": [
    "common_cols = [\n",
    "'votu','taxa', 'source','qseqid', 'sseqid', 'pident', 'qcovs', 'qstart', 'qend', 'sstart',\n",
    "'send', 'length', 'evalue', 'bitscore',\n",
    "]"
   ]
  },
  {
   "cell_type": "markdown",
   "metadata": {},
   "source": [
    "## Format vOTU taxonomy based on kaiju output"
   ]
  },
  {
   "cell_type": "code",
   "execution_count": 823,
   "metadata": {
    "collapsed": true,
    "jupyter": {
     "outputs_hidden": true
    },
    "scrolled": true,
    "tags": []
   },
   "outputs": [
    {
     "name": "stderr",
     "output_type": "stream",
     "text": [
      "<ipython-input-823-120eabb5eab6>:2: SettingWithCopyWarning: \n",
      "A value is trying to be set on a copy of a slice from a DataFrame.\n",
      "Try using .loc[row_indexer,col_indexer] = value instead\n",
      "\n",
      "See the caveats in the documentation: https://pandas.pydata.org/pandas-docs/stable/user_guide/indexing.html#returning-a-view-versus-a-copy\n",
      "  kaiju_votus_taxa['source'] = 'kaiju'\n",
      "<ipython-input-823-120eabb5eab6>:3: SettingWithCopyWarning: \n",
      "A value is trying to be set on a copy of a slice from a DataFrame.\n",
      "Try using .loc[row_indexer,col_indexer] = value instead\n",
      "\n",
      "See the caveats in the documentation: https://pandas.pydata.org/pandas-docs/stable/user_guide/indexing.html#returning-a-view-versus-a-copy\n",
      "  kaiju_votus_taxa['votu'] = kaiju_votus_taxa['kaiju_scaffold']\n"
     ]
    }
   ],
   "source": [
    "kaiju_votus_taxa = kaiju_out[kaiju_out['kaiju_scaffold'].isin(kaiju_vOTUs['kaiju_scaffold'].unique())]\n",
    "kaiju_votus_taxa['source'] = 'kaiju'\n",
    "kaiju_votus_taxa['votu'] = kaiju_votus_taxa['kaiju_scaffold']"
   ]
  },
  {
   "cell_type": "code",
   "execution_count": 734,
   "metadata": {
    "tags": []
   },
   "outputs": [],
   "source": [
    "# combined df of all types of crispr hits\n",
    "all_crispr_hits_long = pd.concat([\n",
    "    mag_crispr_blast[common_cols],\n",
    "    unbinned_hosts.rename(columns={'kaiju_taxonomy':'taxa'})[common_cols],\n",
    "    spacer_db_blast_result.rename(columns={\"taxonomy\":'taxa'})[['votu','taxa', 'source','qseqid', 'sseqid', 'pident', 'qcovs', 'qstart', 'qend', 'sstart',\n",
    "       'send', 'length', 'evalue', 'bitscore',\n",
    "                                                               ]]\n",
    "]\n",
    ")"
   ]
  },
  {
   "cell_type": "markdown",
   "metadata": {
    "tags": []
   },
   "source": [
    "## Gather host lineage from virushost db for unbinned contig spacers / votus"
   ]
  },
  {
   "cell_type": "markdown",
   "metadata": {},
   "source": [
    "Note: \n",
    "* many viruses have multiple hosts – this merge must be done on virus name to be more specific (rather than host)\n",
    "* This is required for when Kaiju marks vOTU taxonomy as being viral i.e., vOTU has a reference genome documented in NCBI as viral – this is the case for a subset of total vOTUs identified (speaks to viral diversity captured here compared to reference db)"
   ]
  },
  {
   "cell_type": "code",
   "execution_count": 755,
   "metadata": {},
   "outputs": [],
   "source": [
    "kaiju_votus_taxa_nonull = kaiju_votus_taxa[kaiju_votus_taxa['taxa'].notna()]"
   ]
  },
  {
   "cell_type": "markdown",
   "metadata": {},
   "source": [
    "most conservative method is maintain duplicate taxonomies per vOTU by source and allow the groupby function to determine consensus"
   ]
  },
  {
   "cell_type": "code",
   "execution_count": 771,
   "metadata": {},
   "outputs": [],
   "source": [
    "# merge virushostdb by changing the taxonomy column to virus name (more specific than lineage), \n",
    "# use combine_first to get either taxa (should be bacterial) or host lineage as taxa\n",
    "kaiju_votus_taxa_host = kaiju_votus_taxa_nonull.rename(columns={'kaiju_taxonomy':'virus name'})\\\n",
    "    .merge(virushostdb[['virus name','host lineage']],\n",
    "                     on='virus name',\n",
    "                     how='left')\n",
    "# rename taxa to draft column because will use combine first to get new taxa column\n",
    "kaiju_votus_taxa_host.rename(columns={'taxa':'taxa_draft'},inplace=True)\n",
    "# use combine first to get distinct taxa column\n",
    "kaiju_votus_taxa_host['taxa'] = kaiju_votus_taxa_host[['host lineage']].rename(\n",
    "    columns={'host lineage':'taxa'}).combine_first(\n",
    "    kaiju_votus_taxa_host[['taxa_draft']].rename(\n",
    "    columns={'taxa_draft':'taxa'}))"
   ]
  },
  {
   "cell_type": "markdown",
   "metadata": {},
   "source": [
    "# Make [massive] df: all types of taxonomy calls per vOTU"
   ]
  },
  {
   "cell_type": "code",
   "execution_count": 788,
   "metadata": {},
   "outputs": [],
   "source": [
    "# filter crispr spacer hits to qcovs > 90%\n",
    "all_crispr_hits_long_filter = all_crispr_hits_long[all_crispr_hits_long['qcovs']>=90]"
   ]
  },
  {
   "cell_type": "code",
   "execution_count": 862,
   "metadata": {},
   "outputs": [],
   "source": [
    "# add kaiju votu taxas (w host too!) to all spacer db hits \n",
    "all_votu_taxonomy = pd.concat([all_crispr_hits_long_filter[['votu','taxa','source']],\n",
    "                                       kaiju_votus_taxa_host[['votu','taxa','source']]])"
   ]
  },
  {
   "cell_type": "code",
   "execution_count": 864,
   "metadata": {},
   "outputs": [],
   "source": [
    "# drop duplicates - duplicates derive from multiple spacer hits with same taxonomy\n",
    "all_votu_taxonomy_filter_simplified = all_votu_taxonomy.drop_duplicates()"
   ]
  },
  {
   "cell_type": "code",
   "execution_count": 865,
   "metadata": {
    "scrolled": true
   },
   "outputs": [
    {
     "data": {
      "text/html": [
       "<div>\n",
       "<style scoped>\n",
       "    .dataframe tbody tr th:only-of-type {\n",
       "        vertical-align: middle;\n",
       "    }\n",
       "\n",
       "    .dataframe tbody tr th {\n",
       "        vertical-align: top;\n",
       "    }\n",
       "\n",
       "    .dataframe thead th {\n",
       "        text-align: right;\n",
       "    }\n",
       "</style>\n",
       "<table border=\"1\" class=\"dataframe\">\n",
       "  <thead>\n",
       "    <tr style=\"text-align: right;\">\n",
       "      <th></th>\n",
       "      <th>votu</th>\n",
       "      <th>taxa</th>\n",
       "      <th>source</th>\n",
       "    </tr>\n",
       "  </thead>\n",
       "  <tbody>\n",
       "    <tr>\n",
       "      <th>0</th>\n",
       "      <td>4Wh2oV_72h_scaffold_529029</td>\n",
       "      <td>Bacteria</td>\n",
       "      <td>MAG</td>\n",
       "    </tr>\n",
       "    <tr>\n",
       "      <th>1</th>\n",
       "      <td>4Wh2oV_72h_scaffold_695820</td>\n",
       "      <td>Bacteria</td>\n",
       "      <td>MAG</td>\n",
       "    </tr>\n",
       "    <tr>\n",
       "      <th>2</th>\n",
       "      <td>4Wh2oV_48h_scaffold_936400</td>\n",
       "      <td>Bacteria</td>\n",
       "      <td>MAG</td>\n",
       "    </tr>\n",
       "  </tbody>\n",
       "</table>\n",
       "</div>"
      ],
      "text/plain": [
       "                         votu      taxa source\n",
       "0  4Wh2oV_72h_scaffold_529029  Bacteria    MAG\n",
       "1  4Wh2oV_72h_scaffold_695820  Bacteria    MAG\n",
       "2  4Wh2oV_48h_scaffold_936400  Bacteria    MAG"
      ]
     },
     "execution_count": 865,
     "metadata": {},
     "output_type": "execute_result"
    }
   ],
   "source": [
    "all_votu_taxonomy_filter_simplified.head(3)"
   ]
  },
  {
   "cell_type": "markdown",
   "metadata": {},
   "source": [
    "### Example case vOTU with multiple taxonomy calls from multiple sources \n",
    "4Wh2oV_0h_scaffold_1602168 (https://ggkbase.berkeley.edu/organisms/585617)"
   ]
  },
  {
   "cell_type": "code",
   "execution_count": 867,
   "metadata": {
    "tags": []
   },
   "outputs": [
    {
     "data": {
      "text/html": [
       "<div>\n",
       "<style scoped>\n",
       "    .dataframe tbody tr th:only-of-type {\n",
       "        vertical-align: middle;\n",
       "    }\n",
       "\n",
       "    .dataframe tbody tr th {\n",
       "        vertical-align: top;\n",
       "    }\n",
       "\n",
       "    .dataframe thead th {\n",
       "        text-align: right;\n",
       "    }\n",
       "</style>\n",
       "<table border=\"1\" class=\"dataframe\">\n",
       "  <thead>\n",
       "    <tr style=\"text-align: right;\">\n",
       "      <th></th>\n",
       "      <th>votu</th>\n",
       "      <th>taxa</th>\n",
       "      <th>source</th>\n",
       "    </tr>\n",
       "  </thead>\n",
       "  <tbody>\n",
       "    <tr>\n",
       "      <th>101</th>\n",
       "      <td>4Wh2oV_0h_scaffold_1602168</td>\n",
       "      <td>['Bacteria', 'Proteobacteria', 'Gammaproteobacteria', 'Enterobacterales', 'Enterobacteriaceae', 'Klebsiella']</td>\n",
       "      <td>spacerDB</td>\n",
       "    </tr>\n",
       "    <tr>\n",
       "      <th>169</th>\n",
       "      <td>4Wh2oV_0h_scaffold_1602168</td>\n",
       "      <td>['Bacteria', 'Proteobacteria', 'Gammaproteobacteria', 'Pseudomonadales', 'Pseudomonadaceae', 'Pseudomonas']</td>\n",
       "      <td>spacerDB</td>\n",
       "    </tr>\n",
       "    <tr>\n",
       "      <th>993</th>\n",
       "      <td>4Wh2oV_0h_scaffold_1602168</td>\n",
       "      <td>['Bacteria', 'Proteobacteria', 'Gammaproteobacteria', 'Methylococcales', 'Methylococcaceae', 'Methylomicrobium']</td>\n",
       "      <td>spacerDB</td>\n",
       "    </tr>\n",
       "    <tr>\n",
       "      <th>20336</th>\n",
       "      <td>4Wh2oV_0h_scaffold_1602168</td>\n",
       "      <td>cellular organisms; Bacteria; Proteobacteria; Alphaproteobacteria; Hyphomicrobiales; Rhizobiaceae; Sinorhizobium/Ensifer group; Sinorhizobium; Sinorhizobium meliloti</td>\n",
       "      <td>kaiju</td>\n",
       "    </tr>\n",
       "  </tbody>\n",
       "</table>\n",
       "</div>"
      ],
      "text/plain": [
       "                             votu  \\\n",
       "101    4Wh2oV_0h_scaffold_1602168   \n",
       "169    4Wh2oV_0h_scaffold_1602168   \n",
       "993    4Wh2oV_0h_scaffold_1602168   \n",
       "20336  4Wh2oV_0h_scaffold_1602168   \n",
       "\n",
       "                                                                                                                                                                        taxa  \\\n",
       "101                                                            ['Bacteria', 'Proteobacteria', 'Gammaproteobacteria', 'Enterobacterales', 'Enterobacteriaceae', 'Klebsiella']   \n",
       "169                                                              ['Bacteria', 'Proteobacteria', 'Gammaproteobacteria', 'Pseudomonadales', 'Pseudomonadaceae', 'Pseudomonas']   \n",
       "993                                                         ['Bacteria', 'Proteobacteria', 'Gammaproteobacteria', 'Methylococcales', 'Methylococcaceae', 'Methylomicrobium']   \n",
       "20336  cellular organisms; Bacteria; Proteobacteria; Alphaproteobacteria; Hyphomicrobiales; Rhizobiaceae; Sinorhizobium/Ensifer group; Sinorhizobium; Sinorhizobium meliloti   \n",
       "\n",
       "         source  \n",
       "101    spacerDB  \n",
       "169    spacerDB  \n",
       "993    spacerDB  \n",
       "20336     kaiju  "
      ]
     },
     "execution_count": 867,
     "metadata": {},
     "output_type": "execute_result"
    }
   ],
   "source": [
    "all_votu_taxonomy_filter_simplified[all_votu_taxonomy_filter_simplified['votu']=='4Wh2oV_0h_scaffold_1602168']"
   ]
  },
  {
   "cell_type": "markdown",
   "metadata": {},
   "source": [
    "Groupby function that establishes consensus taxonomy per vOTU from multiple sources/taxonomy calls"
   ]
  },
  {
   "cell_type": "code",
   "execution_count": 1073,
   "metadata": {
    "tags": []
   },
   "outputs": [],
   "source": [
    "def least_common_string(list_of_inputs):\n",
    "    '''read in a column of taxons as a sorted (by length) – referred to here as list of inputs \n",
    "    clean list of lists\n",
    "    for each list in list of lists iterate through  \n",
    "    update with intersecting elements\n",
    "    will output a list of consensus of lists, order is preserved \n",
    "    use with groupby function on taxa column \n",
    "    where data is formatted: seq_name; taxonomy (as list); source'''\n",
    "    \n",
    "    # turn every string into list and return cleaned list \n",
    "    cleaned_inputs = []\n",
    "    for item in list_of_inputs:\n",
    "        if \";\" in item:\n",
    "            delim=\";\"\n",
    "        else: delim=','\n",
    "        cleaned_list = item.replace(\"[\",\"\").replace(\"]\",\"\").replace(\"'\",\"\").split(delim)\n",
    "        cleaned_inputs.append([x.strip(\" \") for x in cleaned_list])\n",
    "    # return cleaned_inputs\n",
    "\n",
    "    if len(cleaned_inputs) >1:\n",
    "        # within each list (cleaned_inputs) find shortest list to use as reference\n",
    "        # list of lists sorted by the length of each item \n",
    "        sorted_cleaned_inputs = sorted(cleaned_inputs, key=lambda x: len(x))\n",
    "        reference = list(sorted_cleaned_inputs[0])\n",
    "\n",
    "        # use the set function – intersection_update \n",
    "        # iterate through list (ordered by length) \n",
    "        # update to common set of list items as iterate through\n",
    "        for item in sorted_cleaned_inputs[1:]:\n",
    "            reference = [x for x in reference if x in item]\n",
    "            \n",
    "        return \",\".join(list(reference))\n",
    "    else: return \",\".join(cleaned_inputs[0])\n"
   ]
  },
  {
   "cell_type": "code",
   "execution_count": 812,
   "metadata": {},
   "outputs": [
    {
     "data": {
      "text/plain": [
       "'Bacteria,Proteobacteria'"
      ]
     },
     "execution_count": 812,
     "metadata": {},
     "output_type": "execute_result"
    }
   ],
   "source": [
    "least_common_string(\n",
    "    all_votu_taxonomy_filter_simplified[\n",
    "        all_votu_taxonomy_filter_simplified['votu']=='4Wh2oV_0h_scaffold_1602168']['taxa']\n",
    ")"
   ]
  },
  {
   "cell_type": "markdown",
   "metadata": {},
   "source": [
    "manual inspection of vOTU shows sequence homology to Alphaproteobacteria, interestingly CRISPR spacers match different orders of Gammaproteobacteria, consensus taxonomy is thus most conservative though lacking greater taxonomic resolution "
   ]
  },
  {
   "cell_type": "markdown",
   "metadata": {},
   "source": [
    "# Establish consensus host taxonomies for vOTUs\n",
    "Run least_common_strings function on the \"massive\" df"
   ]
  },
  {
   "cell_type": "code",
   "execution_count": 868,
   "metadata": {},
   "outputs": [],
   "source": [
    "all_votu_taxonomy_filter_simplified.to_csv(    '/groups/banfield/projects/environmental/4thwedge/2021/4Wh2oV/CRISPRs/host_info/all_vOTU_host_predictions_xsource2.csv',\n",
    "index=False)"
   ]
  },
  {
   "cell_type": "code",
   "execution_count": 871,
   "metadata": {},
   "outputs": [],
   "source": [
    "# run function and create new column – beware it's just for not null taxa calls \n",
    "consensus_taxonomy_votus = all_votu_taxonomy_filter_simplified[\n",
    "    ~all_votu_taxonomy_filter_simplified['taxa'].isna()\n",
    "                                      ].groupby(\n",
    "    'votu',as_index=False).aggregate(\n",
    "    {'taxa':least_common_string})\n",
    "consensus_taxonomy_votus['taxa'] = consensus_taxonomy_votus['taxa'].str.replace(\n",
    "                                            'cellular organisms,','').str.strip()"
   ]
  },
  {
   "cell_type": "markdown",
   "metadata": {
    "tags": []
   },
   "source": [
    "some funky edge cases... \n",
    "###### Fix ncbi taxid 979 cellulophaga lytica\n",
    "https://www.ncbi.nlm.nih.gov/Taxonomy/Browser/wwwtax.cgi?mode=Info&id=979"
   ]
  },
  {
   "cell_type": "code",
   "execution_count": 877,
   "metadata": {},
   "outputs": [
    {
     "data": {
      "text/html": [
       "<div>\n",
       "<style scoped>\n",
       "    .dataframe tbody tr th:only-of-type {\n",
       "        vertical-align: middle;\n",
       "    }\n",
       "\n",
       "    .dataframe tbody tr th {\n",
       "        vertical-align: top;\n",
       "    }\n",
       "\n",
       "    .dataframe thead th {\n",
       "        text-align: right;\n",
       "    }\n",
       "</style>\n",
       "<table border=\"1\" class=\"dataframe\">\n",
       "  <thead>\n",
       "    <tr style=\"text-align: right;\">\n",
       "      <th></th>\n",
       "      <th>votu</th>\n",
       "      <th>taxa</th>\n",
       "      <th>consensus_domain</th>\n",
       "    </tr>\n",
       "  </thead>\n",
       "  <tbody>\n",
       "    <tr>\n",
       "      <th>544</th>\n",
       "      <td>4Wh2oV_0h_scaffold_1090805</td>\n",
       "      <td>Cellulophaga lytica</td>\n",
       "      <td>Cellulophaga lytica</td>\n",
       "    </tr>\n",
       "    <tr>\n",
       "      <th>18928</th>\n",
       "      <td>4Wh2oV_3h_scaffold_902073</td>\n",
       "      <td>Cellulophaga lytica</td>\n",
       "      <td>Cellulophaga lytica</td>\n",
       "    </tr>\n",
       "  </tbody>\n",
       "</table>\n",
       "</div>"
      ],
      "text/plain": [
       "                             votu                 taxa     consensus_domain\n",
       "544    4Wh2oV_0h_scaffold_1090805  Cellulophaga lytica  Cellulophaga lytica\n",
       "18928   4Wh2oV_3h_scaffold_902073  Cellulophaga lytica  Cellulophaga lytica"
      ]
     },
     "execution_count": 877,
     "metadata": {},
     "output_type": "execute_result"
    }
   ],
   "source": [
    "consensus_taxonomy_votus[consensus_taxonomy_votus['consensus_domain']=='Cellulophaga lytica']"
   ]
  },
  {
   "cell_type": "code",
   "execution_count": 878,
   "metadata": {
    "tags": []
   },
   "outputs": [],
   "source": [
    "# fix cellulophaga lytica – ncbi taxid 979: \n",
    "# Bacteria; FCB group; Bacteroidetes/Chlorobi group; Bacteroidetes; Flavobacteriia; Flavobacteriales; Flavobacteriaceae; Cellulophaga\n",
    "consensus_taxonomy_votus['taxa'] = consensus_taxonomy_votus['taxa'].str.replace(\n",
    "    \"Cellulophaga lytica\",\n",
    "\"Bacteria,FCB group,Bacteroidetes/Chlorobi group,Bacteroidetes,Flavobacteriia,Flavobacteriales,Flavobacteriaceae,Cellulophaga lytica\"\n",
    ")"
   ]
  },
  {
   "cell_type": "markdown",
   "metadata": {
    "tags": []
   },
   "source": [
    "###### Run consensus domain post fix"
   ]
  },
  {
   "cell_type": "code",
   "execution_count": 885,
   "metadata": {},
   "outputs": [],
   "source": [
    "consensus_taxonomy_votus['consensus_domain'] = consensus_taxonomy_votus[\n",
    "                                    'taxa'].str.split(',').str[0].str.replace(\n",
    "    r'^\\s*$','unknown',regex=True\n",
    ").str.replace(\n",
    "    \"Viruses\",\"unknown\"\n",
    ").str.replace(\n",
    "    \"cellular organisms\",\"unknown\").fillna('unknown')"
   ]
  },
  {
   "cell_type": "code",
   "execution_count": 886,
   "metadata": {},
   "outputs": [
    {
     "data": {
      "text/plain": [
       "array(['Bacteria', 'Archaea', 'unknown', 'Eukaryota'], dtype=object)"
      ]
     },
     "execution_count": 886,
     "metadata": {},
     "output_type": "execute_result"
    }
   ],
   "source": [
    "consensus_taxonomy_votus['consensus_domain'].unique()"
   ]
  },
  {
   "cell_type": "code",
   "execution_count": 887,
   "metadata": {},
   "outputs": [
    {
     "data": {
      "text/html": [
       "<div>\n",
       "<style scoped>\n",
       "    .dataframe tbody tr th:only-of-type {\n",
       "        vertical-align: middle;\n",
       "    }\n",
       "\n",
       "    .dataframe tbody tr th {\n",
       "        vertical-align: top;\n",
       "    }\n",
       "\n",
       "    .dataframe thead th {\n",
       "        text-align: right;\n",
       "    }\n",
       "</style>\n",
       "<table border=\"1\" class=\"dataframe\">\n",
       "  <thead>\n",
       "    <tr style=\"text-align: right;\">\n",
       "      <th></th>\n",
       "      <th>consensus_domain</th>\n",
       "      <th>votu</th>\n",
       "    </tr>\n",
       "  </thead>\n",
       "  <tbody>\n",
       "    <tr>\n",
       "      <th>0</th>\n",
       "      <td>Archaea</td>\n",
       "      <td>212</td>\n",
       "    </tr>\n",
       "    <tr>\n",
       "      <th>1</th>\n",
       "      <td>Bacteria</td>\n",
       "      <td>24248</td>\n",
       "    </tr>\n",
       "    <tr>\n",
       "      <th>2</th>\n",
       "      <td>Eukaryota</td>\n",
       "      <td>3</td>\n",
       "    </tr>\n",
       "    <tr>\n",
       "      <th>3</th>\n",
       "      <td>unknown</td>\n",
       "      <td>440</td>\n",
       "    </tr>\n",
       "  </tbody>\n",
       "</table>\n",
       "</div>"
      ],
      "text/plain": [
       "  consensus_domain   votu\n",
       "0          Archaea    212\n",
       "1         Bacteria  24248\n",
       "2        Eukaryota      3\n",
       "3          unknown    440"
      ]
     },
     "execution_count": 887,
     "metadata": {},
     "output_type": "execute_result"
    }
   ],
   "source": [
    "consensus_taxonomy_votus.groupby('consensus_domain',as_index=False).agg({'votu':'count'})"
   ]
  },
  {
   "cell_type": "markdown",
   "metadata": {
    "tags": []
   },
   "source": [
    "##### Some \"viruses\" still didn't receive a host name from hostvirusdb i.e. votus picked up by kaiju, can manually fix because not that many..."
   ]
  },
  {
   "cell_type": "code",
   "execution_count": 892,
   "metadata": {},
   "outputs": [],
   "source": [
    "# manual look up to create dictionary for host of viral lineages \n",
    "manual_host_dict = {\n",
    "'Viruses,Duplodnaviria,Heunggongvirae,Uroviricota,Caudoviricetes,Caudovirales,Siphoviridae,Timquatrovirus':\n",
    "    'Bacteria,Terrabacteria group,Actinobacteria,Actinomycetia,Corynebacteriales,Mycobacteriaceae',\n",
    "'Viruses,Duplodnaviria,Heunggongvirae,Uroviricota,Caudoviricetes,Caudovirales,Siphoviridae,Cheoctovirus':\n",
    "    'Bacteria,Terrabacteria group,Actinobacteria,Actinomycetia,Corynebacteriales,Mycobacteriaceae',\n",
    "'Viruses,Duplodnaviria,Heunggongvirae,Uroviricota,Caudoviricetes,Caudovirales,Siphoviridae,Avanivirus':\n",
    "    'Bacteria,Terrabacteria group,Actinobacteria,Actinomycetia,Corynebacteriales,Mycobacteriaceae',\n",
    "'Viruses,Duplodnaviria,Heunggongvirae,Uroviricota,Caudoviricetes,Caudovirales,Siphoviridae,Bronvirus':\n",
    "    'Bacteria,Terrabacteria group,Actinobacteria,Actinomycetia,Corynebacteriales,Mycobacteriaceae',\n",
    "'Viruses,Duplodnaviria,Heunggongvirae,Uroviricota,Caudoviricetes,Caudovirales,Siphoviridae,Fromanvirus':\n",
    "    'Bacteria,Terrabacteria group,Actinobacteria,Actinomycetia,Corynebacteriales,Mycobacteriaceae'\n",
    "}"
   ]
  },
  {
   "cell_type": "code",
   "execution_count": 897,
   "metadata": {},
   "outputs": [],
   "source": [
    "# replace values \n",
    "consensus_taxonomy_votus = consensus_taxonomy_votus.replace({'taxa':manual_host_dict})"
   ]
  },
  {
   "cell_type": "code",
   "execution_count": 905,
   "metadata": {},
   "outputs": [],
   "source": [
    "consensus_taxonomy_votus['consensus_domain'] = consensus_taxonomy_votus[\n",
    "                                    'taxa'].str.split(',').str[0].str.replace(\n",
    "    r'^\\s*$','unknown',regex=True\n",
    ").str.replace(\n",
    "    \"Viruses\",\"unknown\"\n",
    ").str.replace(\n",
    "    \"cellular organisms\",\"unknown\").fillna('unknown')"
   ]
  },
  {
   "cell_type": "code",
   "execution_count": 907,
   "metadata": {
    "scrolled": true
   },
   "outputs": [
    {
     "data": {
      "text/html": [
       "<div>\n",
       "<style scoped>\n",
       "    .dataframe tbody tr th:only-of-type {\n",
       "        vertical-align: middle;\n",
       "    }\n",
       "\n",
       "    .dataframe tbody tr th {\n",
       "        vertical-align: top;\n",
       "    }\n",
       "\n",
       "    .dataframe thead th {\n",
       "        text-align: right;\n",
       "    }\n",
       "</style>\n",
       "<table border=\"1\" class=\"dataframe\">\n",
       "  <thead>\n",
       "    <tr style=\"text-align: right;\">\n",
       "      <th></th>\n",
       "      <th>consensus_domain</th>\n",
       "      <th>votu</th>\n",
       "    </tr>\n",
       "  </thead>\n",
       "  <tbody>\n",
       "    <tr>\n",
       "      <th>0</th>\n",
       "      <td>Archaea</td>\n",
       "      <td>212</td>\n",
       "    </tr>\n",
       "    <tr>\n",
       "      <th>1</th>\n",
       "      <td>Bacteria</td>\n",
       "      <td>24329</td>\n",
       "    </tr>\n",
       "    <tr>\n",
       "      <th>2</th>\n",
       "      <td>Eukaryota</td>\n",
       "      <td>3</td>\n",
       "    </tr>\n",
       "    <tr>\n",
       "      <th>3</th>\n",
       "      <td>unknown</td>\n",
       "      <td>359</td>\n",
       "    </tr>\n",
       "  </tbody>\n",
       "</table>\n",
       "</div>"
      ],
      "text/plain": [
       "  consensus_domain   votu\n",
       "0          Archaea    212\n",
       "1         Bacteria  24329\n",
       "2        Eukaryota      3\n",
       "3          unknown    359"
      ]
     },
     "execution_count": 907,
     "metadata": {},
     "output_type": "execute_result"
    }
   ],
   "source": [
    "consensus_taxonomy_votus.groupby('consensus_domain',as_index=False).agg({'votu':'count'})"
   ]
  },
  {
   "cell_type": "markdown",
   "metadata": {},
   "source": [
    "##### write out ..."
   ]
  },
  {
   "cell_type": "code",
   "execution_count": 909,
   "metadata": {},
   "outputs": [],
   "source": [
    "consensus_taxonomy_votus = pd.read_csv(\n",
    "    '/groups/banfield/projects/environmental/4thwedge/2021/4Wh2oV/CRISPRs/votu_consensus_taxa2.tsv',\n",
    "                                       sep='\\t').fillna('unknown')"
   ]
  },
  {
   "cell_type": "code",
   "execution_count": 913,
   "metadata": {},
   "outputs": [
    {
     "data": {
      "image/png": "[encoded data removed]",
      "text/plain": [
       "<Figure size 432x288 with 1 Axes>"
      ]
     },
     "metadata": {
      "needs_background": "light"
     },
     "output_type": "display_data"
    }
   ],
   "source": [
    "sns.barplot(data = consensus_taxonomy_votus.groupby('consensus_domain',as_index=False).agg({'votu':'count'}),\n",
    "           x='consensus_domain',\n",
    "           y='votu',\n",
    "           palette='Set2')\n",
    "plt.xticks(rotation=90)\n",
    "plt.yscale('log')\n",
    "plt.show()\n",
    "\n",
    "# consensus_all_crispr_hits_filter['consensus_domain']"
   ]
  },
  {
   "cell_type": "markdown",
   "metadata": {},
   "source": [
    "Created curated list of taxonomies to use in analyses: \n",
    "1. want sub proteobacteria\n",
    "2. do not take phylum with \"group name\" in it  "
   ]
  },
  {
   "cell_type": "code",
   "execution_count": null,
   "metadata": {},
   "outputs": [],
   "source": [
    "array(['Alphaproteobacteria', 'Actinobacteria',\n",
    "       'delta/epsilon subdivisions', 'Gammaproteobacteria', 'Archaea',\n",
    "       'cellular organisms', 'Firmicutes', 'Terrabacteria group',\n",
    "       'Betaproteobacteria', 'Bacteria', 'unknown', 'Proteobacteria',\n",
    "       'Planctomycetes', 'Verrucomicrobia',\n",
    "       'Bacteroidetes/Chlorobi group', 'other bacterial phylum',\n",
    "       'Acidobacteria', 'CPR', 'Chlamydiae', 'Gemmatimonadetes',\n",
    "       'Eukaryota'], dtype=object)"
   ]
  },
  {
   "cell_type": "code",
   "execution_count": 19,
   "metadata": {},
   "outputs": [],
   "source": [
    "rachel_colors = {'Acidobacteria':                 '#A54657', #(reddish mauve)\n",
    "'Actinobacteria':                '#FFCC00', #(warm yellow)\n",
    "'Bacteroidetes':                 '#F7EE7F', #(cool yellow)\n",
    "'Archaea':      '#4DAA57', #(green)\n",
    "'Eukaryota':                   '#F9ECCC', #(cream)\n",
    "'Firmicutes':                    '#F1A66A', #(peach)\n",
    "'Gemmatimonadetes':              '#F26157', #(pink coral)\n",
    "'Planctomycetes':                '#679289', #(dark sea green)\n",
    "'Proteobacteria':               '#86BBD8', #(light blue)\n",
    "'Verrucomicrobia':               '#33658A', #(dark blue)\n",
    "'unknown': 'lightgrey',\n",
    "'other bacterial phyla': 'dimgrey'}"
   ]
  },
  {
   "cell_type": "code",
   "execution_count": 931,
   "metadata": {},
   "outputs": [],
   "source": [
    "def get_bacterial_phylum(string):\n",
    "    '''takes row and provides taxonomies to use in analyses. \n",
    "    These are top (most abundant) sub-domain / phyla of bacteria '''\n",
    "    \n",
    "    if 'Candidatus Omnitrophica' in string:\n",
    "        return \"other bacterial phyla\" \n",
    "    \n",
    "    elif 'Terrabacteria group' in string:\n",
    "        if len(string.split(\",\")) < 3:\n",
    "            return 'Terrabacteria group'\n",
    "        elif string.split(\",\")[2] in ['Chloroflexi','Deinococcus-Thermus', \n",
    "                                          'Cyanobacteria/Melainabacteria group',\n",
    "                                          'Tenericutes', 'Armatimonadetes']:\n",
    "            return 'Terrabacteria group'\n",
    "        else: return string.split(\",\")[2]\n",
    "    \n",
    "    elif \"Eukaryota\" in string:\n",
    "        return \"Eukaryota\"\n",
    "    elif \"arch\" in string.lower():\n",
    "        return \"Archaea\" \n",
    "    \n",
    "    \n",
    "    elif \"Proteobacteria\" in string:\n",
    "        if len(string.split(\",\")) < 3:\n",
    "            return \"Proteobacteria\"\n",
    "        else: \n",
    "            # classify oligoflexia and acidithiobacillia as Proteobacteria ... \n",
    "            if string.split(',')[2] in ['Acidithiobacillia','Oligoflexia']:\n",
    "                return \"Proteobacteria\"\n",
    "            else: return string.split(',')[2]\n",
    "    \n",
    "    elif \"Acido\" in string:\n",
    "        return \"Acidobacteria\"\n",
    "    \n",
    "    elif \"Bacteria incertae sedis\" in string:\n",
    "        if len(string.split(\",\")) < 3:\n",
    "            return 'other bacterial phylum'\n",
    "        elif \"Microgenomates\" in string:\n",
    "            return \"CPR\"\n",
    "        elif \"Saccharibacteria\" in string:\n",
    "            return \"CPR\"\n",
    "        else: return 'other bacterial phyla'\n",
    "        \n",
    "    elif len(string.split(\",\")) < 2:\n",
    "        return string\n",
    "    \n",
    "    elif \"group\" in string.split(\",\")[1]:\n",
    "        if len(string.split(\",\")) < 2:\n",
    "            return string\n",
    "        if len(string.split(\",\")) < 3:\n",
    "            return string.split(\",\")[1]\n",
    "        else: return string.split(',')[2]\n",
    "    \n",
    "    elif string.split(',')[1] in ['Calditrichaeota','Chrysiogenetes','Atribacterota','Dictyoglomi',\n",
    "                                 'Elusimicrobia','Synergistetes','Deferribacteres',\n",
    "                                 'Thermodesulfobacteria','Thermotogae','Nitrospirae','Fusobacteria',\n",
    "                                 'Aquificae','Duplodnaviria','Spirochaetes']:\n",
    "          return \"other bacterial phyla\"\n",
    "    \n",
    "    \n",
    "    elif 'cellular organisms' in string:\n",
    "        return \"unknown\"\n",
    "    \n",
    "    else: return string.split(',')[1]"
   ]
  },
  {
   "cell_type": "code",
   "execution_count": 932,
   "metadata": {},
   "outputs": [
    {
     "data": {
      "text/plain": [
       "count              24903\n",
       "unique                21\n",
       "top       Actinobacteria\n",
       "freq                8414\n",
       "Name: sub_domain_consensus, dtype: object"
      ]
     },
     "execution_count": 932,
     "metadata": {},
     "output_type": "execute_result"
    }
   ],
   "source": [
    "consensus_taxonomy_votus['sub_domain_consensus'] = consensus_taxonomy_votus[\"taxa\"].apply(\n",
    "    lambda x: get_bacterial_phylum(x)).str.replace(r'^\\s*$','unknown',regex=True).str.replace(\n",
    "    'cellular organisms',\"unknown\")\n",
    "consensus_taxonomy_votus['sub_domain_consensus'].describe()"
   ]
  },
  {
   "cell_type": "code",
   "execution_count": 933,
   "metadata": {},
   "outputs": [
    {
     "data": {
      "text/plain": [
       "array(['Alphaproteobacteria', 'Actinobacteria',\n",
       "       'delta/epsilon subdivisions', 'Gammaproteobacteria', 'Archaea',\n",
       "       'unknown', 'Firmicutes', 'Terrabacteria group',\n",
       "       'Betaproteobacteria', 'Bacteria', 'unclassified bacterial viruses',\n",
       "       'Proteobacteria', 'Planctomycetes', 'Verrucomicrobia',\n",
       "       'Bacteroidetes/Chlorobi group', 'other bacterial phyla',\n",
       "       'Acidobacteria', 'CPR', 'Chlamydiae', 'Gemmatimonadetes',\n",
       "       'Eukaryota'], dtype=object)"
      ]
     },
     "execution_count": 933,
     "metadata": {},
     "output_type": "execute_result"
    }
   ],
   "source": [
    "consensus_taxonomy_votus['sub_domain_consensus'].unique()"
   ]
  },
  {
   "cell_type": "code",
   "execution_count": 936,
   "metadata": {},
   "outputs": [],
   "source": [
    "consensus_taxonomy_votus = consensus_taxonomy_votus.replace(\n",
    "    {'sub_domain_consensus':{'unclassified bacterial viruses':'Bacteria'}})"
   ]
  },
  {
   "cell_type": "code",
   "execution_count": 944,
   "metadata": {},
   "outputs": [],
   "source": [
    "consensus_taxonomy_votus.to_csv(\n",
    "'/groups/banfield/projects/environmental/4thwedge/2021/4Wh2oV/CRISPRs/host_info/consensus_host_taxa_3.csv',\n",
    "                                       index=False)"
   ]
  },
  {
   "cell_type": "code",
   "execution_count": 17,
   "metadata": {},
   "outputs": [],
   "source": [
    "consensus_taxonomy_votus = pd.read_csv(\n",
    "'/groups/banfield/projects/environmental/4thwedge/2021/4Wh2oV/CRISPRs/host_info/consensus_host_taxa_3.csv' \n",
    ")"
   ]
  },
  {
   "cell_type": "code",
   "execution_count": 20,
   "metadata": {
    "tags": []
   },
   "outputs": [],
   "source": [
    "lazy_coloring = {}\n",
    "for taxa in consensus_taxonomy_votus['sub_domain_consensus'].unique():\n",
    "        if \"arch\" in taxa.lower():\n",
    "             lazy_coloring[taxa] = rachel_colors[taxa]\n",
    "        elif \"Eukaryota\" in taxa:\n",
    "            lazy_coloring[taxa] =  rachel_colors[taxa]\n",
    "        elif \"proteobacteria\" in taxa.lower():\n",
    "            lazy_coloring[taxa] = rachel_colors['Proteobacteria']\n",
    "        elif \"delta\" in taxa.lower():\n",
    "            lazy_coloring[taxa] = rachel_colors['Proteobacteria']\n",
    "            \n",
    "        elif \"Bacteroidetes\" in taxa:\n",
    "            lazy_coloring[taxa] = rachel_colors['Bacteroidetes']\n",
    "            \n",
    "        elif \"Bacteria\" in taxa:\n",
    "            lazy_coloring[taxa]='dimgrey'\n",
    "        elif \"CPR\" in taxa:\n",
    "            lazy_coloring[taxa]='#9ebd8f'\n",
    "        elif \"Terrabacteria group\" in taxa:\n",
    "            lazy_coloring[taxa] ='#f17e6a'\n",
    "        elif \"Chlamydiae\" in taxa:\n",
    "            lazy_coloring[taxa] = '#7494ab'\n",
    "        \n",
    "        else: lazy_coloring[taxa] = rachel_colors[taxa]"
   ]
  },
  {
   "cell_type": "code",
   "execution_count": 22,
   "metadata": {},
   "outputs": [],
   "source": [
    "sub_domain_order = ['Actinobacteria',\n",
    "    'Alphaproteobacteria',  'Betaproteobacteria', 'Gammaproteobacteria', 'delta/epsilon subdivisions', 'Proteobacteria',\n",
    "    'Firmicutes', 'Bacteroidetes/Chlorobi group','Terrabacteria group', 'Planctomycetes', 'Verrucomicrobia', \n",
    "    'Gemmatimonadetes','CPR', \"Chlamydiae\",\n",
    "    'Archaea',  'Eukaryota', 'Bacteria','other bacterial phyla','unknown',  \n",
    "]"
   ]
  },
  {
   "cell_type": "code",
   "execution_count": 26,
   "metadata": {},
   "outputs": [
    {
     "name": "stderr",
     "output_type": "stream",
     "text": [
      "No artists with labels found to put in legend.  Note that artists whose label start with an underscore are ignored when legend() is called with no argument.\n"
     ]
    },
    {
     "data": {
      "image/png": "[encoded data removed]",
      "text/plain": [
       "<Figure size 432x288 with 1 Axes>"
      ]
     },
     "metadata": {
      "needs_background": "light"
     },
     "output_type": "display_data"
    }
   ],
   "source": [
    "data = consensus_taxonomy_votus\\\n",
    "    .groupby('sub_domain_consensus',as_index=False)\\\n",
    "    .agg({'votu':'count'})\\\n",
    "    .sort_values('votu',ascending=False)\n",
    "data['cat']=data['sub_domain_consensus'].map(lazy_coloring)\n",
    "sns.barplot(x='sub_domain_consensus',\n",
    "           y='votu',\n",
    "            # hue = 'sub_domain_consensus', \n",
    "            data = data,\n",
    "            # order = sub_domain_order,\n",
    "            dodge=False,\n",
    "           palette=lazy_coloring)\n",
    "plt.xticks(rotation=90)\n",
    "plt.legend(bbox_to_anchor=(1.05, 1), loc=2, borderaxespad=0.)\n",
    "plt.yscale('log')\n",
    "plt.savefig(\n",
    "'/groups/banfield/projects/environmental/4thwedge/2021/4Wh2oV/figures_out/pHost/barplot_votuhost_phylum_update.pdf',\n",
    "    format='pdf'\n",
    ")\n",
    "plt.show()"
   ]
  }
 ],
 "metadata": {
  "kernelspec": {
   "display_name": "Python 3",
   "language": "python",
   "name": "python3"
  },
  "language_info": {
   "codemirror_mode": {
    "name": "ipython",
    "version": 3
   },
   "file_extension": ".py",
   "mimetype": "text/x-python",
   "name": "python",
   "nbconvert_exporter": "python",
   "pygments_lexer": "ipython3",
   "version": "3.8.2"
  },
  "toc-autonumbering": false,
  "toc-showcode": false,
  "toc-showmarkdowntxt": false,
  "toc-showtags": false
 },
 "nbformat": 4,
 "nbformat_minor": 4
}
